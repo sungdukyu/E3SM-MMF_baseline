{
 "cells": [
  {
   "cell_type": "code",
   "execution_count": 1,
   "id": "de773f75-55ec-42ce-8085-4d4ab6968e81",
   "metadata": {},
   "outputs": [
    {
     "name": "stderr",
     "output_type": "stream",
     "text": [
      "2023-06-05 16:44:25.878807: I tensorflow/core/platform/cpu_feature_guard.cc:182] This TensorFlow binary is optimized to use available CPU instructions in performance-critical operations.\n",
      "To enable the following instructions: AVX2 FMA, in other operations, rebuild TensorFlow with the appropriate compiler flags.\n",
      "2023-06-05 16:44:28.733491: W tensorflow/compiler/tf2tensorrt/utils/py_utils.cc:38] TF-TRT Warning: Could not find TensorRT\n"
     ]
    }
   ],
   "source": [
    "import json\n",
    "import pickle\n",
    "import csv\n",
    "import xarray as xr\n",
    "import numpy as np\n",
    "import matplotlib.pyplot as plt\n",
    "import glob, os\n",
    "import random\n",
    "\n",
    "import tensorflow as tf\n",
    "from tensorflow import keras"
   ]
  },
  {
   "cell_type": "code",
   "execution_count": 2,
   "id": "affc0d16-f6da-4e1b-b625-ca1368b97d18",
   "metadata": {},
   "outputs": [],
   "source": [
    "# Convert to pressure\n",
    "def convert_to_Pressure(hyai,hybi,PS,P0):\n",
    "    Dimension1=hyai.shape\n",
    "    Dimension2=PS.shape\n",
    "    Pressure = np.zeros([Dimension2[1],Dimension1[0]])\n",
    "    \n",
    "    for i in range(Dimension2[1]):\n",
    "        Pressure[i,:] = (P0*hyai[:] + PS[0,i]*hybi[:])\n",
    "    return Pressure"
   ]
  },
  {
   "cell_type": "code",
   "execution_count": 3,
   "id": "2d568c8b-3dd0-4f09-92a1-8eac3330463b",
   "metadata": {},
   "outputs": [],
   "source": [
    "ne4_grid_info = xr.open_dataset('./test_data/E3SM-MMF_ne4_grid-info.orig.nc')\n",
    "lon = ne4_grid_info.lon.values\n",
    "lat = ne4_grid_info.lat.values\n",
    "area = ne4_grid_info.area.values\n",
    "hyai = ne4_grid_info.hyai.values\n",
    "hybi = ne4_grid_info.hybi.values\n",
    "hyam = ne4_grid_info.hyam.values\n",
    "hybm = ne4_grid_info.hybm.values\n",
    "PS = ne4_grid_info.PS.values\n",
    "P0 = ne4_grid_info.P0.values"
   ]
  },
  {
   "cell_type": "code",
   "execution_count": 11,
   "id": "f9763105-440b-4c45-9ff1-da105cc01ef0",
   "metadata": {},
   "outputs": [
    {
     "data": {
      "text/plain": [
       "1.000000017058161"
      ]
     },
     "execution_count": 11,
     "metadata": {},
     "output_type": "execute_result"
    }
   ],
   "source": []
  },
  {
   "cell_type": "code",
   "execution_count": 15,
   "id": "c5d4d55a-0446-4307-b3e4-0256b1e39e4c",
   "metadata": {},
   "outputs": [],
   "source": [
    "ncol = 384\n",
    "nlev = 60"
   ]
  },
  {
   "cell_type": "code",
   "execution_count": 16,
   "id": "28d07f5b-0e8a-4268-8b30-e9779888ced2",
   "metadata": {},
   "outputs": [],
   "source": [
    "Prei = convert_to_Pressure(hyai,hybi,PS,P0)\n",
    "Prem = convert_to_Pressure(hyam,hybm,PS,P0)"
   ]
  },
  {
   "cell_type": "code",
   "execution_count": 17,
   "id": "5fced090-3dae-4b7f-a962-5d3968cefaca",
   "metadata": {},
   "outputs": [],
   "source": [
    "dPre = Prei[:,1:nlev+1] - Prei[:,0:nlev] "
   ]
  },
  {
   "cell_type": "code",
   "execution_count": 18,
   "id": "37b2470c-a689-4202-b84d-2410eaae5d9d",
   "metadata": {},
   "outputs": [
    {
     "name": "stdout",
     "output_type": "stream",
     "text": [
      "1.0\n"
     ]
    }
   ],
   "source": [
    "import math \n",
    "print (area.sum()/(4*math.pi)) "
   ]
  },
  {
   "cell_type": "code",
   "execution_count": 19,
   "id": "c0f92253-365f-49ad-bb21-ed2646ea1627",
   "metadata": {},
   "outputs": [],
   "source": [
    "mweightpre    =  dPre/9.8  # dP/g"
   ]
  },
  {
   "cell_type": "code",
   "execution_count": 20,
   "id": "15795ffa-1d00-4fe4-86bf-754f9842d7f6",
   "metadata": {},
   "outputs": [],
   "source": [
    "mweightpre = np.zeros([ncol,nlev])\n",
    "for k in range(nlev):\n",
    "    mweightpre[:,k]    =  area*dPre[:,k]/9.8/(4*math.pi)"
   ]
  },
  {
   "cell_type": "code",
   "execution_count": 9,
   "id": "8b2236a9-cff4-4f0b-85fc-43545bfb7af6",
   "metadata": {},
   "outputs": [
    {
     "data": {
      "text/plain": [
       "(384, 60)"
      ]
     },
     "execution_count": 9,
     "metadata": {},
     "output_type": "execute_result"
    }
   ],
   "source": [
    "Prem.shape"
   ]
  },
  {
   "cell_type": "code",
   "execution_count": 22,
   "id": "a550c558-b2bc-478c-b25e-15beb11b3a02",
   "metadata": {},
   "outputs": [],
   "source": [
    "import os\n",
    "import netCDF4 as nc\n",
    "# Create a new NetCDF file\n",
    "filename = \"mass_weight_area_pressure.nc\"\n",
    "        \n",
    "ncfile = nc.Dataset(filename, \"w\", format=\"NETCDF4\")\n",
    "\n",
    "# Define the dimensions\n",
    "time_dim = ncfile.createDimension(\"time\", None)  # Unlimited dimension\n",
    "lat_dim = ncfile.createDimension(\"ncol\", ncol)\n",
    "pre2_dim = ncfile.createDimension(\"nlev2\", nlev+1)\n",
    "pre_dim = ncfile.createDimension(\"nlev\", nlev)\n",
    "# Create variables\n",
    "time_var = ncfile.createVariable(\"time\", \"f8\", (\"time\",))\n",
    "lon_var = ncfile.createVariable(\"lon\", \"f4\", (\"ncol\",))\n",
    "lat_var = ncfile.createVariable(\"lat\", \"f4\", (\"ncol\",))\n",
    "area_var = ncfile.createVariable(\"area\", \"f4\", (\"ncol\",))\n",
    "data_var3 = ncfile.createVariable(\"mweightpre\", \"f8\", (\"nlev\",\"ncol\"))\n",
    "data_var4 = ncfile.createVariable(\"Pressurem\", \"f8\", (\"nlev\",\"ncol\"))\n",
    "data_var5 = ncfile.createVariable(\"Pressurei\", \"f8\", (\"nlev2\",\"ncol\"))\n",
    "\n",
    "data_var3.long_name = \"Area Mass weight coefficient (area*dP/g) normalized vertically and by 4pi\"\n",
    "data_var4.long_name = \"Pressure at mid level\"\n",
    "data_var5.long_name = \"Pressure at interface\"\n",
    "\n",
    "# Assign values to variables\n",
    "time_var[:] = [1]  # Example time values\n",
    "lon_var[:] = lon    # Example latitude values\n",
    "lat_var[:] = lat  # Example longitude values\n",
    "area_var[:] = area  # Example longitude values\n",
    "data_var3[:,:] = np.transpose(mweightpre)\n",
    "data_var4[:,:] = np.transpose(Prem)\n",
    "data_var5[:,:] = np.transpose(Prei)\n",
    "# Add global attributes\n",
    "ncfile.description = \"R2\"\n",
    "ncfile.history = \"Created by Liran\"\n",
    "\n",
    "# Close the NetCDF file\n",
    "ncfile.close()\n",
    "    "
   ]
  },
  {
   "cell_type": "code",
   "execution_count": null,
   "id": "e7ed34f3-1910-42c1-8823-8e2f4aca9c15",
   "metadata": {},
   "outputs": [],
   "source": []
  },
  {
   "cell_type": "code",
   "execution_count": null,
   "id": "d4ce8cb9-2019-474c-be3a-12060de5eb92",
   "metadata": {},
   "outputs": [],
   "source": []
  },
  {
   "cell_type": "code",
   "execution_count": null,
   "id": "89de9acf-e033-4a5a-aff2-e4871ec4df9a",
   "metadata": {},
   "outputs": [],
   "source": []
  },
  {
   "cell_type": "code",
   "execution_count": null,
   "id": "e848921c-c385-4b46-bc97-df75bbae7b6b",
   "metadata": {},
   "outputs": [],
   "source": []
  }
 ],
 "metadata": {
  "kernelspec": {
   "display_name": "NERSC Python",
   "language": "python",
   "name": "python3"
  },
  "language_info": {
   "codemirror_mode": {
    "name": "ipython",
    "version": 3
   },
   "file_extension": ".py",
   "mimetype": "text/x-python",
   "name": "python",
   "nbconvert_exporter": "python",
   "pygments_lexer": "ipython3",
   "version": "3.9.7"
  }
 },
 "nbformat": 4,
 "nbformat_minor": 5
}
