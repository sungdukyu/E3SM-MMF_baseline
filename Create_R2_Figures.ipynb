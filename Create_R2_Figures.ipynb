{
 "cells": [
  {
   "cell_type": "code",
   "execution_count": 8,
   "id": "c33a7f46-d8ff-45e1-b7f4-37f581a85f71",
   "metadata": {},
   "outputs": [
    {
     "name": "stderr",
     "output_type": "stream",
     "text": [
      "2023-05-25 00:57:01.372385: I tensorflow/core/platform/cpu_feature_guard.cc:182] This TensorFlow binary is optimized to use available CPU instructions in performance-critical operations.\n",
      "To enable the following instructions: AVX2 FMA, in other operations, rebuild TensorFlow with the appropriate compiler flags.\n",
      "2023-05-25 00:57:02.073817: W tensorflow/compiler/tf2tensorrt/utils/py_utils.cc:38] TF-TRT Warning: Could not find TensorRT\n"
     ]
    },
    {
     "name": "stdout",
     "output_type": "stream",
     "text": [
      "[]\n"
     ]
    },
    {
     "name": "stderr",
     "output_type": "stream",
     "text": [
      "2023-05-25 00:57:02.936254: W tensorflow/core/common_runtime/gpu/gpu_device.cc:1956] Cannot dlopen some GPU libraries. Please make sure the missing libraries mentioned above are installed properly if you would like to use GPU. Follow the guide at https://www.tensorflow.org/install/gpu for how to download and setup the required libraries for your platform.\n",
      "Skipping registering GPU devices...\n"
     ]
    }
   ],
   "source": [
    "import pandas as pd\n",
    "from scipy import stats\n",
    "from matplotlib import cm, colors\n",
    "from mpl_toolkits.axes_grid1 import ImageGrid\n",
    "import json\n",
    "import pickle\n",
    "import csv\n",
    "import xarray as xr\n",
    "import numpy as np\n",
    "import matplotlib.pyplot as plt\n",
    "import glob, os\n",
    "import random\n",
    "\n",
    "import tensorflow as tf\n",
    "from tensorflow import keras\n",
    "\n",
    "physical_devices = tf.config.list_physical_devices('GPU')\n",
    "print(physical_devices)\n",
    "try:\n",
    "    for kgpu in range(len(physical_devices)):\n",
    "        tf.config.experimental.set_memory_growth(physical_devices[kgpu], True)\n",
    "except:\n",
    "    # Invalid device or cannot modify virtual devices once initialized.\n",
    "    pass\n",
    "#import psyplot.plotting.mapplot as mplot\n",
    "import psyplot.project as psy\n",
    "import matplotlib as mpl\n",
    "%matplotlib inline\n",
    "%config InlineBackend.close_figures = False"
   ]
  },
  {
   "cell_type": "code",
   "execution_count": 12,
   "id": "d00cbb71-826b-4969-8886-57b7f7d6247b",
   "metadata": {},
   "outputs": [],
   "source": [
    "# Estimate R2 based on Mooers et al. diagnostics\n",
    "def estimate_R2_out(y_true,y_pred,nlev,nday,nlat):\n",
    "    Dimension=y_true.shape\n",
    "    R2 = np.zeros([nlev,nlat])\n",
    "    SSE = np.zeros([nlev,nlat])\n",
    "    SVAR = np.zeros([nlev,nlat])\n",
    "    for i in range(nlat):\n",
    "        for z in range(nlev):\n",
    "            y_true_temp = y_true[z,:,i]\n",
    "            y_pred_temp = y_pred[z,:,i]\n",
    "            y_true_temp.shape\n",
    "            SSE[z,i] = np.sum((y_true_temp-y_pred_temp)**2.0)\n",
    "            SVAR[z,i] = np.sum((y_true_temp-np.mean(y_true_temp))**2.0)\n",
    "            R2[z,i] = 1-(SSE[z,i]/SVAR[z,i])\n",
    "        \n",
    "    return SSE,SVAR,R2"
   ]
  },
  {
   "cell_type": "code",
   "execution_count": null,
   "id": "add3db36-fa03-4dc6-9ec1-3f5b3c99695d",
   "metadata": {},
   "outputs": [
    {
     "name": "stdout",
     "output_type": "stream",
     "text": [
      "/pscratch/sd/h/heroplr/R2_analysis/regrid/step2_lot-37_trial_0135.best_aave.nc\n"
     ]
    },
    {
     "name": "stderr",
     "output_type": "stream",
     "text": [
      "/tmp/ipykernel_103632/2418165556.py:14: RuntimeWarning: divide by zero encountered in double_scalars\n",
      "  R2[z,i] = 1-(SSE[z,i]/SVAR[z,i])\n",
      "/tmp/ipykernel_103632/3271378258.py:36: UserWarning: The input coordinates to pcolor are interpreted as cell centers, but are not monotonically increasing or decreasing. This may lead to incorrectly calculated cell edges, in which case, please supply explicit cell edges to pcolor.\n",
      "  contour_plot = ax[0].pcolor(XpC, P2_reshape_lat/100, TR2v2, cmap = 'Blues', vmin = 0, vmax = 1.0)\n",
      "/tmp/ipykernel_103632/3271378258.py:46: UserWarning: The input coordinates to pcolor are interpreted as cell centers, but are not monotonically increasing or decreasing. This may lead to incorrectly calculated cell edges, in which case, please supply explicit cell edges to pcolor.\n",
      "  ax[1].pcolor(XpC, P2_reshape_lat/100, QR2v2,  cmap = 'Blues', vmin = 0, vmax = 1.0)\n"
     ]
    },
    {
     "name": "stdout",
     "output_type": "stream",
     "text": [
      "/pscratch/sd/h/heroplr/R2_analysis/regrid/step2_lot-42_trial_0110.best_aave.nc\n"
     ]
    },
    {
     "name": "stderr",
     "output_type": "stream",
     "text": [
      "/tmp/ipykernel_103632/2418165556.py:14: RuntimeWarning: divide by zero encountered in double_scalars\n",
      "  R2[z,i] = 1-(SSE[z,i]/SVAR[z,i])\n",
      "/tmp/ipykernel_103632/3271378258.py:36: UserWarning: The input coordinates to pcolor are interpreted as cell centers, but are not monotonically increasing or decreasing. This may lead to incorrectly calculated cell edges, in which case, please supply explicit cell edges to pcolor.\n",
      "  contour_plot = ax[0].pcolor(XpC, P2_reshape_lat/100, TR2v2, cmap = 'Blues', vmin = 0, vmax = 1.0)\n",
      "/tmp/ipykernel_103632/3271378258.py:46: UserWarning: The input coordinates to pcolor are interpreted as cell centers, but are not monotonically increasing or decreasing. This may lead to incorrectly calculated cell edges, in which case, please supply explicit cell edges to pcolor.\n",
      "  ax[1].pcolor(XpC, P2_reshape_lat/100, QR2v2,  cmap = 'Blues', vmin = 0, vmax = 1.0)\n"
     ]
    },
    {
     "name": "stdout",
     "output_type": "stream",
     "text": [
      "/pscratch/sd/h/heroplr/R2_analysis/regrid/step2_lot-35_trial_0070.last_aave.nc\n"
     ]
    },
    {
     "name": "stderr",
     "output_type": "stream",
     "text": [
      "/tmp/ipykernel_103632/2418165556.py:14: RuntimeWarning: divide by zero encountered in double_scalars\n",
      "  R2[z,i] = 1-(SSE[z,i]/SVAR[z,i])\n",
      "/tmp/ipykernel_103632/3271378258.py:36: UserWarning: The input coordinates to pcolor are interpreted as cell centers, but are not monotonically increasing or decreasing. This may lead to incorrectly calculated cell edges, in which case, please supply explicit cell edges to pcolor.\n",
      "  contour_plot = ax[0].pcolor(XpC, P2_reshape_lat/100, TR2v2, cmap = 'Blues', vmin = 0, vmax = 1.0)\n",
      "/tmp/ipykernel_103632/3271378258.py:46: UserWarning: The input coordinates to pcolor are interpreted as cell centers, but are not monotonically increasing or decreasing. This may lead to incorrectly calculated cell edges, in which case, please supply explicit cell edges to pcolor.\n",
      "  ax[1].pcolor(XpC, P2_reshape_lat/100, QR2v2,  cmap = 'Blues', vmin = 0, vmax = 1.0)\n"
     ]
    },
    {
     "name": "stdout",
     "output_type": "stream",
     "text": [
      "/pscratch/sd/h/heroplr/R2_analysis/regrid/step2_lot-33_trial_0093.last_aave.nc\n"
     ]
    },
    {
     "name": "stderr",
     "output_type": "stream",
     "text": [
      "/tmp/ipykernel_103632/2418165556.py:14: RuntimeWarning: divide by zero encountered in double_scalars\n",
      "  R2[z,i] = 1-(SSE[z,i]/SVAR[z,i])\n",
      "/tmp/ipykernel_103632/3271378258.py:36: UserWarning: The input coordinates to pcolor are interpreted as cell centers, but are not monotonically increasing or decreasing. This may lead to incorrectly calculated cell edges, in which case, please supply explicit cell edges to pcolor.\n",
      "  contour_plot = ax[0].pcolor(XpC, P2_reshape_lat/100, TR2v2, cmap = 'Blues', vmin = 0, vmax = 1.0)\n",
      "/tmp/ipykernel_103632/3271378258.py:46: UserWarning: The input coordinates to pcolor are interpreted as cell centers, but are not monotonically increasing or decreasing. This may lead to incorrectly calculated cell edges, in which case, please supply explicit cell edges to pcolor.\n",
      "  ax[1].pcolor(XpC, P2_reshape_lat/100, QR2v2,  cmap = 'Blues', vmin = 0, vmax = 1.0)\n"
     ]
    },
    {
     "name": "stdout",
     "output_type": "stream",
     "text": [
      "/pscratch/sd/h/heroplr/R2_analysis/regrid/step2_lot-35_trial_0102.last_aave.nc\n"
     ]
    },
    {
     "name": "stderr",
     "output_type": "stream",
     "text": [
      "/tmp/ipykernel_103632/2418165556.py:14: RuntimeWarning: divide by zero encountered in double_scalars\n",
      "  R2[z,i] = 1-(SSE[z,i]/SVAR[z,i])\n",
      "/tmp/ipykernel_103632/3271378258.py:36: UserWarning: The input coordinates to pcolor are interpreted as cell centers, but are not monotonically increasing or decreasing. This may lead to incorrectly calculated cell edges, in which case, please supply explicit cell edges to pcolor.\n",
      "  contour_plot = ax[0].pcolor(XpC, P2_reshape_lat/100, TR2v2, cmap = 'Blues', vmin = 0, vmax = 1.0)\n",
      "/tmp/ipykernel_103632/3271378258.py:46: UserWarning: The input coordinates to pcolor are interpreted as cell centers, but are not monotonically increasing or decreasing. This may lead to incorrectly calculated cell edges, in which case, please supply explicit cell edges to pcolor.\n",
      "  ax[1].pcolor(XpC, P2_reshape_lat/100, QR2v2,  cmap = 'Blues', vmin = 0, vmax = 1.0)\n"
     ]
    },
    {
     "name": "stdout",
     "output_type": "stream",
     "text": [
      "/pscratch/sd/h/heroplr/R2_analysis/regrid/step2_lot-37_trial_0035.best_aave.nc\n"
     ]
    },
    {
     "name": "stderr",
     "output_type": "stream",
     "text": [
      "/tmp/ipykernel_103632/2418165556.py:14: RuntimeWarning: divide by zero encountered in double_scalars\n",
      "  R2[z,i] = 1-(SSE[z,i]/SVAR[z,i])\n",
      "/tmp/ipykernel_103632/3271378258.py:36: UserWarning: The input coordinates to pcolor are interpreted as cell centers, but are not monotonically increasing or decreasing. This may lead to incorrectly calculated cell edges, in which case, please supply explicit cell edges to pcolor.\n",
      "  contour_plot = ax[0].pcolor(XpC, P2_reshape_lat/100, TR2v2, cmap = 'Blues', vmin = 0, vmax = 1.0)\n",
      "/tmp/ipykernel_103632/3271378258.py:46: UserWarning: The input coordinates to pcolor are interpreted as cell centers, but are not monotonically increasing or decreasing. This may lead to incorrectly calculated cell edges, in which case, please supply explicit cell edges to pcolor.\n",
      "  ax[1].pcolor(XpC, P2_reshape_lat/100, QR2v2,  cmap = 'Blues', vmin = 0, vmax = 1.0)\n"
     ]
    },
    {
     "name": "stdout",
     "output_type": "stream",
     "text": [
      "/pscratch/sd/h/heroplr/R2_analysis/regrid/step2_lot-33_trial_0093.best_aave.nc\n"
     ]
    },
    {
     "name": "stderr",
     "output_type": "stream",
     "text": [
      "/tmp/ipykernel_103632/2418165556.py:14: RuntimeWarning: divide by zero encountered in double_scalars\n",
      "  R2[z,i] = 1-(SSE[z,i]/SVAR[z,i])\n",
      "/tmp/ipykernel_103632/3271378258.py:36: UserWarning: The input coordinates to pcolor are interpreted as cell centers, but are not monotonically increasing or decreasing. This may lead to incorrectly calculated cell edges, in which case, please supply explicit cell edges to pcolor.\n",
      "  contour_plot = ax[0].pcolor(XpC, P2_reshape_lat/100, TR2v2, cmap = 'Blues', vmin = 0, vmax = 1.0)\n",
      "/tmp/ipykernel_103632/3271378258.py:46: UserWarning: The input coordinates to pcolor are interpreted as cell centers, but are not monotonically increasing or decreasing. This may lead to incorrectly calculated cell edges, in which case, please supply explicit cell edges to pcolor.\n",
      "  ax[1].pcolor(XpC, P2_reshape_lat/100, QR2v2,  cmap = 'Blues', vmin = 0, vmax = 1.0)\n"
     ]
    },
    {
     "name": "stdout",
     "output_type": "stream",
     "text": [
      "/pscratch/sd/h/heroplr/R2_analysis/regrid/step2_lot-40_trial_0111.last_aave.nc\n"
     ]
    },
    {
     "name": "stderr",
     "output_type": "stream",
     "text": [
      "/tmp/ipykernel_103632/2418165556.py:14: RuntimeWarning: divide by zero encountered in double_scalars\n",
      "  R2[z,i] = 1-(SSE[z,i]/SVAR[z,i])\n",
      "/tmp/ipykernel_103632/3271378258.py:36: UserWarning: The input coordinates to pcolor are interpreted as cell centers, but are not monotonically increasing or decreasing. This may lead to incorrectly calculated cell edges, in which case, please supply explicit cell edges to pcolor.\n",
      "  contour_plot = ax[0].pcolor(XpC, P2_reshape_lat/100, TR2v2, cmap = 'Blues', vmin = 0, vmax = 1.0)\n",
      "/tmp/ipykernel_103632/3271378258.py:46: UserWarning: The input coordinates to pcolor are interpreted as cell centers, but are not monotonically increasing or decreasing. This may lead to incorrectly calculated cell edges, in which case, please supply explicit cell edges to pcolor.\n",
      "  ax[1].pcolor(XpC, P2_reshape_lat/100, QR2v2,  cmap = 'Blues', vmin = 0, vmax = 1.0)\n"
     ]
    },
    {
     "name": "stdout",
     "output_type": "stream",
     "text": [
      "/pscratch/sd/h/heroplr/R2_analysis/regrid/step2_lot-60_trial_0027.best_aave.nc\n"
     ]
    },
    {
     "name": "stderr",
     "output_type": "stream",
     "text": [
      "/tmp/ipykernel_103632/2418165556.py:14: RuntimeWarning: divide by zero encountered in double_scalars\n",
      "  R2[z,i] = 1-(SSE[z,i]/SVAR[z,i])\n",
      "/tmp/ipykernel_103632/3271378258.py:36: UserWarning: The input coordinates to pcolor are interpreted as cell centers, but are not monotonically increasing or decreasing. This may lead to incorrectly calculated cell edges, in which case, please supply explicit cell edges to pcolor.\n",
      "  contour_plot = ax[0].pcolor(XpC, P2_reshape_lat/100, TR2v2, cmap = 'Blues', vmin = 0, vmax = 1.0)\n",
      "/tmp/ipykernel_103632/3271378258.py:46: UserWarning: The input coordinates to pcolor are interpreted as cell centers, but are not monotonically increasing or decreasing. This may lead to incorrectly calculated cell edges, in which case, please supply explicit cell edges to pcolor.\n",
      "  ax[1].pcolor(XpC, P2_reshape_lat/100, QR2v2,  cmap = 'Blues', vmin = 0, vmax = 1.0)\n"
     ]
    },
    {
     "name": "stdout",
     "output_type": "stream",
     "text": [
      "/pscratch/sd/h/heroplr/R2_analysis/regrid/step2_lot-37_trial_0031.last_aave.nc\n"
     ]
    },
    {
     "name": "stderr",
     "output_type": "stream",
     "text": [
      "/tmp/ipykernel_103632/2418165556.py:14: RuntimeWarning: divide by zero encountered in double_scalars\n",
      "  R2[z,i] = 1-(SSE[z,i]/SVAR[z,i])\n",
      "/tmp/ipykernel_103632/3271378258.py:36: UserWarning: The input coordinates to pcolor are interpreted as cell centers, but are not monotonically increasing or decreasing. This may lead to incorrectly calculated cell edges, in which case, please supply explicit cell edges to pcolor.\n",
      "  contour_plot = ax[0].pcolor(XpC, P2_reshape_lat/100, TR2v2, cmap = 'Blues', vmin = 0, vmax = 1.0)\n",
      "/tmp/ipykernel_103632/3271378258.py:46: UserWarning: The input coordinates to pcolor are interpreted as cell centers, but are not monotonically increasing or decreasing. This may lead to incorrectly calculated cell edges, in which case, please supply explicit cell edges to pcolor.\n",
      "  ax[1].pcolor(XpC, P2_reshape_lat/100, QR2v2,  cmap = 'Blues', vmin = 0, vmax = 1.0)\n"
     ]
    },
    {
     "name": "stdout",
     "output_type": "stream",
     "text": [
      "/pscratch/sd/h/heroplr/R2_analysis/regrid/step2_lot-32_trial_0105.best_aave.nc\n"
     ]
    },
    {
     "name": "stderr",
     "output_type": "stream",
     "text": [
      "/tmp/ipykernel_103632/2418165556.py:14: RuntimeWarning: divide by zero encountered in double_scalars\n",
      "  R2[z,i] = 1-(SSE[z,i]/SVAR[z,i])\n",
      "/tmp/ipykernel_103632/3271378258.py:36: UserWarning: The input coordinates to pcolor are interpreted as cell centers, but are not monotonically increasing or decreasing. This may lead to incorrectly calculated cell edges, in which case, please supply explicit cell edges to pcolor.\n",
      "  contour_plot = ax[0].pcolor(XpC, P2_reshape_lat/100, TR2v2, cmap = 'Blues', vmin = 0, vmax = 1.0)\n",
      "/tmp/ipykernel_103632/3271378258.py:46: UserWarning: The input coordinates to pcolor are interpreted as cell centers, but are not monotonically increasing or decreasing. This may lead to incorrectly calculated cell edges, in which case, please supply explicit cell edges to pcolor.\n",
      "  ax[1].pcolor(XpC, P2_reshape_lat/100, QR2v2,  cmap = 'Blues', vmin = 0, vmax = 1.0)\n"
     ]
    },
    {
     "name": "stdout",
     "output_type": "stream",
     "text": [
      "/pscratch/sd/h/heroplr/R2_analysis/regrid/step2_lot-25_trial_0003.last_aave.nc\n"
     ]
    },
    {
     "name": "stderr",
     "output_type": "stream",
     "text": [
      "/tmp/ipykernel_103632/2418165556.py:14: RuntimeWarning: divide by zero encountered in double_scalars\n",
      "  R2[z,i] = 1-(SSE[z,i]/SVAR[z,i])\n",
      "/tmp/ipykernel_103632/3271378258.py:36: UserWarning: The input coordinates to pcolor are interpreted as cell centers, but are not monotonically increasing or decreasing. This may lead to incorrectly calculated cell edges, in which case, please supply explicit cell edges to pcolor.\n",
      "  contour_plot = ax[0].pcolor(XpC, P2_reshape_lat/100, TR2v2, cmap = 'Blues', vmin = 0, vmax = 1.0)\n",
      "/tmp/ipykernel_103632/3271378258.py:46: UserWarning: The input coordinates to pcolor are interpreted as cell centers, but are not monotonically increasing or decreasing. This may lead to incorrectly calculated cell edges, in which case, please supply explicit cell edges to pcolor.\n",
      "  ax[1].pcolor(XpC, P2_reshape_lat/100, QR2v2,  cmap = 'Blues', vmin = 0, vmax = 1.0)\n"
     ]
    },
    {
     "name": "stdout",
     "output_type": "stream",
     "text": [
      "/pscratch/sd/h/heroplr/R2_analysis/regrid/step2_lot-61_trial_0024.best_aave.nc\n"
     ]
    },
    {
     "name": "stderr",
     "output_type": "stream",
     "text": [
      "/tmp/ipykernel_103632/2418165556.py:14: RuntimeWarning: divide by zero encountered in double_scalars\n",
      "  R2[z,i] = 1-(SSE[z,i]/SVAR[z,i])\n",
      "/tmp/ipykernel_103632/3271378258.py:36: UserWarning: The input coordinates to pcolor are interpreted as cell centers, but are not monotonically increasing or decreasing. This may lead to incorrectly calculated cell edges, in which case, please supply explicit cell edges to pcolor.\n",
      "  contour_plot = ax[0].pcolor(XpC, P2_reshape_lat/100, TR2v2, cmap = 'Blues', vmin = 0, vmax = 1.0)\n",
      "/tmp/ipykernel_103632/3271378258.py:46: UserWarning: The input coordinates to pcolor are interpreted as cell centers, but are not monotonically increasing or decreasing. This may lead to incorrectly calculated cell edges, in which case, please supply explicit cell edges to pcolor.\n",
      "  ax[1].pcolor(XpC, P2_reshape_lat/100, QR2v2,  cmap = 'Blues', vmin = 0, vmax = 1.0)\n"
     ]
    },
    {
     "name": "stdout",
     "output_type": "stream",
     "text": [
      "/pscratch/sd/h/heroplr/R2_analysis/regrid/step2_lot-40_trial_0111.best_aave.nc\n"
     ]
    },
    {
     "name": "stderr",
     "output_type": "stream",
     "text": [
      "/tmp/ipykernel_103632/2418165556.py:14: RuntimeWarning: divide by zero encountered in double_scalars\n",
      "  R2[z,i] = 1-(SSE[z,i]/SVAR[z,i])\n",
      "/tmp/ipykernel_103632/3271378258.py:36: UserWarning: The input coordinates to pcolor are interpreted as cell centers, but are not monotonically increasing or decreasing. This may lead to incorrectly calculated cell edges, in which case, please supply explicit cell edges to pcolor.\n",
      "  contour_plot = ax[0].pcolor(XpC, P2_reshape_lat/100, TR2v2, cmap = 'Blues', vmin = 0, vmax = 1.0)\n",
      "/tmp/ipykernel_103632/3271378258.py:46: UserWarning: The input coordinates to pcolor are interpreted as cell centers, but are not monotonically increasing or decreasing. This may lead to incorrectly calculated cell edges, in which case, please supply explicit cell edges to pcolor.\n",
      "  ax[1].pcolor(XpC, P2_reshape_lat/100, QR2v2,  cmap = 'Blues', vmin = 0, vmax = 1.0)\n"
     ]
    },
    {
     "name": "stdout",
     "output_type": "stream",
     "text": [
      "/pscratch/sd/h/heroplr/R2_analysis/regrid/step2_lot-41_trial_0023.last_aave.nc\n"
     ]
    },
    {
     "name": "stderr",
     "output_type": "stream",
     "text": [
      "/tmp/ipykernel_103632/2418165556.py:14: RuntimeWarning: divide by zero encountered in double_scalars\n",
      "  R2[z,i] = 1-(SSE[z,i]/SVAR[z,i])\n",
      "/tmp/ipykernel_103632/3271378258.py:36: UserWarning: The input coordinates to pcolor are interpreted as cell centers, but are not monotonically increasing or decreasing. This may lead to incorrectly calculated cell edges, in which case, please supply explicit cell edges to pcolor.\n",
      "  contour_plot = ax[0].pcolor(XpC, P2_reshape_lat/100, TR2v2, cmap = 'Blues', vmin = 0, vmax = 1.0)\n",
      "/tmp/ipykernel_103632/3271378258.py:46: UserWarning: The input coordinates to pcolor are interpreted as cell centers, but are not monotonically increasing or decreasing. This may lead to incorrectly calculated cell edges, in which case, please supply explicit cell edges to pcolor.\n",
      "  ax[1].pcolor(XpC, P2_reshape_lat/100, QR2v2,  cmap = 'Blues', vmin = 0, vmax = 1.0)\n"
     ]
    },
    {
     "name": "stdout",
     "output_type": "stream",
     "text": [
      "/pscratch/sd/h/heroplr/R2_analysis/regrid/step2_lot-45_trial_0095.best_aave.nc\n"
     ]
    },
    {
     "name": "stderr",
     "output_type": "stream",
     "text": [
      "/tmp/ipykernel_103632/2418165556.py:14: RuntimeWarning: divide by zero encountered in double_scalars\n",
      "  R2[z,i] = 1-(SSE[z,i]/SVAR[z,i])\n",
      "/tmp/ipykernel_103632/3271378258.py:36: UserWarning: The input coordinates to pcolor are interpreted as cell centers, but are not monotonically increasing or decreasing. This may lead to incorrectly calculated cell edges, in which case, please supply explicit cell edges to pcolor.\n",
      "  contour_plot = ax[0].pcolor(XpC, P2_reshape_lat/100, TR2v2, cmap = 'Blues', vmin = 0, vmax = 1.0)\n",
      "/tmp/ipykernel_103632/3271378258.py:46: UserWarning: The input coordinates to pcolor are interpreted as cell centers, but are not monotonically increasing or decreasing. This may lead to incorrectly calculated cell edges, in which case, please supply explicit cell edges to pcolor.\n",
      "  ax[1].pcolor(XpC, P2_reshape_lat/100, QR2v2,  cmap = 'Blues', vmin = 0, vmax = 1.0)\n"
     ]
    },
    {
     "name": "stdout",
     "output_type": "stream",
     "text": [
      "/pscratch/sd/h/heroplr/R2_analysis/regrid/step2_lot-35_trial_0102.best_aave.nc\n"
     ]
    },
    {
     "name": "stderr",
     "output_type": "stream",
     "text": [
      "/tmp/ipykernel_103632/2418165556.py:14: RuntimeWarning: divide by zero encountered in double_scalars\n",
      "  R2[z,i] = 1-(SSE[z,i]/SVAR[z,i])\n",
      "/tmp/ipykernel_103632/3271378258.py:36: UserWarning: The input coordinates to pcolor are interpreted as cell centers, but are not monotonically increasing or decreasing. This may lead to incorrectly calculated cell edges, in which case, please supply explicit cell edges to pcolor.\n",
      "  contour_plot = ax[0].pcolor(XpC, P2_reshape_lat/100, TR2v2, cmap = 'Blues', vmin = 0, vmax = 1.0)\n",
      "/tmp/ipykernel_103632/3271378258.py:46: UserWarning: The input coordinates to pcolor are interpreted as cell centers, but are not monotonically increasing or decreasing. This may lead to incorrectly calculated cell edges, in which case, please supply explicit cell edges to pcolor.\n",
      "  ax[1].pcolor(XpC, P2_reshape_lat/100, QR2v2,  cmap = 'Blues', vmin = 0, vmax = 1.0)\n"
     ]
    },
    {
     "name": "stdout",
     "output_type": "stream",
     "text": [
      "/pscratch/sd/h/heroplr/R2_analysis/regrid/step2_lot-29_trial_0022.last_aave.nc\n"
     ]
    },
    {
     "name": "stderr",
     "output_type": "stream",
     "text": [
      "/tmp/ipykernel_103632/2418165556.py:14: RuntimeWarning: divide by zero encountered in double_scalars\n",
      "  R2[z,i] = 1-(SSE[z,i]/SVAR[z,i])\n",
      "/tmp/ipykernel_103632/3271378258.py:36: UserWarning: The input coordinates to pcolor are interpreted as cell centers, but are not monotonically increasing or decreasing. This may lead to incorrectly calculated cell edges, in which case, please supply explicit cell edges to pcolor.\n",
      "  contour_plot = ax[0].pcolor(XpC, P2_reshape_lat/100, TR2v2, cmap = 'Blues', vmin = 0, vmax = 1.0)\n",
      "/tmp/ipykernel_103632/3271378258.py:46: UserWarning: The input coordinates to pcolor are interpreted as cell centers, but are not monotonically increasing or decreasing. This may lead to incorrectly calculated cell edges, in which case, please supply explicit cell edges to pcolor.\n",
      "  ax[1].pcolor(XpC, P2_reshape_lat/100, QR2v2,  cmap = 'Blues', vmin = 0, vmax = 1.0)\n"
     ]
    },
    {
     "name": "stdout",
     "output_type": "stream",
     "text": [
      "/pscratch/sd/h/heroplr/R2_analysis/regrid/step2_lot-42_trial_0062.last_aave.nc\n"
     ]
    },
    {
     "name": "stderr",
     "output_type": "stream",
     "text": [
      "/tmp/ipykernel_103632/2418165556.py:14: RuntimeWarning: divide by zero encountered in double_scalars\n",
      "  R2[z,i] = 1-(SSE[z,i]/SVAR[z,i])\n",
      "/tmp/ipykernel_103632/3271378258.py:36: UserWarning: The input coordinates to pcolor are interpreted as cell centers, but are not monotonically increasing or decreasing. This may lead to incorrectly calculated cell edges, in which case, please supply explicit cell edges to pcolor.\n",
      "  contour_plot = ax[0].pcolor(XpC, P2_reshape_lat/100, TR2v2, cmap = 'Blues', vmin = 0, vmax = 1.0)\n",
      "/tmp/ipykernel_103632/3271378258.py:46: UserWarning: The input coordinates to pcolor are interpreted as cell centers, but are not monotonically increasing or decreasing. This may lead to incorrectly calculated cell edges, in which case, please supply explicit cell edges to pcolor.\n",
      "  ax[1].pcolor(XpC, P2_reshape_lat/100, QR2v2,  cmap = 'Blues', vmin = 0, vmax = 1.0)\n"
     ]
    },
    {
     "name": "stdout",
     "output_type": "stream",
     "text": [
      "/pscratch/sd/h/heroplr/R2_analysis/regrid/step2_lot-43_trial_0081.last_aave.nc\n"
     ]
    },
    {
     "name": "stderr",
     "output_type": "stream",
     "text": [
      "/tmp/ipykernel_103632/2418165556.py:14: RuntimeWarning: divide by zero encountered in double_scalars\n",
      "  R2[z,i] = 1-(SSE[z,i]/SVAR[z,i])\n",
      "/tmp/ipykernel_103632/3271378258.py:36: UserWarning: The input coordinates to pcolor are interpreted as cell centers, but are not monotonically increasing or decreasing. This may lead to incorrectly calculated cell edges, in which case, please supply explicit cell edges to pcolor.\n",
      "  contour_plot = ax[0].pcolor(XpC, P2_reshape_lat/100, TR2v2, cmap = 'Blues', vmin = 0, vmax = 1.0)\n",
      "/tmp/ipykernel_103632/3271378258.py:46: UserWarning: The input coordinates to pcolor are interpreted as cell centers, but are not monotonically increasing or decreasing. This may lead to incorrectly calculated cell edges, in which case, please supply explicit cell edges to pcolor.\n",
      "  ax[1].pcolor(XpC, P2_reshape_lat/100, QR2v2,  cmap = 'Blues', vmin = 0, vmax = 1.0)\n"
     ]
    },
    {
     "name": "stdout",
     "output_type": "stream",
     "text": [
      "/pscratch/sd/h/heroplr/R2_analysis/regrid/step2_lot-50_trial_0105.best_aave.nc\n"
     ]
    },
    {
     "name": "stderr",
     "output_type": "stream",
     "text": [
      "/tmp/ipykernel_103632/2418165556.py:14: RuntimeWarning: divide by zero encountered in double_scalars\n",
      "  R2[z,i] = 1-(SSE[z,i]/SVAR[z,i])\n",
      "/tmp/ipykernel_103632/3271378258.py:34: RuntimeWarning: More than 20 figures have been opened. Figures created through the pyplot interface (`matplotlib.pyplot.figure`) are retained until explicitly closed and may consume too much memory. (To control this warning, see the rcParam `figure.max_open_warning`).\n",
      "  fig, ax = plt.subplots(1,2, figsize=(15,5))\n",
      "/tmp/ipykernel_103632/3271378258.py:36: UserWarning: The input coordinates to pcolor are interpreted as cell centers, but are not monotonically increasing or decreasing. This may lead to incorrectly calculated cell edges, in which case, please supply explicit cell edges to pcolor.\n",
      "  contour_plot = ax[0].pcolor(XpC, P2_reshape_lat/100, TR2v2, cmap = 'Blues', vmin = 0, vmax = 1.0)\n",
      "/tmp/ipykernel_103632/3271378258.py:46: UserWarning: The input coordinates to pcolor are interpreted as cell centers, but are not monotonically increasing or decreasing. This may lead to incorrectly calculated cell edges, in which case, please supply explicit cell edges to pcolor.\n",
      "  ax[1].pcolor(XpC, P2_reshape_lat/100, QR2v2,  cmap = 'Blues', vmin = 0, vmax = 1.0)\n"
     ]
    },
    {
     "name": "stdout",
     "output_type": "stream",
     "text": [
      "/pscratch/sd/h/heroplr/R2_analysis/regrid/step2_lot-43_trial_0081.best_aave.nc\n"
     ]
    },
    {
     "name": "stderr",
     "output_type": "stream",
     "text": [
      "/tmp/ipykernel_103632/2418165556.py:14: RuntimeWarning: divide by zero encountered in double_scalars\n",
      "  R2[z,i] = 1-(SSE[z,i]/SVAR[z,i])\n",
      "/tmp/ipykernel_103632/3271378258.py:36: UserWarning: The input coordinates to pcolor are interpreted as cell centers, but are not monotonically increasing or decreasing. This may lead to incorrectly calculated cell edges, in which case, please supply explicit cell edges to pcolor.\n",
      "  contour_plot = ax[0].pcolor(XpC, P2_reshape_lat/100, TR2v2, cmap = 'Blues', vmin = 0, vmax = 1.0)\n",
      "/tmp/ipykernel_103632/3271378258.py:46: UserWarning: The input coordinates to pcolor are interpreted as cell centers, but are not monotonically increasing or decreasing. This may lead to incorrectly calculated cell edges, in which case, please supply explicit cell edges to pcolor.\n",
      "  ax[1].pcolor(XpC, P2_reshape_lat/100, QR2v2,  cmap = 'Blues', vmin = 0, vmax = 1.0)\n"
     ]
    },
    {
     "name": "stdout",
     "output_type": "stream",
     "text": [
      "/pscratch/sd/h/heroplr/R2_analysis/regrid/step2_lot-35_trial_0070.best_aave.nc\n"
     ]
    },
    {
     "name": "stderr",
     "output_type": "stream",
     "text": [
      "/tmp/ipykernel_103632/2418165556.py:14: RuntimeWarning: divide by zero encountered in double_scalars\n",
      "  R2[z,i] = 1-(SSE[z,i]/SVAR[z,i])\n",
      "/tmp/ipykernel_103632/3271378258.py:36: UserWarning: The input coordinates to pcolor are interpreted as cell centers, but are not monotonically increasing or decreasing. This may lead to incorrectly calculated cell edges, in which case, please supply explicit cell edges to pcolor.\n",
      "  contour_plot = ax[0].pcolor(XpC, P2_reshape_lat/100, TR2v2, cmap = 'Blues', vmin = 0, vmax = 1.0)\n",
      "/tmp/ipykernel_103632/3271378258.py:46: UserWarning: The input coordinates to pcolor are interpreted as cell centers, but are not monotonically increasing or decreasing. This may lead to incorrectly calculated cell edges, in which case, please supply explicit cell edges to pcolor.\n",
      "  ax[1].pcolor(XpC, P2_reshape_lat/100, QR2v2,  cmap = 'Blues', vmin = 0, vmax = 1.0)\n"
     ]
    },
    {
     "name": "stdout",
     "output_type": "stream",
     "text": [
      "/pscratch/sd/h/heroplr/R2_analysis/regrid/step2_lot-27_trial_0109.best_aave.nc\n"
     ]
    },
    {
     "name": "stderr",
     "output_type": "stream",
     "text": [
      "/tmp/ipykernel_103632/2418165556.py:14: RuntimeWarning: divide by zero encountered in double_scalars\n",
      "  R2[z,i] = 1-(SSE[z,i]/SVAR[z,i])\n",
      "/tmp/ipykernel_103632/3271378258.py:36: UserWarning: The input coordinates to pcolor are interpreted as cell centers, but are not monotonically increasing or decreasing. This may lead to incorrectly calculated cell edges, in which case, please supply explicit cell edges to pcolor.\n",
      "  contour_plot = ax[0].pcolor(XpC, P2_reshape_lat/100, TR2v2, cmap = 'Blues', vmin = 0, vmax = 1.0)\n",
      "/tmp/ipykernel_103632/3271378258.py:46: UserWarning: The input coordinates to pcolor are interpreted as cell centers, but are not monotonically increasing or decreasing. This may lead to incorrectly calculated cell edges, in which case, please supply explicit cell edges to pcolor.\n",
      "  ax[1].pcolor(XpC, P2_reshape_lat/100, QR2v2,  cmap = 'Blues', vmin = 0, vmax = 1.0)\n"
     ]
    },
    {
     "name": "stdout",
     "output_type": "stream",
     "text": [
      "/pscratch/sd/h/heroplr/R2_analysis/regrid/step2_lot-42_trial_0110.last_aave.nc\n"
     ]
    },
    {
     "name": "stderr",
     "output_type": "stream",
     "text": [
      "/tmp/ipykernel_103632/2418165556.py:14: RuntimeWarning: divide by zero encountered in double_scalars\n",
      "  R2[z,i] = 1-(SSE[z,i]/SVAR[z,i])\n",
      "/tmp/ipykernel_103632/3271378258.py:36: UserWarning: The input coordinates to pcolor are interpreted as cell centers, but are not monotonically increasing or decreasing. This may lead to incorrectly calculated cell edges, in which case, please supply explicit cell edges to pcolor.\n",
      "  contour_plot = ax[0].pcolor(XpC, P2_reshape_lat/100, TR2v2, cmap = 'Blues', vmin = 0, vmax = 1.0)\n",
      "/tmp/ipykernel_103632/3271378258.py:46: UserWarning: The input coordinates to pcolor are interpreted as cell centers, but are not monotonically increasing or decreasing. This may lead to incorrectly calculated cell edges, in which case, please supply explicit cell edges to pcolor.\n",
      "  ax[1].pcolor(XpC, P2_reshape_lat/100, QR2v2,  cmap = 'Blues', vmin = 0, vmax = 1.0)\n"
     ]
    },
    {
     "name": "stdout",
     "output_type": "stream",
     "text": [
      "/pscratch/sd/h/heroplr/R2_analysis/regrid/step2_lot-32_trial_0109.best_aave.nc\n"
     ]
    },
    {
     "name": "stderr",
     "output_type": "stream",
     "text": [
      "/tmp/ipykernel_103632/2418165556.py:14: RuntimeWarning: divide by zero encountered in double_scalars\n",
      "  R2[z,i] = 1-(SSE[z,i]/SVAR[z,i])\n",
      "/tmp/ipykernel_103632/3271378258.py:36: UserWarning: The input coordinates to pcolor are interpreted as cell centers, but are not monotonically increasing or decreasing. This may lead to incorrectly calculated cell edges, in which case, please supply explicit cell edges to pcolor.\n",
      "  contour_plot = ax[0].pcolor(XpC, P2_reshape_lat/100, TR2v2, cmap = 'Blues', vmin = 0, vmax = 1.0)\n",
      "/tmp/ipykernel_103632/3271378258.py:46: UserWarning: The input coordinates to pcolor are interpreted as cell centers, but are not monotonically increasing or decreasing. This may lead to incorrectly calculated cell edges, in which case, please supply explicit cell edges to pcolor.\n",
      "  ax[1].pcolor(XpC, P2_reshape_lat/100, QR2v2,  cmap = 'Blues', vmin = 0, vmax = 1.0)\n"
     ]
    },
    {
     "name": "stdout",
     "output_type": "stream",
     "text": [
      "/pscratch/sd/h/heroplr/R2_analysis/regrid/step2_lot-31_trial_0089.best_aave.nc\n"
     ]
    },
    {
     "name": "stderr",
     "output_type": "stream",
     "text": [
      "/tmp/ipykernel_103632/2418165556.py:14: RuntimeWarning: divide by zero encountered in double_scalars\n",
      "  R2[z,i] = 1-(SSE[z,i]/SVAR[z,i])\n",
      "/tmp/ipykernel_103632/3271378258.py:36: UserWarning: The input coordinates to pcolor are interpreted as cell centers, but are not monotonically increasing or decreasing. This may lead to incorrectly calculated cell edges, in which case, please supply explicit cell edges to pcolor.\n",
      "  contour_plot = ax[0].pcolor(XpC, P2_reshape_lat/100, TR2v2, cmap = 'Blues', vmin = 0, vmax = 1.0)\n",
      "/tmp/ipykernel_103632/3271378258.py:46: UserWarning: The input coordinates to pcolor are interpreted as cell centers, but are not monotonically increasing or decreasing. This may lead to incorrectly calculated cell edges, in which case, please supply explicit cell edges to pcolor.\n",
      "  ax[1].pcolor(XpC, P2_reshape_lat/100, QR2v2,  cmap = 'Blues', vmin = 0, vmax = 1.0)\n"
     ]
    },
    {
     "name": "stdout",
     "output_type": "stream",
     "text": [
      "/pscratch/sd/h/heroplr/R2_analysis/regrid/step2_lot-63_trial_0024.best_aave.nc\n"
     ]
    },
    {
     "name": "stderr",
     "output_type": "stream",
     "text": [
      "/tmp/ipykernel_103632/2418165556.py:14: RuntimeWarning: divide by zero encountered in double_scalars\n",
      "  R2[z,i] = 1-(SSE[z,i]/SVAR[z,i])\n",
      "/tmp/ipykernel_103632/3271378258.py:36: UserWarning: The input coordinates to pcolor are interpreted as cell centers, but are not monotonically increasing or decreasing. This may lead to incorrectly calculated cell edges, in which case, please supply explicit cell edges to pcolor.\n",
      "  contour_plot = ax[0].pcolor(XpC, P2_reshape_lat/100, TR2v2, cmap = 'Blues', vmin = 0, vmax = 1.0)\n",
      "/tmp/ipykernel_103632/3271378258.py:46: UserWarning: The input coordinates to pcolor are interpreted as cell centers, but are not monotonically increasing or decreasing. This may lead to incorrectly calculated cell edges, in which case, please supply explicit cell edges to pcolor.\n",
      "  ax[1].pcolor(XpC, P2_reshape_lat/100, QR2v2,  cmap = 'Blues', vmin = 0, vmax = 1.0)\n"
     ]
    },
    {
     "name": "stdout",
     "output_type": "stream",
     "text": [
      "/pscratch/sd/h/heroplr/R2_analysis/regrid/step2_lot-42_trial_0023.best_aave.nc\n"
     ]
    },
    {
     "name": "stderr",
     "output_type": "stream",
     "text": [
      "/tmp/ipykernel_103632/2418165556.py:14: RuntimeWarning: divide by zero encountered in double_scalars\n",
      "  R2[z,i] = 1-(SSE[z,i]/SVAR[z,i])\n",
      "/tmp/ipykernel_103632/3271378258.py:36: UserWarning: The input coordinates to pcolor are interpreted as cell centers, but are not monotonically increasing or decreasing. This may lead to incorrectly calculated cell edges, in which case, please supply explicit cell edges to pcolor.\n",
      "  contour_plot = ax[0].pcolor(XpC, P2_reshape_lat/100, TR2v2, cmap = 'Blues', vmin = 0, vmax = 1.0)\n",
      "/tmp/ipykernel_103632/3271378258.py:46: UserWarning: The input coordinates to pcolor are interpreted as cell centers, but are not monotonically increasing or decreasing. This may lead to incorrectly calculated cell edges, in which case, please supply explicit cell edges to pcolor.\n",
      "  ax[1].pcolor(XpC, P2_reshape_lat/100, QR2v2,  cmap = 'Blues', vmin = 0, vmax = 1.0)\n"
     ]
    },
    {
     "name": "stdout",
     "output_type": "stream",
     "text": [
      "/pscratch/sd/h/heroplr/R2_analysis/regrid/step2_lot-41_trial_0128.last_aave.nc\n"
     ]
    },
    {
     "name": "stderr",
     "output_type": "stream",
     "text": [
      "/tmp/ipykernel_103632/2418165556.py:14: RuntimeWarning: divide by zero encountered in double_scalars\n",
      "  R2[z,i] = 1-(SSE[z,i]/SVAR[z,i])\n",
      "/tmp/ipykernel_103632/3271378258.py:36: UserWarning: The input coordinates to pcolor are interpreted as cell centers, but are not monotonically increasing or decreasing. This may lead to incorrectly calculated cell edges, in which case, please supply explicit cell edges to pcolor.\n",
      "  contour_plot = ax[0].pcolor(XpC, P2_reshape_lat/100, TR2v2, cmap = 'Blues', vmin = 0, vmax = 1.0)\n",
      "/tmp/ipykernel_103632/3271378258.py:46: UserWarning: The input coordinates to pcolor are interpreted as cell centers, but are not monotonically increasing or decreasing. This may lead to incorrectly calculated cell edges, in which case, please supply explicit cell edges to pcolor.\n",
      "  ax[1].pcolor(XpC, P2_reshape_lat/100, QR2v2,  cmap = 'Blues', vmin = 0, vmax = 1.0)\n"
     ]
    },
    {
     "name": "stdout",
     "output_type": "stream",
     "text": [
      "/pscratch/sd/h/heroplr/R2_analysis/regrid/step2_lot-57_trial_0023.last_aave.nc\n"
     ]
    },
    {
     "name": "stderr",
     "output_type": "stream",
     "text": [
      "/tmp/ipykernel_103632/2418165556.py:14: RuntimeWarning: divide by zero encountered in double_scalars\n",
      "  R2[z,i] = 1-(SSE[z,i]/SVAR[z,i])\n",
      "/tmp/ipykernel_103632/3271378258.py:36: UserWarning: The input coordinates to pcolor are interpreted as cell centers, but are not monotonically increasing or decreasing. This may lead to incorrectly calculated cell edges, in which case, please supply explicit cell edges to pcolor.\n",
      "  contour_plot = ax[0].pcolor(XpC, P2_reshape_lat/100, TR2v2, cmap = 'Blues', vmin = 0, vmax = 1.0)\n",
      "/tmp/ipykernel_103632/3271378258.py:46: UserWarning: The input coordinates to pcolor are interpreted as cell centers, but are not monotonically increasing or decreasing. This may lead to incorrectly calculated cell edges, in which case, please supply explicit cell edges to pcolor.\n",
      "  ax[1].pcolor(XpC, P2_reshape_lat/100, QR2v2,  cmap = 'Blues', vmin = 0, vmax = 1.0)\n"
     ]
    },
    {
     "name": "stdout",
     "output_type": "stream",
     "text": [
      "/pscratch/sd/h/heroplr/R2_analysis/regrid/step2_lot-42_trial_0023.last_aave.nc\n"
     ]
    },
    {
     "name": "stderr",
     "output_type": "stream",
     "text": [
      "/tmp/ipykernel_103632/2418165556.py:14: RuntimeWarning: divide by zero encountered in double_scalars\n",
      "  R2[z,i] = 1-(SSE[z,i]/SVAR[z,i])\n",
      "/tmp/ipykernel_103632/3271378258.py:36: UserWarning: The input coordinates to pcolor are interpreted as cell centers, but are not monotonically increasing or decreasing. This may lead to incorrectly calculated cell edges, in which case, please supply explicit cell edges to pcolor.\n",
      "  contour_plot = ax[0].pcolor(XpC, P2_reshape_lat/100, TR2v2, cmap = 'Blues', vmin = 0, vmax = 1.0)\n",
      "/tmp/ipykernel_103632/3271378258.py:46: UserWarning: The input coordinates to pcolor are interpreted as cell centers, but are not monotonically increasing or decreasing. This may lead to incorrectly calculated cell edges, in which case, please supply explicit cell edges to pcolor.\n",
      "  ax[1].pcolor(XpC, P2_reshape_lat/100, QR2v2,  cmap = 'Blues', vmin = 0, vmax = 1.0)\n"
     ]
    },
    {
     "name": "stdout",
     "output_type": "stream",
     "text": [
      "/pscratch/sd/h/heroplr/R2_analysis/regrid/step2_lot-50_trial_0036.best_aave.nc\n"
     ]
    },
    {
     "name": "stderr",
     "output_type": "stream",
     "text": [
      "/tmp/ipykernel_103632/2418165556.py:14: RuntimeWarning: divide by zero encountered in double_scalars\n",
      "  R2[z,i] = 1-(SSE[z,i]/SVAR[z,i])\n",
      "/tmp/ipykernel_103632/3271378258.py:36: UserWarning: The input coordinates to pcolor are interpreted as cell centers, but are not monotonically increasing or decreasing. This may lead to incorrectly calculated cell edges, in which case, please supply explicit cell edges to pcolor.\n",
      "  contour_plot = ax[0].pcolor(XpC, P2_reshape_lat/100, TR2v2, cmap = 'Blues', vmin = 0, vmax = 1.0)\n",
      "/tmp/ipykernel_103632/3271378258.py:46: UserWarning: The input coordinates to pcolor are interpreted as cell centers, but are not monotonically increasing or decreasing. This may lead to incorrectly calculated cell edges, in which case, please supply explicit cell edges to pcolor.\n",
      "  ax[1].pcolor(XpC, P2_reshape_lat/100, QR2v2,  cmap = 'Blues', vmin = 0, vmax = 1.0)\n"
     ]
    },
    {
     "name": "stdout",
     "output_type": "stream",
     "text": [
      "/pscratch/sd/h/heroplr/R2_analysis/regrid/step2_lot-41_trial_0100.last_aave.nc\n"
     ]
    },
    {
     "name": "stderr",
     "output_type": "stream",
     "text": [
      "/tmp/ipykernel_103632/2418165556.py:14: RuntimeWarning: divide by zero encountered in double_scalars\n",
      "  R2[z,i] = 1-(SSE[z,i]/SVAR[z,i])\n",
      "/tmp/ipykernel_103632/3271378258.py:36: UserWarning: The input coordinates to pcolor are interpreted as cell centers, but are not monotonically increasing or decreasing. This may lead to incorrectly calculated cell edges, in which case, please supply explicit cell edges to pcolor.\n",
      "  contour_plot = ax[0].pcolor(XpC, P2_reshape_lat/100, TR2v2, cmap = 'Blues', vmin = 0, vmax = 1.0)\n",
      "/tmp/ipykernel_103632/3271378258.py:46: UserWarning: The input coordinates to pcolor are interpreted as cell centers, but are not monotonically increasing or decreasing. This may lead to incorrectly calculated cell edges, in which case, please supply explicit cell edges to pcolor.\n",
      "  ax[1].pcolor(XpC, P2_reshape_lat/100, QR2v2,  cmap = 'Blues', vmin = 0, vmax = 1.0)\n"
     ]
    },
    {
     "name": "stdout",
     "output_type": "stream",
     "text": [
      "/pscratch/sd/h/heroplr/R2_analysis/regrid/step2_lot-25_trial_0003.best_aave.nc\n"
     ]
    },
    {
     "name": "stderr",
     "output_type": "stream",
     "text": [
      "/tmp/ipykernel_103632/2418165556.py:14: RuntimeWarning: divide by zero encountered in double_scalars\n",
      "  R2[z,i] = 1-(SSE[z,i]/SVAR[z,i])\n",
      "/tmp/ipykernel_103632/3271378258.py:36: UserWarning: The input coordinates to pcolor are interpreted as cell centers, but are not monotonically increasing or decreasing. This may lead to incorrectly calculated cell edges, in which case, please supply explicit cell edges to pcolor.\n",
      "  contour_plot = ax[0].pcolor(XpC, P2_reshape_lat/100, TR2v2, cmap = 'Blues', vmin = 0, vmax = 1.0)\n",
      "/tmp/ipykernel_103632/3271378258.py:46: UserWarning: The input coordinates to pcolor are interpreted as cell centers, but are not monotonically increasing or decreasing. This may lead to incorrectly calculated cell edges, in which case, please supply explicit cell edges to pcolor.\n",
      "  ax[1].pcolor(XpC, P2_reshape_lat/100, QR2v2,  cmap = 'Blues', vmin = 0, vmax = 1.0)\n"
     ]
    },
    {
     "name": "stdout",
     "output_type": "stream",
     "text": [
      "/pscratch/sd/h/heroplr/R2_analysis/regrid/step2_lot-37_trial_0035.last_aave.nc\n"
     ]
    },
    {
     "name": "stderr",
     "output_type": "stream",
     "text": [
      "/tmp/ipykernel_103632/2418165556.py:14: RuntimeWarning: divide by zero encountered in double_scalars\n",
      "  R2[z,i] = 1-(SSE[z,i]/SVAR[z,i])\n",
      "/tmp/ipykernel_103632/3271378258.py:36: UserWarning: The input coordinates to pcolor are interpreted as cell centers, but are not monotonically increasing or decreasing. This may lead to incorrectly calculated cell edges, in which case, please supply explicit cell edges to pcolor.\n",
      "  contour_plot = ax[0].pcolor(XpC, P2_reshape_lat/100, TR2v2, cmap = 'Blues', vmin = 0, vmax = 1.0)\n",
      "/tmp/ipykernel_103632/3271378258.py:46: UserWarning: The input coordinates to pcolor are interpreted as cell centers, but are not monotonically increasing or decreasing. This may lead to incorrectly calculated cell edges, in which case, please supply explicit cell edges to pcolor.\n",
      "  ax[1].pcolor(XpC, P2_reshape_lat/100, QR2v2,  cmap = 'Blues', vmin = 0, vmax = 1.0)\n"
     ]
    },
    {
     "name": "stdout",
     "output_type": "stream",
     "text": [
      "/pscratch/sd/h/heroplr/R2_analysis/regrid/step2_lot-27_trial_0086.last_aave.nc\n"
     ]
    },
    {
     "name": "stderr",
     "output_type": "stream",
     "text": [
      "/tmp/ipykernel_103632/2418165556.py:14: RuntimeWarning: divide by zero encountered in double_scalars\n",
      "  R2[z,i] = 1-(SSE[z,i]/SVAR[z,i])\n",
      "/tmp/ipykernel_103632/3271378258.py:36: UserWarning: The input coordinates to pcolor are interpreted as cell centers, but are not monotonically increasing or decreasing. This may lead to incorrectly calculated cell edges, in which case, please supply explicit cell edges to pcolor.\n",
      "  contour_plot = ax[0].pcolor(XpC, P2_reshape_lat/100, TR2v2, cmap = 'Blues', vmin = 0, vmax = 1.0)\n",
      "/tmp/ipykernel_103632/3271378258.py:46: UserWarning: The input coordinates to pcolor are interpreted as cell centers, but are not monotonically increasing or decreasing. This may lead to incorrectly calculated cell edges, in which case, please supply explicit cell edges to pcolor.\n",
      "  ax[1].pcolor(XpC, P2_reshape_lat/100, QR2v2,  cmap = 'Blues', vmin = 0, vmax = 1.0)\n"
     ]
    },
    {
     "name": "stdout",
     "output_type": "stream",
     "text": [
      "/pscratch/sd/h/heroplr/R2_analysis/regrid/step2_lot-50_trial_0105.last_aave.nc\n"
     ]
    },
    {
     "name": "stderr",
     "output_type": "stream",
     "text": [
      "/tmp/ipykernel_103632/2418165556.py:14: RuntimeWarning: divide by zero encountered in double_scalars\n",
      "  R2[z,i] = 1-(SSE[z,i]/SVAR[z,i])\n",
      "/tmp/ipykernel_103632/3271378258.py:36: UserWarning: The input coordinates to pcolor are interpreted as cell centers, but are not monotonically increasing or decreasing. This may lead to incorrectly calculated cell edges, in which case, please supply explicit cell edges to pcolor.\n",
      "  contour_plot = ax[0].pcolor(XpC, P2_reshape_lat/100, TR2v2, cmap = 'Blues', vmin = 0, vmax = 1.0)\n",
      "/tmp/ipykernel_103632/3271378258.py:46: UserWarning: The input coordinates to pcolor are interpreted as cell centers, but are not monotonically increasing or decreasing. This may lead to incorrectly calculated cell edges, in which case, please supply explicit cell edges to pcolor.\n",
      "  ax[1].pcolor(XpC, P2_reshape_lat/100, QR2v2,  cmap = 'Blues', vmin = 0, vmax = 1.0)\n"
     ]
    },
    {
     "name": "stdout",
     "output_type": "stream",
     "text": [
      "/pscratch/sd/h/heroplr/R2_analysis/regrid/step2_lot-41_trial_0128.best_aave.nc\n"
     ]
    },
    {
     "name": "stderr",
     "output_type": "stream",
     "text": [
      "/tmp/ipykernel_103632/2418165556.py:14: RuntimeWarning: divide by zero encountered in double_scalars\n",
      "  R2[z,i] = 1-(SSE[z,i]/SVAR[z,i])\n",
      "/tmp/ipykernel_103632/3271378258.py:36: UserWarning: The input coordinates to pcolor are interpreted as cell centers, but are not monotonically increasing or decreasing. This may lead to incorrectly calculated cell edges, in which case, please supply explicit cell edges to pcolor.\n",
      "  contour_plot = ax[0].pcolor(XpC, P2_reshape_lat/100, TR2v2, cmap = 'Blues', vmin = 0, vmax = 1.0)\n",
      "/tmp/ipykernel_103632/3271378258.py:46: UserWarning: The input coordinates to pcolor are interpreted as cell centers, but are not monotonically increasing or decreasing. This may lead to incorrectly calculated cell edges, in which case, please supply explicit cell edges to pcolor.\n",
      "  ax[1].pcolor(XpC, P2_reshape_lat/100, QR2v2,  cmap = 'Blues', vmin = 0, vmax = 1.0)\n"
     ]
    },
    {
     "name": "stdout",
     "output_type": "stream",
     "text": [
      "/pscratch/sd/h/heroplr/R2_analysis/regrid/step2_lot-38_trial_0091.last_aave.nc\n"
     ]
    },
    {
     "name": "stderr",
     "output_type": "stream",
     "text": [
      "/tmp/ipykernel_103632/2418165556.py:14: RuntimeWarning: divide by zero encountered in double_scalars\n",
      "  R2[z,i] = 1-(SSE[z,i]/SVAR[z,i])\n",
      "/tmp/ipykernel_103632/3271378258.py:36: UserWarning: The input coordinates to pcolor are interpreted as cell centers, but are not monotonically increasing or decreasing. This may lead to incorrectly calculated cell edges, in which case, please supply explicit cell edges to pcolor.\n",
      "  contour_plot = ax[0].pcolor(XpC, P2_reshape_lat/100, TR2v2, cmap = 'Blues', vmin = 0, vmax = 1.0)\n",
      "/tmp/ipykernel_103632/3271378258.py:46: UserWarning: The input coordinates to pcolor are interpreted as cell centers, but are not monotonically increasing or decreasing. This may lead to incorrectly calculated cell edges, in which case, please supply explicit cell edges to pcolor.\n",
      "  ax[1].pcolor(XpC, P2_reshape_lat/100, QR2v2,  cmap = 'Blues', vmin = 0, vmax = 1.0)\n"
     ]
    },
    {
     "name": "stdout",
     "output_type": "stream",
     "text": [
      "/pscratch/sd/h/heroplr/R2_analysis/regrid/step2_lot-60_trial_0022.last_aave.nc\n"
     ]
    },
    {
     "name": "stderr",
     "output_type": "stream",
     "text": [
      "/tmp/ipykernel_103632/2418165556.py:14: RuntimeWarning: divide by zero encountered in double_scalars\n",
      "  R2[z,i] = 1-(SSE[z,i]/SVAR[z,i])\n",
      "/tmp/ipykernel_103632/3271378258.py:36: UserWarning: The input coordinates to pcolor are interpreted as cell centers, but are not monotonically increasing or decreasing. This may lead to incorrectly calculated cell edges, in which case, please supply explicit cell edges to pcolor.\n",
      "  contour_plot = ax[0].pcolor(XpC, P2_reshape_lat/100, TR2v2, cmap = 'Blues', vmin = 0, vmax = 1.0)\n",
      "/tmp/ipykernel_103632/3271378258.py:46: UserWarning: The input coordinates to pcolor are interpreted as cell centers, but are not monotonically increasing or decreasing. This may lead to incorrectly calculated cell edges, in which case, please supply explicit cell edges to pcolor.\n",
      "  ax[1].pcolor(XpC, P2_reshape_lat/100, QR2v2,  cmap = 'Blues', vmin = 0, vmax = 1.0)\n"
     ]
    },
    {
     "name": "stdout",
     "output_type": "stream",
     "text": [
      "/pscratch/sd/h/heroplr/R2_analysis/regrid/step2_lot-33_trial_0142.best_aave.nc\n"
     ]
    },
    {
     "name": "stderr",
     "output_type": "stream",
     "text": [
      "/tmp/ipykernel_103632/2418165556.py:14: RuntimeWarning: divide by zero encountered in double_scalars\n",
      "  R2[z,i] = 1-(SSE[z,i]/SVAR[z,i])\n",
      "/tmp/ipykernel_103632/3271378258.py:36: UserWarning: The input coordinates to pcolor are interpreted as cell centers, but are not monotonically increasing or decreasing. This may lead to incorrectly calculated cell edges, in which case, please supply explicit cell edges to pcolor.\n",
      "  contour_plot = ax[0].pcolor(XpC, P2_reshape_lat/100, TR2v2, cmap = 'Blues', vmin = 0, vmax = 1.0)\n",
      "/tmp/ipykernel_103632/3271378258.py:46: UserWarning: The input coordinates to pcolor are interpreted as cell centers, but are not monotonically increasing or decreasing. This may lead to incorrectly calculated cell edges, in which case, please supply explicit cell edges to pcolor.\n",
      "  ax[1].pcolor(XpC, P2_reshape_lat/100, QR2v2,  cmap = 'Blues', vmin = 0, vmax = 1.0)\n"
     ]
    },
    {
     "name": "stdout",
     "output_type": "stream",
     "text": [
      "/pscratch/sd/h/heroplr/R2_analysis/regrid/step2_lot-31_trial_0089.last_aave.nc\n"
     ]
    },
    {
     "name": "stderr",
     "output_type": "stream",
     "text": [
      "/tmp/ipykernel_103632/2418165556.py:14: RuntimeWarning: divide by zero encountered in double_scalars\n",
      "  R2[z,i] = 1-(SSE[z,i]/SVAR[z,i])\n",
      "/tmp/ipykernel_103632/3271378258.py:36: UserWarning: The input coordinates to pcolor are interpreted as cell centers, but are not monotonically increasing or decreasing. This may lead to incorrectly calculated cell edges, in which case, please supply explicit cell edges to pcolor.\n",
      "  contour_plot = ax[0].pcolor(XpC, P2_reshape_lat/100, TR2v2, cmap = 'Blues', vmin = 0, vmax = 1.0)\n",
      "/tmp/ipykernel_103632/3271378258.py:46: UserWarning: The input coordinates to pcolor are interpreted as cell centers, but are not monotonically increasing or decreasing. This may lead to incorrectly calculated cell edges, in which case, please supply explicit cell edges to pcolor.\n",
      "  ax[1].pcolor(XpC, P2_reshape_lat/100, QR2v2,  cmap = 'Blues', vmin = 0, vmax = 1.0)\n"
     ]
    },
    {
     "name": "stdout",
     "output_type": "stream",
     "text": [
      "/pscratch/sd/h/heroplr/R2_analysis/regrid/step2_lot-37_trial_0031.best_aave.nc\n"
     ]
    },
    {
     "name": "stderr",
     "output_type": "stream",
     "text": [
      "/tmp/ipykernel_103632/2418165556.py:14: RuntimeWarning: divide by zero encountered in double_scalars\n",
      "  R2[z,i] = 1-(SSE[z,i]/SVAR[z,i])\n",
      "/tmp/ipykernel_103632/3271378258.py:36: UserWarning: The input coordinates to pcolor are interpreted as cell centers, but are not monotonically increasing or decreasing. This may lead to incorrectly calculated cell edges, in which case, please supply explicit cell edges to pcolor.\n",
      "  contour_plot = ax[0].pcolor(XpC, P2_reshape_lat/100, TR2v2, cmap = 'Blues', vmin = 0, vmax = 1.0)\n",
      "/tmp/ipykernel_103632/3271378258.py:46: UserWarning: The input coordinates to pcolor are interpreted as cell centers, but are not monotonically increasing or decreasing. This may lead to incorrectly calculated cell edges, in which case, please supply explicit cell edges to pcolor.\n",
      "  ax[1].pcolor(XpC, P2_reshape_lat/100, QR2v2,  cmap = 'Blues', vmin = 0, vmax = 1.0)\n"
     ]
    },
    {
     "name": "stdout",
     "output_type": "stream",
     "text": [
      "/pscratch/sd/h/heroplr/R2_analysis/regrid/step2_lot-38_trial_0046.last_aave.nc\n"
     ]
    },
    {
     "name": "stderr",
     "output_type": "stream",
     "text": [
      "/tmp/ipykernel_103632/2418165556.py:14: RuntimeWarning: divide by zero encountered in double_scalars\n",
      "  R2[z,i] = 1-(SSE[z,i]/SVAR[z,i])\n",
      "/tmp/ipykernel_103632/3271378258.py:36: UserWarning: The input coordinates to pcolor are interpreted as cell centers, but are not monotonically increasing or decreasing. This may lead to incorrectly calculated cell edges, in which case, please supply explicit cell edges to pcolor.\n",
      "  contour_plot = ax[0].pcolor(XpC, P2_reshape_lat/100, TR2v2, cmap = 'Blues', vmin = 0, vmax = 1.0)\n",
      "/tmp/ipykernel_103632/3271378258.py:46: UserWarning: The input coordinates to pcolor are interpreted as cell centers, but are not monotonically increasing or decreasing. This may lead to incorrectly calculated cell edges, in which case, please supply explicit cell edges to pcolor.\n",
      "  ax[1].pcolor(XpC, P2_reshape_lat/100, QR2v2,  cmap = 'Blues', vmin = 0, vmax = 1.0)\n"
     ]
    },
    {
     "name": "stdout",
     "output_type": "stream",
     "text": [
      "/pscratch/sd/h/heroplr/R2_analysis/regrid/step2_lot-45_trial_0095.last_aave.nc\n"
     ]
    },
    {
     "name": "stderr",
     "output_type": "stream",
     "text": [
      "/tmp/ipykernel_103632/2418165556.py:14: RuntimeWarning: divide by zero encountered in double_scalars\n",
      "  R2[z,i] = 1-(SSE[z,i]/SVAR[z,i])\n",
      "/tmp/ipykernel_103632/3271378258.py:36: UserWarning: The input coordinates to pcolor are interpreted as cell centers, but are not monotonically increasing or decreasing. This may lead to incorrectly calculated cell edges, in which case, please supply explicit cell edges to pcolor.\n",
      "  contour_plot = ax[0].pcolor(XpC, P2_reshape_lat/100, TR2v2, cmap = 'Blues', vmin = 0, vmax = 1.0)\n",
      "/tmp/ipykernel_103632/3271378258.py:46: UserWarning: The input coordinates to pcolor are interpreted as cell centers, but are not monotonically increasing or decreasing. This may lead to incorrectly calculated cell edges, in which case, please supply explicit cell edges to pcolor.\n",
      "  ax[1].pcolor(XpC, P2_reshape_lat/100, QR2v2,  cmap = 'Blues', vmin = 0, vmax = 1.0)\n"
     ]
    },
    {
     "name": "stdout",
     "output_type": "stream",
     "text": [
      "/pscratch/sd/h/heroplr/R2_analysis/regrid/step2_lot-45_trial_0049.last_aave.nc\n"
     ]
    },
    {
     "name": "stderr",
     "output_type": "stream",
     "text": [
      "/tmp/ipykernel_103632/2418165556.py:14: RuntimeWarning: divide by zero encountered in double_scalars\n",
      "  R2[z,i] = 1-(SSE[z,i]/SVAR[z,i])\n",
      "/tmp/ipykernel_103632/3271378258.py:36: UserWarning: The input coordinates to pcolor are interpreted as cell centers, but are not monotonically increasing or decreasing. This may lead to incorrectly calculated cell edges, in which case, please supply explicit cell edges to pcolor.\n",
      "  contour_plot = ax[0].pcolor(XpC, P2_reshape_lat/100, TR2v2, cmap = 'Blues', vmin = 0, vmax = 1.0)\n",
      "/tmp/ipykernel_103632/3271378258.py:46: UserWarning: The input coordinates to pcolor are interpreted as cell centers, but are not monotonically increasing or decreasing. This may lead to incorrectly calculated cell edges, in which case, please supply explicit cell edges to pcolor.\n",
      "  ax[1].pcolor(XpC, P2_reshape_lat/100, QR2v2,  cmap = 'Blues', vmin = 0, vmax = 1.0)\n"
     ]
    },
    {
     "name": "stdout",
     "output_type": "stream",
     "text": [
      "/pscratch/sd/h/heroplr/R2_analysis/regrid/step2_lot-45_trial_0048.best_aave.nc\n"
     ]
    },
    {
     "name": "stderr",
     "output_type": "stream",
     "text": [
      "/tmp/ipykernel_103632/2418165556.py:14: RuntimeWarning: divide by zero encountered in double_scalars\n",
      "  R2[z,i] = 1-(SSE[z,i]/SVAR[z,i])\n",
      "/tmp/ipykernel_103632/3271378258.py:36: UserWarning: The input coordinates to pcolor are interpreted as cell centers, but are not monotonically increasing or decreasing. This may lead to incorrectly calculated cell edges, in which case, please supply explicit cell edges to pcolor.\n",
      "  contour_plot = ax[0].pcolor(XpC, P2_reshape_lat/100, TR2v2, cmap = 'Blues', vmin = 0, vmax = 1.0)\n",
      "/tmp/ipykernel_103632/3271378258.py:46: UserWarning: The input coordinates to pcolor are interpreted as cell centers, but are not monotonically increasing or decreasing. This may lead to incorrectly calculated cell edges, in which case, please supply explicit cell edges to pcolor.\n",
      "  ax[1].pcolor(XpC, P2_reshape_lat/100, QR2v2,  cmap = 'Blues', vmin = 0, vmax = 1.0)\n"
     ]
    },
    {
     "name": "stdout",
     "output_type": "stream",
     "text": [
      "/pscratch/sd/h/heroplr/R2_analysis/regrid/step2_lot-50_trial_0070.best_aave.nc\n"
     ]
    },
    {
     "name": "stderr",
     "output_type": "stream",
     "text": [
      "/tmp/ipykernel_103632/2418165556.py:14: RuntimeWarning: divide by zero encountered in double_scalars\n",
      "  R2[z,i] = 1-(SSE[z,i]/SVAR[z,i])\n",
      "/tmp/ipykernel_103632/3271378258.py:36: UserWarning: The input coordinates to pcolor are interpreted as cell centers, but are not monotonically increasing or decreasing. This may lead to incorrectly calculated cell edges, in which case, please supply explicit cell edges to pcolor.\n",
      "  contour_plot = ax[0].pcolor(XpC, P2_reshape_lat/100, TR2v2, cmap = 'Blues', vmin = 0, vmax = 1.0)\n",
      "/tmp/ipykernel_103632/3271378258.py:46: UserWarning: The input coordinates to pcolor are interpreted as cell centers, but are not monotonically increasing or decreasing. This may lead to incorrectly calculated cell edges, in which case, please supply explicit cell edges to pcolor.\n",
      "  ax[1].pcolor(XpC, P2_reshape_lat/100, QR2v2,  cmap = 'Blues', vmin = 0, vmax = 1.0)\n"
     ]
    },
    {
     "name": "stdout",
     "output_type": "stream",
     "text": [
      "/pscratch/sd/h/heroplr/R2_analysis/regrid/step2_lot-50_trial_0070.last_aave.nc\n"
     ]
    },
    {
     "name": "stderr",
     "output_type": "stream",
     "text": [
      "/tmp/ipykernel_103632/2418165556.py:14: RuntimeWarning: divide by zero encountered in double_scalars\n",
      "  R2[z,i] = 1-(SSE[z,i]/SVAR[z,i])\n",
      "/tmp/ipykernel_103632/3271378258.py:36: UserWarning: The input coordinates to pcolor are interpreted as cell centers, but are not monotonically increasing or decreasing. This may lead to incorrectly calculated cell edges, in which case, please supply explicit cell edges to pcolor.\n",
      "  contour_plot = ax[0].pcolor(XpC, P2_reshape_lat/100, TR2v2, cmap = 'Blues', vmin = 0, vmax = 1.0)\n",
      "/tmp/ipykernel_103632/3271378258.py:46: UserWarning: The input coordinates to pcolor are interpreted as cell centers, but are not monotonically increasing or decreasing. This may lead to incorrectly calculated cell edges, in which case, please supply explicit cell edges to pcolor.\n",
      "  ax[1].pcolor(XpC, P2_reshape_lat/100, QR2v2,  cmap = 'Blues', vmin = 0, vmax = 1.0)\n"
     ]
    },
    {
     "name": "stdout",
     "output_type": "stream",
     "text": [
      "/pscratch/sd/h/heroplr/R2_analysis/regrid/step2_lot-29_trial_0022.best_aave.nc\n"
     ]
    },
    {
     "name": "stderr",
     "output_type": "stream",
     "text": [
      "/tmp/ipykernel_103632/2418165556.py:14: RuntimeWarning: divide by zero encountered in double_scalars\n",
      "  R2[z,i] = 1-(SSE[z,i]/SVAR[z,i])\n",
      "/tmp/ipykernel_103632/3271378258.py:36: UserWarning: The input coordinates to pcolor are interpreted as cell centers, but are not monotonically increasing or decreasing. This may lead to incorrectly calculated cell edges, in which case, please supply explicit cell edges to pcolor.\n",
      "  contour_plot = ax[0].pcolor(XpC, P2_reshape_lat/100, TR2v2, cmap = 'Blues', vmin = 0, vmax = 1.0)\n",
      "/tmp/ipykernel_103632/3271378258.py:46: UserWarning: The input coordinates to pcolor are interpreted as cell centers, but are not monotonically increasing or decreasing. This may lead to incorrectly calculated cell edges, in which case, please supply explicit cell edges to pcolor.\n",
      "  ax[1].pcolor(XpC, P2_reshape_lat/100, QR2v2,  cmap = 'Blues', vmin = 0, vmax = 1.0)\n"
     ]
    },
    {
     "name": "stdout",
     "output_type": "stream",
     "text": [
      "/pscratch/sd/h/heroplr/R2_analysis/regrid/step2_lot-60_trial_0022.best_aave.nc\n"
     ]
    },
    {
     "name": "stderr",
     "output_type": "stream",
     "text": [
      "/tmp/ipykernel_103632/2418165556.py:14: RuntimeWarning: divide by zero encountered in double_scalars\n",
      "  R2[z,i] = 1-(SSE[z,i]/SVAR[z,i])\n",
      "/tmp/ipykernel_103632/3271378258.py:36: UserWarning: The input coordinates to pcolor are interpreted as cell centers, but are not monotonically increasing or decreasing. This may lead to incorrectly calculated cell edges, in which case, please supply explicit cell edges to pcolor.\n",
      "  contour_plot = ax[0].pcolor(XpC, P2_reshape_lat/100, TR2v2, cmap = 'Blues', vmin = 0, vmax = 1.0)\n",
      "/tmp/ipykernel_103632/3271378258.py:46: UserWarning: The input coordinates to pcolor are interpreted as cell centers, but are not monotonically increasing or decreasing. This may lead to incorrectly calculated cell edges, in which case, please supply explicit cell edges to pcolor.\n",
      "  ax[1].pcolor(XpC, P2_reshape_lat/100, QR2v2,  cmap = 'Blues', vmin = 0, vmax = 1.0)\n"
     ]
    },
    {
     "name": "stdout",
     "output_type": "stream",
     "text": [
      "/pscratch/sd/h/heroplr/R2_analysis/regrid/step2_lot-29_trial_0098.best_aave.nc\n"
     ]
    },
    {
     "name": "stderr",
     "output_type": "stream",
     "text": [
      "/tmp/ipykernel_103632/2418165556.py:14: RuntimeWarning: divide by zero encountered in double_scalars\n",
      "  R2[z,i] = 1-(SSE[z,i]/SVAR[z,i])\n",
      "/tmp/ipykernel_103632/3271378258.py:36: UserWarning: The input coordinates to pcolor are interpreted as cell centers, but are not monotonically increasing or decreasing. This may lead to incorrectly calculated cell edges, in which case, please supply explicit cell edges to pcolor.\n",
      "  contour_plot = ax[0].pcolor(XpC, P2_reshape_lat/100, TR2v2, cmap = 'Blues', vmin = 0, vmax = 1.0)\n",
      "/tmp/ipykernel_103632/3271378258.py:46: UserWarning: The input coordinates to pcolor are interpreted as cell centers, but are not monotonically increasing or decreasing. This may lead to incorrectly calculated cell edges, in which case, please supply explicit cell edges to pcolor.\n",
      "  ax[1].pcolor(XpC, P2_reshape_lat/100, QR2v2,  cmap = 'Blues', vmin = 0, vmax = 1.0)\n"
     ]
    },
    {
     "name": "stdout",
     "output_type": "stream",
     "text": [
      "/pscratch/sd/h/heroplr/R2_analysis/regrid/step2_lot-65_trial_0023.best_aave.nc\n"
     ]
    },
    {
     "name": "stderr",
     "output_type": "stream",
     "text": [
      "/tmp/ipykernel_103632/2418165556.py:14: RuntimeWarning: divide by zero encountered in double_scalars\n",
      "  R2[z,i] = 1-(SSE[z,i]/SVAR[z,i])\n",
      "/tmp/ipykernel_103632/3271378258.py:36: UserWarning: The input coordinates to pcolor are interpreted as cell centers, but are not monotonically increasing or decreasing. This may lead to incorrectly calculated cell edges, in which case, please supply explicit cell edges to pcolor.\n",
      "  contour_plot = ax[0].pcolor(XpC, P2_reshape_lat/100, TR2v2, cmap = 'Blues', vmin = 0, vmax = 1.0)\n",
      "/tmp/ipykernel_103632/3271378258.py:46: UserWarning: The input coordinates to pcolor are interpreted as cell centers, but are not monotonically increasing or decreasing. This may lead to incorrectly calculated cell edges, in which case, please supply explicit cell edges to pcolor.\n",
      "  ax[1].pcolor(XpC, P2_reshape_lat/100, QR2v2,  cmap = 'Blues', vmin = 0, vmax = 1.0)\n"
     ]
    },
    {
     "name": "stdout",
     "output_type": "stream",
     "text": [
      "/pscratch/sd/h/heroplr/R2_analysis/regrid/step2_lot-57_trial_0023.best_aave.nc\n"
     ]
    },
    {
     "name": "stderr",
     "output_type": "stream",
     "text": [
      "/tmp/ipykernel_103632/2418165556.py:14: RuntimeWarning: divide by zero encountered in double_scalars\n",
      "  R2[z,i] = 1-(SSE[z,i]/SVAR[z,i])\n",
      "/tmp/ipykernel_103632/3271378258.py:36: UserWarning: The input coordinates to pcolor are interpreted as cell centers, but are not monotonically increasing or decreasing. This may lead to incorrectly calculated cell edges, in which case, please supply explicit cell edges to pcolor.\n",
      "  contour_plot = ax[0].pcolor(XpC, P2_reshape_lat/100, TR2v2, cmap = 'Blues', vmin = 0, vmax = 1.0)\n",
      "/tmp/ipykernel_103632/3271378258.py:46: UserWarning: The input coordinates to pcolor are interpreted as cell centers, but are not monotonically increasing or decreasing. This may lead to incorrectly calculated cell edges, in which case, please supply explicit cell edges to pcolor.\n",
      "  ax[1].pcolor(XpC, P2_reshape_lat/100, QR2v2,  cmap = 'Blues', vmin = 0, vmax = 1.0)\n"
     ]
    },
    {
     "name": "stdout",
     "output_type": "stream",
     "text": [
      "/pscratch/sd/h/heroplr/R2_analysis/regrid/step2_lot-41_trial_0100.best_aave.nc\n"
     ]
    },
    {
     "name": "stderr",
     "output_type": "stream",
     "text": [
      "/tmp/ipykernel_103632/2418165556.py:14: RuntimeWarning: divide by zero encountered in double_scalars\n",
      "  R2[z,i] = 1-(SSE[z,i]/SVAR[z,i])\n",
      "/tmp/ipykernel_103632/3271378258.py:36: UserWarning: The input coordinates to pcolor are interpreted as cell centers, but are not monotonically increasing or decreasing. This may lead to incorrectly calculated cell edges, in which case, please supply explicit cell edges to pcolor.\n",
      "  contour_plot = ax[0].pcolor(XpC, P2_reshape_lat/100, TR2v2, cmap = 'Blues', vmin = 0, vmax = 1.0)\n",
      "/tmp/ipykernel_103632/3271378258.py:46: UserWarning: The input coordinates to pcolor are interpreted as cell centers, but are not monotonically increasing or decreasing. This may lead to incorrectly calculated cell edges, in which case, please supply explicit cell edges to pcolor.\n",
      "  ax[1].pcolor(XpC, P2_reshape_lat/100, QR2v2,  cmap = 'Blues', vmin = 0, vmax = 1.0)\n"
     ]
    },
    {
     "name": "stdout",
     "output_type": "stream",
     "text": [
      "/pscratch/sd/h/heroplr/R2_analysis/regrid/step2_lot-32_trial_0105.last_aave.nc\n"
     ]
    },
    {
     "name": "stderr",
     "output_type": "stream",
     "text": [
      "/tmp/ipykernel_103632/2418165556.py:14: RuntimeWarning: divide by zero encountered in double_scalars\n",
      "  R2[z,i] = 1-(SSE[z,i]/SVAR[z,i])\n",
      "/tmp/ipykernel_103632/3271378258.py:36: UserWarning: The input coordinates to pcolor are interpreted as cell centers, but are not monotonically increasing or decreasing. This may lead to incorrectly calculated cell edges, in which case, please supply explicit cell edges to pcolor.\n",
      "  contour_plot = ax[0].pcolor(XpC, P2_reshape_lat/100, TR2v2, cmap = 'Blues', vmin = 0, vmax = 1.0)\n",
      "/tmp/ipykernel_103632/3271378258.py:46: UserWarning: The input coordinates to pcolor are interpreted as cell centers, but are not monotonically increasing or decreasing. This may lead to incorrectly calculated cell edges, in which case, please supply explicit cell edges to pcolor.\n",
      "  ax[1].pcolor(XpC, P2_reshape_lat/100, QR2v2,  cmap = 'Blues', vmin = 0, vmax = 1.0)\n"
     ]
    },
    {
     "name": "stdout",
     "output_type": "stream",
     "text": [
      "/pscratch/sd/h/heroplr/R2_analysis/regrid/step2_lot-27_trial_0086.best_aave.nc\n"
     ]
    },
    {
     "name": "stderr",
     "output_type": "stream",
     "text": [
      "/tmp/ipykernel_103632/2418165556.py:14: RuntimeWarning: divide by zero encountered in double_scalars\n",
      "  R2[z,i] = 1-(SSE[z,i]/SVAR[z,i])\n",
      "/tmp/ipykernel_103632/3271378258.py:36: UserWarning: The input coordinates to pcolor are interpreted as cell centers, but are not monotonically increasing or decreasing. This may lead to incorrectly calculated cell edges, in which case, please supply explicit cell edges to pcolor.\n",
      "  contour_plot = ax[0].pcolor(XpC, P2_reshape_lat/100, TR2v2, cmap = 'Blues', vmin = 0, vmax = 1.0)\n",
      "/tmp/ipykernel_103632/3271378258.py:46: UserWarning: The input coordinates to pcolor are interpreted as cell centers, but are not monotonically increasing or decreasing. This may lead to incorrectly calculated cell edges, in which case, please supply explicit cell edges to pcolor.\n",
      "  ax[1].pcolor(XpC, P2_reshape_lat/100, QR2v2,  cmap = 'Blues', vmin = 0, vmax = 1.0)\n"
     ]
    },
    {
     "name": "stdout",
     "output_type": "stream",
     "text": [
      "/pscratch/sd/h/heroplr/R2_analysis/regrid/step2_lot-41_trial_0023.best_aave.nc\n"
     ]
    },
    {
     "name": "stderr",
     "output_type": "stream",
     "text": [
      "/tmp/ipykernel_103632/2418165556.py:14: RuntimeWarning: divide by zero encountered in double_scalars\n",
      "  R2[z,i] = 1-(SSE[z,i]/SVAR[z,i])\n",
      "/tmp/ipykernel_103632/3271378258.py:36: UserWarning: The input coordinates to pcolor are interpreted as cell centers, but are not monotonically increasing or decreasing. This may lead to incorrectly calculated cell edges, in which case, please supply explicit cell edges to pcolor.\n",
      "  contour_plot = ax[0].pcolor(XpC, P2_reshape_lat/100, TR2v2, cmap = 'Blues', vmin = 0, vmax = 1.0)\n",
      "/tmp/ipykernel_103632/3271378258.py:46: UserWarning: The input coordinates to pcolor are interpreted as cell centers, but are not monotonically increasing or decreasing. This may lead to incorrectly calculated cell edges, in which case, please supply explicit cell edges to pcolor.\n",
      "  ax[1].pcolor(XpC, P2_reshape_lat/100, QR2v2,  cmap = 'Blues', vmin = 0, vmax = 1.0)\n"
     ]
    },
    {
     "name": "stdout",
     "output_type": "stream",
     "text": [
      "/pscratch/sd/h/heroplr/R2_analysis/regrid/step2_lot-63_trial_0024.last_aave.nc\n"
     ]
    },
    {
     "name": "stderr",
     "output_type": "stream",
     "text": [
      "/tmp/ipykernel_103632/2418165556.py:14: RuntimeWarning: divide by zero encountered in double_scalars\n",
      "  R2[z,i] = 1-(SSE[z,i]/SVAR[z,i])\n",
      "/tmp/ipykernel_103632/3271378258.py:36: UserWarning: The input coordinates to pcolor are interpreted as cell centers, but are not monotonically increasing or decreasing. This may lead to incorrectly calculated cell edges, in which case, please supply explicit cell edges to pcolor.\n",
      "  contour_plot = ax[0].pcolor(XpC, P2_reshape_lat/100, TR2v2, cmap = 'Blues', vmin = 0, vmax = 1.0)\n",
      "/tmp/ipykernel_103632/3271378258.py:46: UserWarning: The input coordinates to pcolor are interpreted as cell centers, but are not monotonically increasing or decreasing. This may lead to incorrectly calculated cell edges, in which case, please supply explicit cell edges to pcolor.\n",
      "  ax[1].pcolor(XpC, P2_reshape_lat/100, QR2v2,  cmap = 'Blues', vmin = 0, vmax = 1.0)\n"
     ]
    },
    {
     "name": "stdout",
     "output_type": "stream",
     "text": [
      "/pscratch/sd/h/heroplr/R2_analysis/regrid/step2_lot-29_trial_0144.last_aave.nc\n"
     ]
    },
    {
     "name": "stderr",
     "output_type": "stream",
     "text": [
      "/tmp/ipykernel_103632/2418165556.py:14: RuntimeWarning: divide by zero encountered in double_scalars\n",
      "  R2[z,i] = 1-(SSE[z,i]/SVAR[z,i])\n",
      "/tmp/ipykernel_103632/3271378258.py:36: UserWarning: The input coordinates to pcolor are interpreted as cell centers, but are not monotonically increasing or decreasing. This may lead to incorrectly calculated cell edges, in which case, please supply explicit cell edges to pcolor.\n",
      "  contour_plot = ax[0].pcolor(XpC, P2_reshape_lat/100, TR2v2, cmap = 'Blues', vmin = 0, vmax = 1.0)\n",
      "/tmp/ipykernel_103632/3271378258.py:46: UserWarning: The input coordinates to pcolor are interpreted as cell centers, but are not monotonically increasing or decreasing. This may lead to incorrectly calculated cell edges, in which case, please supply explicit cell edges to pcolor.\n",
      "  ax[1].pcolor(XpC, P2_reshape_lat/100, QR2v2,  cmap = 'Blues', vmin = 0, vmax = 1.0)\n"
     ]
    },
    {
     "name": "stdout",
     "output_type": "stream",
     "text": [
      "/pscratch/sd/h/heroplr/R2_analysis/regrid/step2_lot-27_trial_0109.last_aave.nc\n"
     ]
    },
    {
     "name": "stderr",
     "output_type": "stream",
     "text": [
      "/tmp/ipykernel_103632/2418165556.py:14: RuntimeWarning: divide by zero encountered in double_scalars\n",
      "  R2[z,i] = 1-(SSE[z,i]/SVAR[z,i])\n",
      "/tmp/ipykernel_103632/3271378258.py:36: UserWarning: The input coordinates to pcolor are interpreted as cell centers, but are not monotonically increasing or decreasing. This may lead to incorrectly calculated cell edges, in which case, please supply explicit cell edges to pcolor.\n",
      "  contour_plot = ax[0].pcolor(XpC, P2_reshape_lat/100, TR2v2, cmap = 'Blues', vmin = 0, vmax = 1.0)\n",
      "/tmp/ipykernel_103632/3271378258.py:46: UserWarning: The input coordinates to pcolor are interpreted as cell centers, but are not monotonically increasing or decreasing. This may lead to incorrectly calculated cell edges, in which case, please supply explicit cell edges to pcolor.\n",
      "  ax[1].pcolor(XpC, P2_reshape_lat/100, QR2v2,  cmap = 'Blues', vmin = 0, vmax = 1.0)\n"
     ]
    },
    {
     "name": "stdout",
     "output_type": "stream",
     "text": [
      "/pscratch/sd/h/heroplr/R2_analysis/regrid/step2_lot-39_trial_0081.last_aave.nc\n"
     ]
    },
    {
     "name": "stderr",
     "output_type": "stream",
     "text": [
      "/tmp/ipykernel_103632/2418165556.py:14: RuntimeWarning: divide by zero encountered in double_scalars\n",
      "  R2[z,i] = 1-(SSE[z,i]/SVAR[z,i])\n",
      "/tmp/ipykernel_103632/3271378258.py:36: UserWarning: The input coordinates to pcolor are interpreted as cell centers, but are not monotonically increasing or decreasing. This may lead to incorrectly calculated cell edges, in which case, please supply explicit cell edges to pcolor.\n",
      "  contour_plot = ax[0].pcolor(XpC, P2_reshape_lat/100, TR2v2, cmap = 'Blues', vmin = 0, vmax = 1.0)\n",
      "/tmp/ipykernel_103632/3271378258.py:46: UserWarning: The input coordinates to pcolor are interpreted as cell centers, but are not monotonically increasing or decreasing. This may lead to incorrectly calculated cell edges, in which case, please supply explicit cell edges to pcolor.\n",
      "  ax[1].pcolor(XpC, P2_reshape_lat/100, QR2v2,  cmap = 'Blues', vmin = 0, vmax = 1.0)\n"
     ]
    },
    {
     "name": "stdout",
     "output_type": "stream",
     "text": [
      "/pscratch/sd/h/heroplr/R2_analysis/regrid/step2_lot-45_trial_0049.best_aave.nc\n"
     ]
    },
    {
     "name": "stderr",
     "output_type": "stream",
     "text": [
      "/tmp/ipykernel_103632/2418165556.py:14: RuntimeWarning: divide by zero encountered in double_scalars\n",
      "  R2[z,i] = 1-(SSE[z,i]/SVAR[z,i])\n",
      "/tmp/ipykernel_103632/3271378258.py:36: UserWarning: The input coordinates to pcolor are interpreted as cell centers, but are not monotonically increasing or decreasing. This may lead to incorrectly calculated cell edges, in which case, please supply explicit cell edges to pcolor.\n",
      "  contour_plot = ax[0].pcolor(XpC, P2_reshape_lat/100, TR2v2, cmap = 'Blues', vmin = 0, vmax = 1.0)\n",
      "/tmp/ipykernel_103632/3271378258.py:46: UserWarning: The input coordinates to pcolor are interpreted as cell centers, but are not monotonically increasing or decreasing. This may lead to incorrectly calculated cell edges, in which case, please supply explicit cell edges to pcolor.\n",
      "  ax[1].pcolor(XpC, P2_reshape_lat/100, QR2v2,  cmap = 'Blues', vmin = 0, vmax = 1.0)\n"
     ]
    },
    {
     "name": "stdout",
     "output_type": "stream",
     "text": [
      "/pscratch/sd/h/heroplr/R2_analysis/regrid/step2_lot-45_trial_0048.last_aave.nc\n"
     ]
    },
    {
     "name": "stderr",
     "output_type": "stream",
     "text": [
      "/tmp/ipykernel_103632/2418165556.py:14: RuntimeWarning: divide by zero encountered in double_scalars\n",
      "  R2[z,i] = 1-(SSE[z,i]/SVAR[z,i])\n",
      "/tmp/ipykernel_103632/3271378258.py:36: UserWarning: The input coordinates to pcolor are interpreted as cell centers, but are not monotonically increasing or decreasing. This may lead to incorrectly calculated cell edges, in which case, please supply explicit cell edges to pcolor.\n",
      "  contour_plot = ax[0].pcolor(XpC, P2_reshape_lat/100, TR2v2, cmap = 'Blues', vmin = 0, vmax = 1.0)\n",
      "/tmp/ipykernel_103632/3271378258.py:46: UserWarning: The input coordinates to pcolor are interpreted as cell centers, but are not monotonically increasing or decreasing. This may lead to incorrectly calculated cell edges, in which case, please supply explicit cell edges to pcolor.\n",
      "  ax[1].pcolor(XpC, P2_reshape_lat/100, QR2v2,  cmap = 'Blues', vmin = 0, vmax = 1.0)\n"
     ]
    },
    {
     "name": "stdout",
     "output_type": "stream",
     "text": [
      "/pscratch/sd/h/heroplr/R2_analysis/regrid/step2_lot-41_trial_0103.best_aave.nc\n"
     ]
    },
    {
     "name": "stderr",
     "output_type": "stream",
     "text": [
      "/tmp/ipykernel_103632/2418165556.py:14: RuntimeWarning: divide by zero encountered in double_scalars\n",
      "  R2[z,i] = 1-(SSE[z,i]/SVAR[z,i])\n",
      "/tmp/ipykernel_103632/3271378258.py:36: UserWarning: The input coordinates to pcolor are interpreted as cell centers, but are not monotonically increasing or decreasing. This may lead to incorrectly calculated cell edges, in which case, please supply explicit cell edges to pcolor.\n",
      "  contour_plot = ax[0].pcolor(XpC, P2_reshape_lat/100, TR2v2, cmap = 'Blues', vmin = 0, vmax = 1.0)\n",
      "/tmp/ipykernel_103632/3271378258.py:46: UserWarning: The input coordinates to pcolor are interpreted as cell centers, but are not monotonically increasing or decreasing. This may lead to incorrectly calculated cell edges, in which case, please supply explicit cell edges to pcolor.\n",
      "  ax[1].pcolor(XpC, P2_reshape_lat/100, QR2v2,  cmap = 'Blues', vmin = 0, vmax = 1.0)\n"
     ]
    }
   ],
   "source": [
    "import os\n",
    "import netCDF4 as nc\n",
    "folder_path = \"/pscratch/sd/h/heroplr/R2_analysis/regrid\"  # Replace with the actual folder path\n",
    "out_folder = \"/pscratch/sd/h/heroplr/R2_analysis/regrid/Figures\"\n",
    "\n",
    "for filename in os.listdir(folder_path):\n",
    "    file_path = os.path.join(folder_path, filename)\n",
    "    \n",
    "    if os.path.isfile(file_path):\n",
    "        # Perform operations on the file\n",
    "        print(file_path)  # Example: Print the file path\n",
    "        TR2_out_file = xr.open_dataset(file_path)\n",
    "        TR_2 = TR2_out_file.TR2.values\n",
    "        QR_2 = TR2_out_file.QR2.values\n",
    "        P_2 = TR2_out_file.P.values\n",
    "        lon_C = TR2_out_file.lon.values\n",
    "        lat_C = TR2_out_file.lat.values\n",
    "        T_tend_true_avg_2 = TR2_out_file.T_tend_true_avg.values\n",
    "        T_pred_true_avg_2 = TR2_out_file.T_pred_true_avg.values\n",
    "        Q_tend_true_avg_2 = TR2_out_file.Q_tend_true_avg.values\n",
    "        Q_pred_true_avg_2 = TR2_out_file.Q_pred_true_avg.values\n",
    "        TR2_reshape_lat = np.nanmean(TR_2,axis=2)\n",
    "        QR2_reshape_lat = np.mean(QR_2,axis=2)\n",
    "        T_tend_true_avg_2_reshape_lat = np.nanmean(T_tend_true_avg_2,axis=3)\n",
    "        T_pred_true_avg_2_reshape_lat = np.mean(T_pred_true_avg_2,axis=3)\n",
    "        Q_tend_true_avg_2_reshape_lat = np.nanmean(Q_tend_true_avg_2,axis=3)\n",
    "        Q_pred_true_avg_2_reshape_lat = np.mean(Q_pred_true_avg_2,axis=3)\n",
    "        P2_reshape_lat = np.mean(P_2,axis=2)\n",
    "        TSSE,TSVAR,TR2v2 = estimate_R2_out(T_tend_true_avg_2_reshape_lat,T_pred_true_avg_2_reshape_lat,60,31,180)\n",
    "        QSSE,QSVAR,QR2v2 = estimate_R2_out(Q_tend_true_avg_2_reshape_lat,Q_pred_true_avg_2_reshape_lat,60,31,180)\n",
    "        XpC, YpC = np.meshgrid(lat_C,P2_reshape_lat[:,0])\n",
    "        \n",
    "        #fig, ax = plt.subplots(2,2, figsize=(15,15))\n",
    "        fig, ax = plt.subplots(1,2, figsize=(15,5))\n",
    "        fz = 20\n",
    "        contour_plot = ax[0].pcolor(XpC, P2_reshape_lat/100, TR2v2, cmap = 'Blues', vmin = 0, vmax = 1.0)\n",
    "        ax[0].contour(XpC, P2_reshape_lat/100 , TR2v2, [0.7], colors='pink', linewidths=[4])\n",
    "        ax[0].contour(XpC, P2_reshape_lat/100, TR2v2, [0.9], colors='orange', linewidths=[4])\n",
    "        ax[0].set_title(\"(a) Heating\", fontsize = fz)\n",
    "        ax[0].set_ylim(ax[0].get_ylim()[::-1])\n",
    "        ax[0].set_ylabel(\"Pressure (hPa)\", fontsize = fz)\n",
    "        ax[0].locator_params(nbins=8)\n",
    "        ax[0].tick_params(axis='x', labelsize=fz*0.9)\n",
    "        ax[0].tick_params(axis='y', labelsize=fz*0.9)\n",
    "\n",
    "        ax[1].pcolor(XpC, P2_reshape_lat/100, QR2v2,  cmap = 'Blues', vmin = 0, vmax = 1.0)\n",
    "        ax[1].contour(XpC, P2_reshape_lat/100, QR2v2,  [0.7], colors='pink', linewidths=[4])\n",
    "        ax[1].contour(XpC, P2_reshape_lat/100, QR2v2,  [0.9], colors='orange', linewidths=[4])\n",
    "        ax[1].set_title(\"(b) Moistening\", fontsize = fz)\n",
    "        ax[1].set_ylim(ax[1].get_ylim()[::-1])\n",
    "        ax[1].locator_params(nbins=8)\n",
    "        ax[1].set_yticks([])\n",
    "        ax[1].tick_params(axis='x', labelsize=fz*0.9)\n",
    "\n",
    "        #ax[1].yaxis.set_label_coords(-1.38,-0.09)\n",
    "\n",
    "        fig.subplots_adjust(right=0.8)\n",
    "        cbar_ax = fig.add_axes([0.82, 0.12, 0.02, 0.76])\n",
    "        fig.colorbar(contour_plot, label=\"Skill Score \"+r'$\\left(\\mathrm{R^{2}}\\right)$', cax=cbar_ax)\n",
    "        #plt.suptitle(\"Trained DNN Skill for Vertically Resolved Tendencies\", y = 0.97)\n",
    "        plt.subplots_adjust(hspace=0.13)\n",
    "        figure_filename = file_path[-30:-8]+'.pdf'\n",
    "        plt.savefig(figure_filename)\n",
    "        \n",
    "        \n",
    "        "
   ]
  }
 ],
 "metadata": {
  "kernelspec": {
   "display_name": "NERSC Python",
   "language": "python",
   "name": "python3"
  },
  "language_info": {
   "codemirror_mode": {
    "name": "ipython",
    "version": 3
   },
   "file_extension": ".py",
   "mimetype": "text/x-python",
   "name": "python",
   "nbconvert_exporter": "python",
   "pygments_lexer": "ipython3",
   "version": "3.9.7"
  }
 },
 "nbformat": 4,
 "nbformat_minor": 5
}
