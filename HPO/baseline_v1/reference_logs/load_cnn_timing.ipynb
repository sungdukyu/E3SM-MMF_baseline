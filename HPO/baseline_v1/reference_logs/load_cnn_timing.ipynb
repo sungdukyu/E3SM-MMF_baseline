{
 "cells": [
  {
   "cell_type": "code",
   "execution_count": 1,
   "id": "51234561-899e-4ecc-9333-cc26fd1cf6ad",
   "metadata": {},
   "outputs": [],
   "source": [
    "import numpy as np\n",
    "import os"
   ]
  },
  {
   "cell_type": "code",
   "execution_count": 2,
   "id": "78ecc539-10ac-4128-aae2-4110afcea363",
   "metadata": {},
   "outputs": [
    {
     "data": {
      "text/plain": [
       "['indextolatlons.pkl',\n",
       " 'make_train_npy.ipynb',\n",
       " 'make_val_npy.ipynb',\n",
       " 'make_val_stride6.ipynb',\n",
       " 'reshape_for_cnn.ipynb',\n",
       " 'reshaping_analysis.ipynb',\n",
       " 'train_input.npy',\n",
       " 'train_target.npy',\n",
       " 'val_input.npy',\n",
       " 'val_input_stride6.npy',\n",
       " 'val_target.npy',\n",
       " 'val_target_stride6.npy']"
      ]
     },
     "execution_count": 2,
     "metadata": {},
     "output_type": "execute_result"
    }
   ],
   "source": [
    "def ls(data_path = \"\"):\n",
    "    '''\n",
    "    You can treat this as a Python wrapper for the bash command \"ls\".\n",
    "    '''\n",
    "    return os.popen(\" \".join([\"ls\", data_path])).read().splitlines()\n",
    "ls(\"../e3sm_train_npy/\")"
   ]
  },
  {
   "cell_type": "code",
   "execution_count": 3,
   "id": "5b19b4be-3bea-4923-ad8d-71d63a02fbf5",
   "metadata": {},
   "outputs": [],
   "source": [
    "training_data_path = '/ocean/projects/atm200007p/jlin96/neurips_proj/e3sm_train_npy/'"
   ]
  },
  {
   "cell_type": "code",
   "execution_count": 4,
   "id": "c0cf6ec2-d3f9-4ac6-bd95-d3a95233a125",
   "metadata": {},
   "outputs": [
    {
     "name": "stdout",
     "output_type": "stream",
     "text": [
      "(10091520, 60, 6)\n"
     ]
    }
   ],
   "source": [
    "with open(training_data_path + 'train_input_cnn.npy', 'rb') as f:\n",
    "    train_input_cnn = np.load(f)\n",
    "print(train_input_cnn.shape)"
   ]
  },
  {
   "cell_type": "code",
   "execution_count": 5,
   "id": "485a75bf-0a0d-412c-ba44-d6f07f475909",
   "metadata": {},
   "outputs": [
    {
     "name": "stdout",
     "output_type": "stream",
     "text": [
      "(10091520, 60, 10)\n"
     ]
    }
   ],
   "source": [
    "with open(training_data_path + 'train_target_cnn.npy', 'rb') as f:\n",
    "    train_target_cnn = np.load(f)\n",
    "print(train_target_cnn.shape)"
   ]
  },
  {
   "cell_type": "code",
   "execution_count": 6,
   "id": "9c8794ba-3695-4733-8769-2ca0a5063321",
   "metadata": {},
   "outputs": [
    {
     "name": "stdout",
     "output_type": "stream",
     "text": [
      "(1441920, 60, 6)\n"
     ]
    }
   ],
   "source": [
    "with open(training_data_path + 'val_input_cnn.npy', 'rb') as f:\n",
    "    val_input_cnn = np.load(f)\n",
    "print(val_input_cnn.shape)"
   ]
  },
  {
   "cell_type": "code",
   "execution_count": 7,
   "id": "2fe3e205",
   "metadata": {},
   "outputs": [
    {
     "name": "stdout",
     "output_type": "stream",
     "text": [
      "(1441920, 60, 10)\n"
     ]
    }
   ],
   "source": [
    "with open(training_data_path + 'val_target_cnn.npy', 'rb') as f:\n",
    "    val_input_cnn = np.load(f)\n",
    "print(val_input_cnn.shape)"
   ]
  },
  {
   "cell_type": "code",
   "execution_count": null,
   "id": "4cf915b7",
   "metadata": {},
   "outputs": [],
   "source": []
  }
 ],
 "metadata": {
  "kernelspec": {
   "display_name": "Python 3 (ipykernel)",
   "language": "python",
   "name": "python3"
  },
  "language_info": {
   "codemirror_mode": {
    "name": "ipython",
    "version": 3
   },
   "file_extension": ".py",
   "mimetype": "text/x-python",
   "name": "python",
   "nbconvert_exporter": "python",
   "pygments_lexer": "ipython3",
   "version": "3.8.5"
  }
 },
 "nbformat": 4,
 "nbformat_minor": 5
}
