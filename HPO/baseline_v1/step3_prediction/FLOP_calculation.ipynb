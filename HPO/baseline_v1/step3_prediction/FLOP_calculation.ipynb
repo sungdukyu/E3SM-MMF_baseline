{
 "cells": [
  {
   "cell_type": "markdown",
   "id": "5a9af1ae-fc4d-417c-9149-818942bcead0",
   "metadata": {},
   "source": [
    "calculating flops for the MLP baseline"
   ]
  },
  {
   "cell_type": "code",
   "execution_count": 1,
   "id": "032c874b-87c5-4bfe-a50b-4cf1fbbe6bce",
   "metadata": {},
   "outputs": [
    {
     "name": "stderr",
     "output_type": "stream",
     "text": [
      "2023-06-13 11:23:47.629986: I tensorflow/core/platform/cpu_feature_guard.cc:193] This TensorFlow binary is optimized with oneAPI Deep Neural Network Library (oneDNN) to use the following CPU instructions in performance-critical operations:  SSE4.1 SSE4.2 AVX AVX2 FMA\n",
      "To enable them in other operations, rebuild TensorFlow with the appropriate compiler flags.\n"
     ]
    }
   ],
   "source": [
    "import csv\n",
    "import pandas as pd\n",
    "import tensorflow as tf\n",
    "from tensorflow import keras\n",
    "import os\n",
    "from keras_flops import get_flops"
   ]
  },
  {
   "cell_type": "code",
   "execution_count": 2,
   "id": "01d06088-256f-42ca-bd36-ff1a5c26e263",
   "metadata": {},
   "outputs": [
    {
     "data": {
      "text/plain": [
       "[PhysicalDevice(name='/physical_device:CPU:0', device_type='CPU'),\n",
       " PhysicalDevice(name='/physical_device:GPU:0', device_type='GPU')]"
      ]
     },
     "execution_count": 2,
     "metadata": {},
     "output_type": "execute_result"
    }
   ],
   "source": [
    "tf.config.list_physical_devices()"
   ]
  },
  {
   "cell_type": "code",
   "execution_count": 3,
   "id": "9aa08916-00b8-42ad-af19-2a58b414262e",
   "metadata": {},
   "outputs": [],
   "source": [
    "os.environ['CUDA_VISIBLE_DEVICES'] = \"0\""
   ]
  },
  {
   "cell_type": "code",
   "execution_count": 4,
   "id": "df64a64a-226b-4fda-9a72-306d24851b78",
   "metadata": {},
   "outputs": [
    {
     "name": "stdout",
     "output_type": "stream",
     "text": [
      "Model: \"retrained_model\"\n",
      "__________________________________________________________________________________________________\n",
      " Layer (type)                   Output Shape         Param #     Connected to                     \n",
      "==================================================================================================\n",
      " input (InputLayer)             [(None, 124)]        0           []                               \n",
      "                                                                                                  \n",
      " dense (Dense)                  (None, 768)          96000       ['input[0][0]']                  \n",
      "                                                                                                  \n",
      " leaky_re_lu (LeakyReLU)        (None, 768)          0           ['dense[0][0]']                  \n",
      "                                                                                                  \n",
      " dense_1 (Dense)                (None, 640)          492160      ['leaky_re_lu[0][0]']            \n",
      "                                                                                                  \n",
      " leaky_re_lu_1 (LeakyReLU)      (None, 640)          0           ['dense_1[0][0]']                \n",
      "                                                                                                  \n",
      " dense_2 (Dense)                (None, 512)          328192      ['leaky_re_lu_1[0][0]']          \n",
      "                                                                                                  \n",
      " leaky_re_lu_2 (LeakyReLU)      (None, 512)          0           ['dense_2[0][0]']                \n",
      "                                                                                                  \n",
      " dense_3 (Dense)                (None, 640)          328320      ['leaky_re_lu_2[0][0]']          \n",
      "                                                                                                  \n",
      " leaky_re_lu_3 (LeakyReLU)      (None, 640)          0           ['dense_3[0][0]']                \n",
      "                                                                                                  \n",
      " dense_4 (Dense)                (None, 640)          410240      ['leaky_re_lu_3[0][0]']          \n",
      "                                                                                                  \n",
      " leaky_re_lu_4 (LeakyReLU)      (None, 640)          0           ['dense_4[0][0]']                \n",
      "                                                                                                  \n",
      " dense_5 (Dense)                (None, 128)          82048       ['leaky_re_lu_4[0][0]']          \n",
      "                                                                                                  \n",
      " leaky_re_lu_5 (LeakyReLU)      (None, 128)          0           ['dense_5[0][0]']                \n",
      "                                                                                                  \n",
      " dense_6 (Dense)                (None, 120)          15480       ['leaky_re_lu_5[0][0]']          \n",
      "                                                                                                  \n",
      " dense_7 (Dense)                (None, 8)            1032        ['leaky_re_lu_5[0][0]']          \n",
      "                                                                                                  \n",
      " concatenate (Concatenate)      (None, 128)          0           ['dense_6[0][0]',                \n",
      "                                                                  'dense_7[0][0]']                \n",
      "                                                                                                  \n",
      "==================================================================================================\n",
      "Total params: 1,753,472\n",
      "Trainable params: 1,753,472\n",
      "Non-trainable params: 0\n",
      "__________________________________________________________________________________________________\n"
     ]
    },
    {
     "name": "stderr",
     "output_type": "stream",
     "text": [
      "2023-06-13 11:24:01.414143: I tensorflow/core/platform/cpu_feature_guard.cc:193] This TensorFlow binary is optimized with oneAPI Deep Neural Network Library (oneDNN) to use the following CPU instructions in performance-critical operations:  SSE4.1 SSE4.2 AVX AVX2 FMA\n",
      "To enable them in other operations, rebuild TensorFlow with the appropriate compiler flags.\n",
      "2023-06-13 11:24:01.906190: I tensorflow/core/common_runtime/gpu/gpu_device.cc:1613] Created device /job:localhost/replica:0/task:0/device:GPU:0 with 18607 MB memory:  -> device: 0, name: NVIDIA A100-PCIE-40GB, pci bus id: 0000:c3:00.0, compute capability: 8.0\n"
     ]
    }
   ],
   "source": [
    "MODELPATH=pd.read_csv('../step2_retrain/top_models_after_step2.csv', index_col=0, header=None)\n",
    "\n",
    "for k in range(1,2):\n",
    "    f_model = f'../step2_retrain/{MODELPATH.loc[k].values.item()}'.replace(' ','')\n",
    "    model = keras.models.load_model(f_model, compile=False)\n",
    "    model.summary()    "
   ]
  },
  {
   "cell_type": "code",
   "execution_count": 5,
   "id": "d45e1d1f-c09b-4aef-918c-29ac1397b7af",
   "metadata": {},
   "outputs": [
    {
     "name": "stdout",
     "output_type": "stream",
     "text": [
      "WARNING:tensorflow:From /global/homes/s/sungduk/.conda/envs/tf_conda/lib/python3.10/site-packages/tensorflow/python/ops/math_ops.py:3837: tensor_shape_from_node_def_name (from tensorflow.python.framework.graph_util_impl) is deprecated and will be removed in a future version.\n",
      "Instructions for updating:\n",
      "This API was designed for TensorFlow v1. See https://www.tensorflow.org/guide/migrate for instructions on how to migrate your code to TensorFlow v2.\n",
      "\n",
      "=========================Options=============================\n",
      "-max_depth                  10000\n",
      "-min_bytes                  0\n",
      "-min_peak_bytes             0\n",
      "-min_residual_bytes         0\n",
      "-min_output_bytes           0\n",
      "-min_micros                 0\n",
      "-min_accelerator_micros     0\n",
      "-min_cpu_micros             0\n",
      "-min_params                 0\n",
      "-min_float_ops              1\n",
      "-min_occurrence             0\n",
      "-step                       -1\n",
      "-order_by                   float_ops\n",
      "-account_type_regexes       .*\n",
      "-start_name_regexes         .*\n",
      "-trim_name_regexes          \n",
      "-show_name_regexes          .*\n",
      "-hide_name_regexes          \n",
      "-account_displayed_op_only  true\n",
      "-select                     float_ops\n",
      "-output                     stdout:\n",
      "\n",
      "==================Model Analysis Report======================\n",
      "\n",
      "Doc:\n",
      "scope: The nodes in the model graph are organized by their names, which is hierarchical like filesystem.\n",
      "flops: Number of float operations. Note: Please read the implementation for the math behind it.\n",
      "\n",
      "ProfiFLOPS: 0.0035 G\n",
      "le:\n",
      "node name | # float_ops\n",
      "_TFProfRoot (--/3.50m flops)\n",
      "  retrained_model/dense_1/MatMul (983.04k/983.04k flops)\n",
      "  retrained_model/dense_4/MatMul (819.20k/819.20k flops)\n",
      "  retrained_model/dense_2/MatMul (655.36k/655.36k flops)\n",
      "  retrained_model/dense_3/MatMul (655.36k/655.36k flops)\n",
      "  retrained_model/dense/MatMul (190.46k/190.46k flops)\n",
      "  retrained_model/dense_5/MatMul (163.84k/163.84k flops)\n",
      "  retrained_model/dense_6/MatMul (30.72k/30.72k flops)\n",
      "  retrained_model/dense_7/MatMul (2.05k/2.05k flops)\n",
      "  retrained_model/dense/BiasAdd (768/768 flops)\n",
      "  retrained_model/dense_1/BiasAdd (640/640 flops)\n",
      "  retrained_model/dense_3/BiasAdd (640/640 flops)\n",
      "  retrained_model/dense_4/BiasAdd (640/640 flops)\n",
      "  retrained_model/dense_2/BiasAdd (512/512 flops)\n",
      "  retrained_model/dense_5/BiasAdd (128/128 flops)\n",
      "  retrained_model/dense_6/BiasAdd (120/120 flops)\n",
      "  retrained_model/dense_7/BiasAdd (8/8 flops)\n",
      "\n",
      "======================End of Report==========================\n"
     ]
    },
    {
     "name": "stderr",
     "output_type": "stream",
     "text": [
      "2023-06-13 11:24:06.781935: I tensorflow/core/grappler/devices.cc:66] Number of eligible GPUs (core count >= 8, compute capability >= 0.0): 1\n",
      "2023-06-13 11:24:06.782081: I tensorflow/core/grappler/clusters/single_machine.cc:358] Starting new session\n",
      "2023-06-13 11:24:06.791642: I tensorflow/core/common_runtime/gpu/gpu_device.cc:1613] Created device /job:localhost/replica:0/task:0/device:GPU:0 with 18607 MB memory:  -> device: 0, name: NVIDIA A100-PCIE-40GB, pci bus id: 0000:c3:00.0, compute capability: 8.0\n"
     ]
    }
   ],
   "source": [
    "flops = get_flops(model, batch_size=1)\n",
    "print(f\"FLOPS: {flops / 10 ** 9:.03} G\")"
   ]
  },
  {
   "cell_type": "code",
   "execution_count": 6,
   "id": "6abf4a58-93be-44d1-9a8a-a39637048079",
   "metadata": {},
   "outputs": [
    {
     "data": {
      "text/plain": [
       "3503488"
      ]
     },
     "execution_count": 6,
     "metadata": {},
     "output_type": "execute_result"
    }
   ],
   "source": [
    "flops"
   ]
  }
 ],
 "metadata": {
  "kernelspec": {
   "display_name": "myenv-tf_conda",
   "language": "python",
   "name": "myenv-tf_conda"
  },
  "language_info": {
   "codemirror_mode": {
    "name": "ipython",
    "version": 3
   },
   "file_extension": ".py",
   "mimetype": "text/x-python",
   "name": "python",
   "nbconvert_exporter": "python",
   "pygments_lexer": "ipython3",
   "version": "3.10.10"
  }
 },
 "nbformat": 4,
 "nbformat_minor": 5
}
