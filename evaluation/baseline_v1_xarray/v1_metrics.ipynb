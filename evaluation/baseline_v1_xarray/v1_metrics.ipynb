{
 "cells": [
  {
   "cell_type": "markdown",
   "id": "ae4f6fc4-abb2-4174-a21e-8a71abc818cc",
   "metadata": {},
   "source": [
    "Author: Sungduk Yu\\\n",
    "Date: Sun 04 Jun 2023 02:40:37 PM PDT\\\n",
    "Description:\\\n",
    "This script calculates evaluation three metrics (MAE, R2, RMSE) based on daily-mean, horizontal-mean values of each variables.\\\n",
    "\n",
    "Input:\n",
    " - model_name: a string, model name\n",
    " - fn_x_true: npy file name for true input\n",
    " - fn_y_true: npy file name for true output\n",
    " - fn_y_pred: npy file name for model prediction\n",
    " - fn_grid: netcdif file name for grid information\n",
    " - fn_mli_mean, fn_mli_min, fn_mli_max: netcdf file names for input normalization coefficients (mean, min, max)\n",
    " - fn_mlo_scale: netcdf file name for output scaling coefficients.\n",
    "\n",
    "Output:\n",
    "- calculated metrics as csv file \"<model_name>.evaluation-metrics.csv\""
   ]
  },
  {
   "cell_type": "markdown",
   "id": "31da6dc6-2212-41ec-8d8b-cf20d4648329",
   "metadata": {},
   "source": [
    "# Change file names [user input here only!]"
   ]
  },
  {
   "cell_type": "code",
   "execution_count": 1,
   "id": "a1472412-5b11-422a-b45c-e4018f42ff99",
   "metadata": {},
   "outputs": [],
   "source": [
    "# model name\n",
    "# (model name is used for the output\n",
    "model_name = 'MLP'\n",
    "# input of validation dataset (npy)\n",
    "fn_x_true = '../../npy_data_conversion/npy_files/val_input_stride6.npy'\n",
    "# true output of validation dataset (npy)\n",
    "fn_y_true = '../../npy_data_conversion/npy_files/val_target_stride6.npy'\n",
    "# Model predicted output of varlidation dataset (npy)\n",
    "fn_y_pred = '../../HPO/baseline_v1/step3_prediction/predicted/'+\\\n",
    "           '001_backup_phase-7_retrained_models_step2_lot-147_trial_0027.best.h5.npy'\n",
    "# model grid information (nc)\n",
    "fn_grid = '../../misc/E3SM-MMF_ne4_grid-info.nc'\n",
    "# normalization scale factors (nc)\n",
    "fn_mli_mean  = '../../norm_factors/mli_mean.nc'\n",
    "fn_mli_min   = '../../norm_factors/mli_min.nc'\n",
    "fn_mli_max   = '../../norm_factors/mli_max.nc'\n",
    "fn_mlo_scale = '../../norm_factors/mlo_scale.nc'"
   ]
  },
  {
   "cell_type": "markdown",
   "id": "0e08478e-eac7-4afb-800b-063c06b22d42",
   "metadata": {},
   "source": [
    "# Set energy conversion scale factors"
   ]
  },
  {
   "cell_type": "markdown",
   "id": "a1b59000-16c9-4715-bf26-b2dfc129c613",
   "metadata": {},
   "source": [
    "Energy unit conversion\n",
    " - \"dT/dt\" [K/s] * cp [J/kg/K] * dp/g [kg/m2]   -> [W/m2]\n",
    " - \"dQ/dt\" [kg/kg/s] * lv [J/kg] * dp/g [kg/m2] -> [W/m2]\n",
    " - \"PRECC\" [m/s] * lv [J/kg]  * rho_h2o [kg/m3] -> [W/m2] \n",
    " \n",
    "(for dT/dt and dQ/dt, it should be \"dp/g-weighted\" vertical integration, not vertical averaging.)"
   ]
  },
  {
   "cell_type": "code",
   "execution_count": 2,
   "id": "09283401-ee8b-403a-bdb1-b05cdcbdbc6d",
   "metadata": {},
   "outputs": [],
   "source": [
    "# physical constatns from (E3SM_ROOT/share/util/shr_const_mod.F90)\n",
    "grav    = 9.80616    # acceleration of gravity ~ m/s^2\n",
    "cp      = 1.00464e3  # specific heat of dry air   ~ J/kg/K\n",
    "lv      = 2.501e6    # latent heat of evaporation ~ J/kg\n",
    "lf      = 3.337e5    # latent heat of fusion      ~ J/kg\n",
    "ls      = lv + lf    # latent heat of sublimation ~ J/kg\n",
    "rho_air = 101325./ (6.02214e26*1.38065e-23/28.966) / 273.15 # density of dry air at STP  ~ kg/m^3\n",
    "                                                            # ~ 1.2923182846924677\n",
    "                                                            # SHR_CONST_PSTD/(SHR_CONST_RDAIR*SHR_CONST_TKFRZ)\n",
    "                                                            # SHR_CONST_RDAIR   = SHR_CONST_RGAS/SHR_CONST_MWDAIR \n",
    "                                                            # SHR_CONST_RGAS    = SHR_CONST_AVOGAD*SHR_CONST_BOLTZ\n",
    "rho_h20 = 1.e3       # density of fresh water     ~ kg/m^ 3\n",
    "\n",
    "vars_mlo_energy_conv = {'ptend_t':cp,\n",
    "                        'ptend_q0001':lv,\n",
    "                        'cam_out_NETSW':1.,\n",
    "                        'cam_out_FLWDS':1.,\n",
    "                        'cam_out_PRECSC':lv*rho_h20,\n",
    "                        'cam_out_PRECC':lv*rho_h20,\n",
    "                        'cam_out_SOLS':1.,\n",
    "                        'cam_out_SOLL':1.,\n",
    "                        'cam_out_SOLSD':1.,\n",
    "                        'cam_out_SOLLD':1.\n",
    "                       }\n",
    "# Vertical weighting (dp/g) is done in the main script as \"dp\" is not constant throughout samples."
   ]
  },
  {
   "cell_type": "markdown",
   "id": "beee1c06-3164-48a4-a3be-4b4f7a59ae96",
   "metadata": {},
   "source": [
    "# Main"
   ]
  },
  {
   "cell_type": "code",
   "execution_count": 3,
   "id": "964ff64e-7c4c-4432-bfef-a39c92254b91",
   "metadata": {},
   "outputs": [],
   "source": [
    "import numpy as np\n",
    "import xarray as xr\n",
    "import pandas as pd\n",
    "import matplotlib.pyplot as plt"
   ]
  },
  {
   "cell_type": "code",
   "execution_count": 4,
   "id": "51a1a62e-01c2-45ba-a009-9a88f069f16e",
   "metadata": {},
   "outputs": [],
   "source": [
    "# load input dataset\n",
    "x_true = np.load(fn_x_true).astype(np.float64)\n",
    "y_true = np.load(fn_y_true).astype(np.float64)\n",
    "y_pred = np.load(fn_y_pred).astype(np.float64)\n",
    "N_samples = y_pred.shape[0]\n",
    "\n",
    "ds_grid = xr.open_dataset(fn_grid)\n",
    "\n",
    "mlo_scale = xr.open_dataset(fn_mlo_scale)\n",
    "mli_mean  = xr.open_dataset(fn_mli_mean)\n",
    "mli_min   = xr.open_dataset(fn_mli_min)\n",
    "mli_max   = xr.open_dataset(fn_mli_max)"
   ]
  },
  {
   "cell_type": "markdown",
   "id": "3993f123-45bb-4b28-859c-abcb2a440615",
   "metadata": {},
   "source": [
    "## Pack np arrays to xarray dataset"
   ]
  },
  {
   "cell_type": "code",
   "execution_count": 5,
   "id": "eeec97e1-357f-4410-b102-98ace202ab81",
   "metadata": {},
   "outputs": [],
   "source": [
    "vars_mlo = ['ptend_t','ptend_q0001','cam_out_NETSW','cam_out_FLWDS','cam_out_PRECSC',\n",
    "            'cam_out_PRECC','cam_out_SOLS','cam_out_SOLL','cam_out_SOLSD','cam_out_SOLLD'] # mlo mean ML output.\n",
    "vars_mlo_len = {'ptend_t':60,\n",
    "                'ptend_q0001':60,\n",
    "                'cam_out_NETSW':1,\n",
    "                'cam_out_FLWDS':1,\n",
    "                'cam_out_PRECSC':1,\n",
    "                'cam_out_PRECC':1,\n",
    "                'cam_out_SOLS':1,\n",
    "                'cam_out_SOLL':1,\n",
    "                'cam_out_SOLSD':1,\n",
    "                'cam_out_SOLLD':1\n",
    "               }\n",
    "dim_name_level  = 'lev'\n",
    "dim_name_sample = 'sample'\n",
    "len_to_dim = {60:dim_name_level,\n",
    "              N_samples: dim_name_sample}"
   ]
  },
  {
   "cell_type": "code",
   "execution_count": 6,
   "id": "640d00ec-9f2f-4638-9ad0-c4dd2ff8b8a0",
   "metadata": {},
   "outputs": [],
   "source": [
    "DS = {}\n",
    "\n",
    "for kds in ['true', 'pred']:\n",
    "    if kds=='true':\n",
    "        work = y_true\n",
    "    elif kds=='pred':\n",
    "        work = y_pred\n",
    "    \n",
    "    # [1] Construct dictionary for xarray dataset\n",
    "    #     format is key for variable name / \n",
    "    #               value for a turple of (dimension names, data).\n",
    "    to_xarray = {} \n",
    "    for k, kvar in enumerate(vars_mlo):\n",
    "\n",
    "        # length of variable (ie, number of levels)\n",
    "        kvar_len = vars_mlo_len[kvar]\n",
    "\n",
    "        # set dimensions of variable\n",
    "        if kvar_len == 60:\n",
    "            kvar_dims = (dim_name_sample, dim_name_level)\n",
    "        elif kvar_len == 1:\n",
    "            kvar_dims = dim_name_sample\n",
    "\n",
    "        # set start and end indices of variable in the loaded numpy array\n",
    "        # then, add 'kvar':(kvar_dims, <np_array>) to dictionary\n",
    "        if k==0: ind1=0\n",
    "        ind2 = ind1 + kvar_len\n",
    "        \n",
    "        # scaled output\n",
    "        kvar_data = np.squeeze(work[:,ind1:ind2])\n",
    "        # unscaled output\n",
    "        kvar_data = kvar_data / mlo_scale[kvar].values\n",
    "        \n",
    "        to_xarray[kvar] = (kvar_dims, kvar_data)\n",
    "        \n",
    "        ind1 = ind2\n",
    "        \n",
    "    # [2] convert dict to xarray dataset\n",
    "    DS[kds] = xr.Dataset(to_xarray)\n",
    "        \n",
    "    # [3] add surface pressure ('state_ps') from ml input\n",
    "    # normalized ps\n",
    "    state_ps =  xr.DataArray(x_true[:,120], dims=('sample'), name='state_ps')\n",
    "    # unnormalized ps\n",
    "    state_ps = state_ps * (mli_max['state_ps'] - mli_min['state_ps']) + mli_mean['state_ps']\n",
    "    DS[kds]['state_ps'] = state_ps\n",
    "    \n",
    "    # [4] add grid information\n",
    "    DS[kds] = xr.merge([DS[kds], ds_grid])\n",
    "    \n",
    "    # [5] add pressure thickness of each level, dp\n",
    "    tmp = DS[kds]['P0']*DS[kds]['hyai'] + DS[kds]['state_ps']*DS[kds]['hybi']\n",
    "    tmp = tmp.isel(ilev=slice(1,61)).values - tmp.isel(ilev=slice(0,60)).values\n",
    "    tmp = tmp.transpose()\n",
    "    DS[kds]['dp'] = xr.DataArray(tmp, dims=('sample', 'lev'))\n",
    "\n",
    "del work, to_xarray, y_true, y_pred, x_true, state_ps, tmp"
   ]
  },
  {
   "cell_type": "markdown",
   "id": "13c933a7-a3bf-43fa-bec6-dfd45a6da501",
   "metadata": {},
   "source": [
    "## Converting variable units to common energy unit [W/m2]"
   ]
  },
  {
   "cell_type": "code",
   "execution_count": 7,
   "id": "86ff5b7d-a6a6-4256-ab4c-9c59cc85af5c",
   "metadata": {},
   "outputs": [],
   "source": [
    "DS_ENERGY = {}\n",
    "for kds in ['true','pred']:\n",
    "    # Make a copy to keep original dataset\n",
    "    DS_ENERGY[kds] = DS[kds].copy(deep=True)    \n",
    "    \n",
    "    # [1] Make a daily mean\n",
    "    # One day = 72 time step.\n",
    "    # Validation dataset is already sub-sampled with a stride of 6.\n",
    "    # So, coarsen by 12.\n",
    "    DS_ENERGY[kds] = DS_ENERGY[kds].coarsen({'sample':12}).mean()\n",
    "    \n",
    "    # [2] Make unit conversions for each variable\n",
    "    for kvar in vars_mlo:\n",
    "        # [2a] vertically integrate variables that have a 'lev' dim. (e.g., ptend_{t,q0001})\n",
    "        # dp/g = - \\rho * dz\n",
    "        if vars_mlo_len[kvar] == 60:\n",
    "            DS_ENERGY[kds][kvar] = DS_ENERGY[kds]['dp']/grav  * DS_ENERGY[kds][kvar]\n",
    "            DS_ENERGY[kds][kvar] = DS_ENERGY[kds][kvar].sum('lev')\n",
    "            \n",
    "        # [2b] multipy a coefficient to convert units of ptend_{t,q0001}, precsc, precc to W/m2:\n",
    "        DS_ENERGY[kds][kvar] =  vars_mlo_energy_conv[kvar] * DS_ENERGY[kds][kvar] \n",
    "        \n",
    "        # Now, all mlo variables has a horizontal dimension.\n",
    "        # [2c] make a area-weighted average for each variable to make a global mean.\n",
    "        wgt_area = DS_ENERGY[kds]['area'] / DS_ENERGY[kds]['area'].sum('ncol')\n",
    "        DS_ENERGY[kds][kvar] =  (wgt_area * DS_ENERGY[kds][kvar]).sum('ncol')\n",
    "        \n",
    "    # [3] subset only model output variables\n",
    "    DS_ENERGY[kds] = DS_ENERGY[kds][vars_mlo]"
   ]
  },
  {
   "cell_type": "markdown",
   "id": "4f09b84a-1a45-46b2-af05-0f3606d0bed5",
   "metadata": {},
   "source": [
    "## Calculate metrics based on globally-averaged model output"
   ]
  },
  {
   "cell_type": "code",
   "execution_count": 8,
   "id": "7c053187-0db5-4441-9f34-0458d94472b3",
   "metadata": {},
   "outputs": [],
   "source": [
    "# calculate metrics on (daily-averaged, globally-averaged values)\n",
    "MAE  = (np.abs(DS_ENERGY['true'] - DS_ENERGY['pred'])).mean()\n",
    "RMSE = np.sqrt(((DS_ENERGY['true'] - DS_ENERGY['pred'])**2.).mean())\n",
    "R2 = 1 - ((DS_ENERGY['true'] - DS_ENERGY['pred']       )**2.).sum()/\\\n",
    "         ((DS_ENERGY['true'] - DS_ENERGY['true'].mean())**2.).sum()"
   ]
  },
  {
   "cell_type": "code",
   "execution_count": 9,
   "id": "961b0978-7d3f-4058-86d3-9ce68cd8e24f",
   "metadata": {},
   "outputs": [
    {
     "data": {
      "text/html": [
       "<div>\n",
       "<style scoped>\n",
       "    .dataframe tbody tr th:only-of-type {\n",
       "        vertical-align: middle;\n",
       "    }\n",
       "\n",
       "    .dataframe tbody tr th {\n",
       "        vertical-align: top;\n",
       "    }\n",
       "\n",
       "    .dataframe thead th {\n",
       "        text-align: right;\n",
       "    }\n",
       "</style>\n",
       "<table border=\"1\" class=\"dataframe\">\n",
       "  <thead>\n",
       "    <tr style=\"text-align: right;\">\n",
       "      <th></th>\n",
       "      <th>MAE</th>\n",
       "      <th>RMSE</th>\n",
       "      <th>R2</th>\n",
       "    </tr>\n",
       "    <tr>\n",
       "      <th>Variable</th>\n",
       "      <th></th>\n",
       "      <th></th>\n",
       "      <th></th>\n",
       "    </tr>\n",
       "  </thead>\n",
       "  <tbody>\n",
       "    <tr>\n",
       "      <th>ptend_t</th>\n",
       "      <td>20.688978</td>\n",
       "      <td>31.819260</td>\n",
       "      <td>0.942121</td>\n",
       "    </tr>\n",
       "    <tr>\n",
       "      <th>ptend_q0001</th>\n",
       "      <td>23.580985</td>\n",
       "      <td>37.761814</td>\n",
       "      <td>0.826320</td>\n",
       "    </tr>\n",
       "    <tr>\n",
       "      <th>cam_out_NETSW</th>\n",
       "      <td>6.450724</td>\n",
       "      <td>11.007628</td>\n",
       "      <td>0.997010</td>\n",
       "    </tr>\n",
       "    <tr>\n",
       "      <th>cam_out_FLWDS</th>\n",
       "      <td>1.855299</td>\n",
       "      <td>2.504190</td>\n",
       "      <td>0.998343</td>\n",
       "    </tr>\n",
       "    <tr>\n",
       "      <th>cam_out_PRECSC</th>\n",
       "      <td>1.130692</td>\n",
       "      <td>2.542136</td>\n",
       "      <td>0.953330</td>\n",
       "    </tr>\n",
       "    <tr>\n",
       "      <th>cam_out_PRECC</th>\n",
       "      <td>16.970744</td>\n",
       "      <td>27.475448</td>\n",
       "      <td>0.890595</td>\n",
       "    </tr>\n",
       "    <tr>\n",
       "      <th>cam_out_SOLS</th>\n",
       "      <td>3.552766</td>\n",
       "      <td>6.296781</td>\n",
       "      <td>0.994630</td>\n",
       "    </tr>\n",
       "    <tr>\n",
       "      <th>cam_out_SOLL</th>\n",
       "      <td>4.318243</td>\n",
       "      <td>7.419120</td>\n",
       "      <td>0.993163</td>\n",
       "    </tr>\n",
       "    <tr>\n",
       "      <th>cam_out_SOLSD</th>\n",
       "      <td>2.003350</td>\n",
       "      <td>3.313171</td>\n",
       "      <td>0.991539</td>\n",
       "    </tr>\n",
       "    <tr>\n",
       "      <th>cam_out_SOLLD</th>\n",
       "      <td>1.900105</td>\n",
       "      <td>3.243008</td>\n",
       "      <td>0.974557</td>\n",
       "    </tr>\n",
       "  </tbody>\n",
       "</table>\n",
       "</div>"
      ],
      "text/plain": [
       "                      MAE       RMSE        R2\n",
       "Variable                                      \n",
       "ptend_t         20.688978  31.819260  0.942121\n",
       "ptend_q0001     23.580985  37.761814  0.826320\n",
       "cam_out_NETSW    6.450724  11.007628  0.997010\n",
       "cam_out_FLWDS    1.855299   2.504190  0.998343\n",
       "cam_out_PRECSC   1.130692   2.542136  0.953330\n",
       "cam_out_PRECC   16.970744  27.475448  0.890595\n",
       "cam_out_SOLS     3.552766   6.296781  0.994630\n",
       "cam_out_SOLL     4.318243   7.419120  0.993163\n",
       "cam_out_SOLSD    2.003350   3.313171  0.991539\n",
       "cam_out_SOLLD    1.900105   3.243008  0.974557"
      ]
     },
     "execution_count": 9,
     "metadata": {},
     "output_type": "execute_result"
    }
   ],
   "source": [
    "# save the output\n",
    "f_save = f'{model_name}.evaluation-metrics.csv'\n",
    "work = pd.DataFrame({'MAE':  MAE.to_pandas(), \n",
    "                     'RMSE': RMSE.to_pandas(),\n",
    "                     'R2':   R2.to_pandas()}\n",
    "                    )\n",
    "work.index.name = 'Variable'\n",
    "work.to_csv(f_save)\n",
    "work"
   ]
  },
  {
   "cell_type": "markdown",
   "id": "7a029c3e-3198-453d-8b76-cd6e237658e7",
   "metadata": {},
   "source": [
    "# Plot"
   ]
  },
  {
   "cell_type": "code",
   "execution_count": 10,
   "id": "df89469c-c633-42f5-b139-b90dcb6fc9b6",
   "metadata": {},
   "outputs": [],
   "source": [
    "metrics = pd.read_csv(f_save, index_col=0)"
   ]
  },
  {
   "cell_type": "code",
   "execution_count": 11,
   "id": "a2b0f82a-e6a9-42f5-9e95-744f75018b67",
   "metadata": {},
   "outputs": [
    {
     "data": {
      "image/png": "[encoded data removed]",
      "text/plain": [
       "<Figure size 600x300 with 1 Axes>"
      ]
     },
     "metadata": {},
     "output_type": "display_data"
    },
    {
     "data": {
      "image/png": "[encoded data removed]",
      "text/plain": [
       "<Figure size 600x300 with 1 Axes>"
      ]
     },
     "metadata": {},
     "output_type": "display_data"
    },
    {
     "data": {
      "image/png": "[encoded data removed]",
      "text/plain": [
       "<Figure size 600x300 with 1 Axes>"
      ]
     },
     "metadata": {},
     "output_type": "display_data"
    }
   ],
   "source": [
    "sw_y_scale_log = False\n",
    "\n",
    "for kmetric in ['MAE', 'R2', 'RMSE']:\n",
    "    fig, ax = plt.subplots()\n",
    "    metrics[kmetric].plot.bar(ax=ax, color='green')\n",
    "    ax.set_ylabel('' if kmetric == 'R2' else ', W/m2')\n",
    "    ax.set_title(f'{model_name}: validation {kmetric}')\n",
    "    if sw_y_scale_log: ax.set_yscale('log')\n",
    "    fig.set_size_inches(6,3)"
   ]
  },
  {
   "cell_type": "code",
   "execution_count": null,
   "id": "18fcc7ad-11e1-495d-8f67-6430d0bbbab9",
   "metadata": {},
   "outputs": [],
   "source": []
  }
 ],
 "metadata": {
  "kernelspec": {
   "display_name": "myenv-tf_conda",
   "language": "python",
   "name": "myenv-tf_conda"
  },
  "language_info": {
   "codemirror_mode": {
    "name": "ipython",
    "version": 3
   },
   "file_extension": ".py",
   "mimetype": "text/x-python",
   "name": "python",
   "nbconvert_exporter": "python",
   "pygments_lexer": "ipython3",
   "version": "3.10.10"
  }
 },
 "nbformat": 4,
 "nbformat_minor": 5
}
