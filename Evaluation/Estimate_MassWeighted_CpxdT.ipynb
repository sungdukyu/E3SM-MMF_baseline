{
 "cells": [
  {
   "cell_type": "code",
   "execution_count": 1,
   "id": "37e66dba-4406-4d1d-9eeb-0168db894e7f",
   "metadata": {},
   "outputs": [
    {
     "name": "stderr",
     "output_type": "stream",
     "text": [
      "2023-06-01 06:59:59.483255: I tensorflow/core/platform/cpu_feature_guard.cc:182] This TensorFlow binary is optimized to use available CPU instructions in performance-critical operations.\n",
      "To enable the following instructions: AVX2 FMA, in other operations, rebuild TensorFlow with the appropriate compiler flags.\n",
      "2023-06-01 07:00:01.982302: W tensorflow/compiler/tf2tensorrt/utils/py_utils.cc:38] TF-TRT Warning: Could not find TensorRT\n"
     ]
    }
   ],
   "source": [
    "import json\n",
    "import pickle\n",
    "import csv\n",
    "import xarray as xr\n",
    "import numpy as np\n",
    "import matplotlib.pyplot as plt\n",
    "import glob, os\n",
    "import random\n",
    "\n",
    "import tensorflow as tf\n",
    "from tensorflow import keras"
   ]
  },
  {
   "cell_type": "code",
   "execution_count": 22,
   "id": "55015665-2328-421c-bde3-4314cbd9459b",
   "metadata": {},
   "outputs": [],
   "source": [
    "ncol = 384\n",
    "nlev = 60\n",
    "tlen = 10091520"
   ]
  },
  {
   "cell_type": "code",
   "execution_count": 3,
   "id": "b72fde58-2365-469e-a87b-8b57189a78a7",
   "metadata": {},
   "outputs": [],
   "source": [
    "# Convert to pressure\n",
    "def convert_to_Pressure(hyai,hybi,PS,P0):\n",
    "    Dimension1=hyai.shape\n",
    "    Dimension2=PS.shape\n",
    "    Pressure = np.zeros([Dimension2[1],Dimension1[0]])\n",
    "    \n",
    "    for i in range(Dimension2[1]):\n",
    "        Pressure[i,:] = (P0*hyai[:] + PS[0,i]*hybi[:])\n",
    "    return Pressure"
   ]
  },
  {
   "cell_type": "code",
   "execution_count": 4,
   "id": "535c5464-e741-49cf-aa4b-79b262b61625",
   "metadata": {},
   "outputs": [],
   "source": [
    "ne4_grid_info = xr.open_dataset('./test_data/E3SM-MMF_ne4_grid-info.orig.nc')\n",
    "lon = ne4_grid_info.lon.values\n",
    "lat = ne4_grid_info.lat.values\n",
    "area = ne4_grid_info.area.values\n",
    "hyai = ne4_grid_info.hyai.values\n",
    "hybi = ne4_grid_info.hybi.values\n",
    "PS = ne4_grid_info.PS.values\n",
    "P0 = ne4_grid_info.P0.values"
   ]
  },
  {
   "cell_type": "code",
   "execution_count": 5,
   "id": "e80b0086-9cb7-44ba-85d0-503332ab4422",
   "metadata": {},
   "outputs": [],
   "source": [
    "Pre = convert_to_Pressure(hyai,hybi,PS,P0)"
   ]
  },
  {
   "cell_type": "code",
   "execution_count": 6,
   "id": "162a854d-3175-4812-b7fd-d1751f4acae8",
   "metadata": {},
   "outputs": [],
   "source": [
    "dPre = Pre[:,1:nlev+1] - Pre[:,0:nlev] "
   ]
  },
  {
   "cell_type": "code",
   "execution_count": 7,
   "id": "8ef70822-9a50-4392-8a68-2b69b46ebe95",
   "metadata": {},
   "outputs": [],
   "source": [
    "mli_mean = xr.open_dataset('./norm_factors/mli_mean.nc')\n",
    "mli_min = xr.open_dataset('./norm_factors/mli_min.nc')\n",
    "mli_max = xr.open_dataset('./norm_factors/mli_max.nc')\n",
    "mlo_scale = xr.open_dataset('./norm_factors/mlo_scale.nc')\n",
    "ne4_grid_info = xr.open_dataset('./test_data/E3SM-MMF_ne4_grid-info.orig.nc')\n",
    "\n",
    "def load_nc_dir_with_generator_test(filelist:list, latlim=[-999,999], lonlim=[-999,999]):\n",
    "    def gen():\n",
    "        for file in filelist:\n",
    "            \n",
    "            # read mli\n",
    "            ds = xr.open_dataset(file, engine='netcdf4')\n",
    "            ds = ds[vars_mli]\n",
    "            ds = ds.merge(ne4_grid_info[['lat','lon']])\n",
    "            ds = ds.where((ds['lat']>latlim[0])*(ds['lat']<latlim[1]),drop=True)\n",
    "            ds = ds.where((ds['lon']>lonlim[0])*(ds['lon']<lonlim[1]),drop=True)\n",
    "            \n",
    "            # read mlo\n",
    "            dso = xr.open_dataset(file.replace('.mli.','.mlo.'), engine='netcdf4')\n",
    "            dso = dso.merge(ne4_grid_info[['lat','lon']])\n",
    "            dso = dso.where((dso['lat']>latlim[0])*(dso['lat']<latlim[1]),drop=True)\n",
    "            dso = dso.where((dso['lon']>lonlim[0])*(dso['lon']<lonlim[1]),drop=True)\n",
    "            \n",
    "            # make mlo variales: ptend_t and ptend_q0001\n",
    "            dso['ptend_t'] = (dso['state_t'] - ds['state_t'])/1200 # T tendency [K/s]\n",
    "            dso['ptend_q0001'] = (dso['state_q0001'] - ds['state_q0001'])/1200 # Q tendency [kg/kg/s]\n",
    "            dso = dso[vars_mlo]\n",
    "            \n",
    "            # normalizatoin, scaling\n",
    "            ds = (ds-mli_mean)/(mli_max-mli_min)\n",
    "            dso = dso*mlo_scale\n",
    "\n",
    "            # stack\n",
    "            #ds = ds.stack({'batch':{'sample','ncol'}})\n",
    "            ds = ds.stack({'batch':{'ncol'}})\n",
    "            ds = ds.to_stacked_array(\"mlvar\", sample_dims=[\"batch\"], name='mli')\n",
    "            #dso = dso.stack({'batch':{'sample','ncol'}})\n",
    "            dso = dso.stack({'batch':{'ncol'}})\n",
    "            dso = dso.to_stacked_array(\"mlvar\", sample_dims=[\"batch\"], name='mlo')\n",
    "            \n",
    "            yield (ds.values, dso.values)\n",
    "\n",
    "    return tf.data.Dataset.from_generator(\n",
    "        gen,\n",
    "        output_types=(tf.float64, tf.float64),\n",
    "        output_shapes=((None,124),(None,128))\n",
    "    )"
   ]
  },
  {
   "cell_type": "code",
   "execution_count": 8,
   "id": "768b5d16-79a7-4c63-91e2-e30df1f9cddc",
   "metadata": {},
   "outputs": [],
   "source": [
    "# in/out variable lists\n",
    "vars_mli = ['state_t','state_q0001','state_ps','pbuf_SOLIN', 'pbuf_LHFLX', 'pbuf_SHFLX']\n",
    "vars_mlo = ['ptend_t','ptend_q0001','cam_out_NETSW','cam_out_FLWDS','cam_out_PRECSC','cam_out_PRECC','cam_out_SOLS','cam_out_SOLL','cam_out_SOLSD','cam_out_SOLLD']"
   ]
  },
  {
   "cell_type": "code",
   "execution_count": 9,
   "id": "5d10200d-ba57-4e89-9efd-924f0e7f19cb",
   "metadata": {},
   "outputs": [
    {
     "name": "stdout",
     "output_type": "stream",
     "text": [
      "#files: 26280\n"
     ]
    }
   ],
   "source": [
    "# validation dataset for HPO\n",
    "stride_sample = 5 \n",
    "f_mli1 = glob.glob('/pscratch/sd/s/sungduk/hugging/E3SM-MMF_ne4/train/*/E3SM-MMF.mli.0008-0[23456789]-*-*.nc')\n",
    "f_mli2 = glob.glob('/pscratch/sd/s/sungduk/hugging/E3SM-MMF_ne4/train/*/E3SM-MMF.mli.0008-1[012]-*-*.nc')\n",
    "f_mli3 = glob.glob('/pscratch/sd/s/sungduk/hugging/E3SM-MMF_ne4/train/*/E3SM-MMF.mli.0009-01-*-*.nc')\n",
    "f_mli_val = sorted([*f_mli1, *f_mli2, *f_mli3])\n",
    "f_mli = f_mli_val\n",
    "print(f'#files: {len(f_mli)}')"
   ]
  },
  {
   "cell_type": "code",
   "execution_count": 10,
   "id": "4deb0bff-5ff1-47b8-bbd9-fe662584d905",
   "metadata": {},
   "outputs": [
    {
     "name": "stderr",
     "output_type": "stream",
     "text": [
      "2023-06-01 07:00:32.781141: E tensorflow/compiler/xla/stream_executor/cuda/cuda_driver.cc:266] failed call to cuInit: CUDA_ERROR_NO_DEVICE: no CUDA-capable device is detected\n",
      "2023-06-01 07:00:32.933399: I tensorflow/core/common_runtime/executor.cc:1197] [/device:CPU:0] (DEBUG INFO) Executor start aborting (this does not indicate an error and you can ignore this message): INVALID_ARGUMENT: You must feed a value for placeholder tensor 'Placeholder/_0' with dtype int32\n",
      "\t [[{{node Placeholder/_0}}]]\n"
     ]
    }
   ],
   "source": [
    "tds_test = load_nc_dir_with_generator_test(f_mli)\n",
    "work = list(tds_test.as_numpy_iterator())\n",
    "x_true_n = np.concatenate([ work[k][0] for k in range(len(work)) ])\n",
    "y_true_n = np.concatenate([ work[k][1] for k in range(len(work)) ])"
   ]
  },
  {
   "cell_type": "code",
   "execution_count": 11,
   "id": "20c56a4d-9a2a-4aa2-a405-8df0fe66187f",
   "metadata": {},
   "outputs": [],
   "source": [
    "# This function turns 20 minute increments into daily averages\n",
    "# (384)*ndays*72 = Dim[0]\n",
    "# Output dim: (384)*ndays\n",
    "# Griffin's original version is based on regrided data\n",
    "# This version is based on ne4pg2 grid (384 columns)\n",
    "# This change allow me to use Sungduk's code directly\n",
    "# since he generaged the min/max/scale already\n",
    "def average_data_Griffin_LiranEdited(reconstructed_targets,reconstructed_features):\n",
    "    Dim = reconstructed_targets.shape\n",
    "    x = 384\n",
    "    tnum = 72\n",
    "    t = Dim[0]\n",
    "    z = Dim[1]\n",
    "    ndays = int(t/(tnum*x))\n",
    "    \n",
    "    target_days = np.zeros(shape=(x*ndays,tnum, z))\n",
    "    feat_days = np.zeros(shape=(x*ndays,tnum, z))\n",
    "    day_array_targ = np.zeros(shape=(x,tnum,ndays, z))\n",
    "    day_array_feat = np.zeros(shape=(x,tnum,ndays, z))\n",
    "    #print(day_array_feat.shape)\n",
    "    ncol_count = 0\n",
    "    tstep_count = 0\n",
    "    day_count = 0\n",
    "    \n",
    "    for i in range(t):\n",
    "        temp_targ = reconstructed_targets[i, :]\n",
    "        day_array_targ[ncol_count,tstep_count,day_count, :] = temp_targ\n",
    "        temp_feat = reconstructed_features[i, :]\n",
    "        day_array_feat[ncol_count,tstep_count,day_count,:] = temp_feat\n",
    "        \n",
    "        if (ncol_count == x-1):\n",
    "            ncol_count = 0\n",
    "            tstep_count = tstep_count+1\n",
    "        else:\n",
    "            ncol_count = ncol_count+1\n",
    "        \n",
    "        if (tstep_count == tnum):\n",
    "            tstep_count = 0\n",
    "            day_count = day_count+1   \n",
    "            \n",
    "            \n",
    "    day_array_targ_out = np.nanmean(day_array_targ, axis = 1)\n",
    "    day_array_feat_out = np.nanmean(day_array_feat, axis = 1)\n",
    "    \n",
    "    return day_array_targ_out,day_array_feat_out"
   ]
  },
  {
   "cell_type": "code",
   "execution_count": 12,
   "id": "9fe46fd3-6bd7-41cc-be7f-c0bdba429b55",
   "metadata": {},
   "outputs": [],
   "source": [
    "import os\n",
    "import netCDF4 as nc\n",
    "folder_path = \"/pscratch/sd/h/heroplr/step2_retrain/backup_phase-4_retrained_models\"  # Replace with the actual folder path\n",
    "out_folder = \"/pscratch/sd/h/heroplr/R2_analysis_all/\"\n",
    "Dim_true = x_true_n.shape\n",
    "# Loop through all files in the folder\n",
    "numday = int(Dim_true[0]/ncol/72)\n",
    "filename=\"step2_lot-101_trial_0028.best.h5\"\n",
    "file_path = os.path.join(folder_path, filename)"
   ]
  },
  {
   "cell_type": "code",
   "execution_count": 13,
   "id": "23946bf2-1d1a-49f8-a825-a1f6846dec9a",
   "metadata": {},
   "outputs": [],
   "source": [
    "model = keras.models.load_model(file_path,compile=False)\n",
    "y_pred = model(x_true_n)\n",
    "T_tend_true = y_true_n[:,:60]\n",
    "T_pred_true = y_pred[:,:60]\n",
    "Q_tend_true = y_true_n[:,60:120]\n",
    "Q_pred_true =y_pred[:,60:120]"
   ]
  },
  {
   "cell_type": "code",
   "execution_count": 14,
   "id": "9cb55fce-471f-4b18-8469-a6f1591084c1",
   "metadata": {},
   "outputs": [],
   "source": [
    "mweightpre    =  dPre/9.8  # dP/g"
   ]
  },
  {
   "cell_type": "code",
   "execution_count": 54,
   "id": "8c83688f-0bf9-483c-bf14-115e98129c59",
   "metadata": {},
   "outputs": [],
   "source": [
    "mweightpre = np.zeros([ncol,nlev])\n",
    "for k in range(nlev):\n",
    "    mweightpre[:,k]    =  area*dPre[:,k]/np.sum(dPre[:,k])"
   ]
  },
  {
   "cell_type": "code",
   "execution_count": 25,
   "id": "1830305e-55be-4b30-85b7-e0f996de7394",
   "metadata": {},
   "outputs": [],
   "source": [
    "T_tend_true2,T_pred_true2 = average_data_Griffin_LiranEdited(T_tend_true,T_pred_true)\n",
    "Q_tend_true2,Q_pred_true2 = average_data_Griffin_LiranEdited(Q_tend_true,Q_pred_true)"
   ]
  },
  {
   "cell_type": "code",
   "execution_count": 86,
   "id": "b1b9d66d-6b20-4ef3-a484-cf26f24c8591",
   "metadata": {},
   "outputs": [
    {
     "data": {
      "text/plain": [
       "(384, 365, 60)"
      ]
     },
     "execution_count": 86,
     "metadata": {},
     "output_type": "execute_result"
    }
   ],
   "source": [
    "Q_pred_true2.shape"
   ]
  },
  {
   "cell_type": "code",
   "execution_count": 63,
   "id": "ea5ab04d-979b-441c-a85c-a9f1446a2aec",
   "metadata": {},
   "outputs": [],
   "source": [
    "T_tend_true3 = np.reshape(T_tend_true2, (384, 365*60))\n",
    "T_pred_true3 = np.reshape(T_pred_true2, (384, 365*60))\n",
    "Q_tend_true3 = np.reshape(Q_tend_true2, (384, 365*60))\n",
    "Q_pred_true3 = np.reshape(Q_pred_true2, (384, 365*60))"
   ]
  },
  {
   "cell_type": "code",
   "execution_count": 73,
   "id": "db813a5a-c513-4f70-b060-a5134aaccfdd",
   "metadata": {},
   "outputs": [],
   "source": [
    "Tdiff = T_pred_true3-T_tend_true3\n",
    "Tdiff2 = Tdiff**2\n",
    "Tdiff2_rmse = np.sqrt(Tdiff2)"
   ]
  },
  {
   "cell_type": "code",
   "execution_count": 87,
   "id": "43e8db68-932a-4a31-b5c5-2564a3c840d7",
   "metadata": {},
   "outputs": [
    {
     "data": {
      "text/plain": [
       "(384, 21900)"
      ]
     },
     "execution_count": 87,
     "metadata": {},
     "output_type": "execute_result"
    }
   ],
   "source": [
    "Tdiff2_rmse.shape"
   ]
  },
  {
   "cell_type": "code",
   "execution_count": 76,
   "id": "ceedcb54-04e0-4246-b37c-a00dc631a8c5",
   "metadata": {},
   "outputs": [],
   "source": [
    "Qdiff = Q_pred_true3-Q_tend_true3\n",
    "Qdiff2 = Qdiff**2\n",
    "Qdiff2_rmse = np.sqrt(Qdiff2)"
   ]
  },
  {
   "cell_type": "code",
   "execution_count": 78,
   "id": "3819083d-07e7-45e6-b801-c282df623081",
   "metadata": {},
   "outputs": [],
   "source": [
    "Qdiff2_rmsemean = np.mean(Tdiff2_rmse,axis=1)\n",
    "Tdiff2_rmsemean = np.mean(Qdiff2_rmse,axis=1)"
   ]
  },
  {
   "cell_type": "code",
   "execution_count": 56,
   "id": "da3b9b8d-b483-4052-bd39-826ec0653d2c",
   "metadata": {},
   "outputs": [],
   "source": [
    "cp_dry_o   = 1006\n",
    "latent_heat_vaporization = 2.501e6 \n",
    "T_rmse_mweight    = Tdiff2_rmse*mweightpre*cp_dry_o\n",
    "Q_rmse_mweight    = Qdiff2_rmse*mweightpre*latent_heat_vaporization"
   ]
  },
  {
   "cell_type": "code",
   "execution_count": 85,
   "id": "ab7af142-67d9-4331-b401-0fe3748d40c6",
   "metadata": {},
   "outputs": [
    {
     "data": {
      "text/plain": [
       "array([0.00528157, 0.00477388, 0.00684183, 0.00588571, 0.00446383,\n",
       "       0.00439242, 0.00523664, 0.00499906, 0.00433343, 0.00509143,\n",
       "       0.00313821, 0.00332907, 0.00644461, 0.00605475, 0.00638168,\n",
       "       0.00629845, 0.01000828, 0.00849063, 0.0073573 , 0.00579065,\n",
       "       0.00504153, 0.00378693, 0.00452666, 0.00417864, 0.0027052 ,\n",
       "       0.00484808, 0.00345877, 0.00642156, 0.0078482 , 0.0081291 ,\n",
       "       0.0089195 , 0.00681613, 0.00579784, 0.00496724, 0.0050801 ,\n",
       "       0.00380056, 0.00455223, 0.00475893, 0.00348194, 0.00711795,\n",
       "       0.00548582, 0.00791809, 0.00755394, 0.00562444, 0.00776898,\n",
       "       0.00664772, 0.00611665, 0.00709911, 0.00398293, 0.00331805,\n",
       "       0.00479662, 0.00420049, 0.00269788, 0.00370114, 0.00339655,\n",
       "       0.00303226, 0.00464242, 0.00373033, 0.00413332, 0.00416016,\n",
       "       0.00329356, 0.00486387, 0.0036014 , 0.00426492, 0.00484021,\n",
       "       0.00515487, 0.00528254, 0.00497304, 0.00460251, 0.00434635,\n",
       "       0.00515383, 0.00488086, 0.00423328, 0.00451774, 0.00441395,\n",
       "       0.00395213, 0.00420837, 0.00405994, 0.00325651, 0.00593556,\n",
       "       0.00850937, 0.00803946, 0.00670701, 0.00620258, 0.00682671,\n",
       "       0.00637217, 0.00595448, 0.00580645, 0.00519218, 0.005067  ,\n",
       "       0.00500657, 0.00555451, 0.004559  , 0.00527519, 0.00612521,\n",
       "       0.00604358, 0.00568372, 0.00505456, 0.00454594, 0.0040365 ,\n",
       "       0.005236  , 0.00521701, 0.00412897, 0.00667925, 0.0066818 ,\n",
       "       0.00585542, 0.01217584, 0.00942997, 0.00766358, 0.00811157,\n",
       "       0.01203736, 0.01223623, 0.00475632, 0.00393201, 0.00485506,\n",
       "       0.0047703 , 0.0046275 , 0.00620798, 0.00488188, 0.00545025,\n",
       "       0.00903142, 0.00884253, 0.00692159, 0.00811612, 0.00682748,\n",
       "       0.00686964, 0.00637493, 0.0054061 , 0.00459884, 0.00485481,\n",
       "       0.0055124 , 0.00448959, 0.00521962, 0.00505953, 0.00467294,\n",
       "       0.00437171, 0.00481342, 0.00508566, 0.00480049, 0.00552543,\n",
       "       0.00537996, 0.00592965, 0.00668997, 0.00738668, 0.00690383,\n",
       "       0.00767404, 0.00828434, 0.00840746, 0.00724534, 0.00844177,\n",
       "       0.00903389, 0.00956807, 0.00911313, 0.00975606, 0.00902468,\n",
       "       0.00852978, 0.00995385, 0.00818535, 0.00691941, 0.0055826 ,\n",
       "       0.00921401, 0.00884189, 0.01195706, 0.01190181, 0.00948132,\n",
       "       0.00834954, 0.0112468 , 0.00922362, 0.00666247, 0.00545009,\n",
       "       0.00661214, 0.00524169, 0.00523395, 0.00545745, 0.00554259,\n",
       "       0.00554087, 0.00701934, 0.00656188, 0.00576963, 0.00640533,\n",
       "       0.00760426, 0.00766172, 0.00688988, 0.0066845 , 0.00698635,\n",
       "       0.00614508, 0.00574354, 0.00587053, 0.0059416 , 0.00506651,\n",
       "       0.00591998, 0.00522602, 0.00558143, 0.00520052, 0.00612533,\n",
       "       0.00550503, 0.00492474, 0.00486021, 0.00476528, 0.00471981,\n",
       "       0.00490594, 0.00402777, 0.0032292 , 0.00338208, 0.00498849,\n",
       "       0.00522866, 0.00612646, 0.00691943, 0.00631933, 0.00500352,\n",
       "       0.00485407, 0.00421476, 0.00433388, 0.00354476, 0.00401272,\n",
       "       0.00405961, 0.00278632, 0.00372811, 0.00340005, 0.00723951,\n",
       "       0.00890439, 0.0083957 , 0.00899529, 0.00599265, 0.00576391,\n",
       "       0.00512906, 0.0053521 , 0.00452004, 0.00561815, 0.00679886,\n",
       "       0.00763063, 0.00992487, 0.00718149, 0.00886576, 0.00745802,\n",
       "       0.00749834, 0.00604479, 0.00570496, 0.00694525, 0.00594908,\n",
       "       0.00396722, 0.00379057, 0.00364241, 0.00394107, 0.00669341,\n",
       "       0.00647839, 0.00651598, 0.00601151, 0.00623816, 0.00670198,\n",
       "       0.00679077, 0.00608682, 0.00714789, 0.00491274, 0.00822019,\n",
       "       0.00635554, 0.00514161, 0.004716  , 0.00458114, 0.00428411,\n",
       "       0.00494229, 0.00481236, 0.00396365, 0.00401457, 0.00458075,\n",
       "       0.00512102, 0.00410149, 0.00451891, 0.0053201 , 0.00519806,\n",
       "       0.00442093, 0.00535401, 0.00479432, 0.00404804, 0.00508572,\n",
       "       0.00402447, 0.00367754, 0.00345765, 0.00384915, 0.00341738,\n",
       "       0.00359122, 0.00402679, 0.00353777, 0.00444267, 0.00445553,\n",
       "       0.00527454, 0.00449587, 0.00475218, 0.005091  , 0.00417588,\n",
       "       0.00541777, 0.0040902 , 0.00341964, 0.00300145, 0.00345052,\n",
       "       0.00315808, 0.00347143, 0.00385918, 0.00327557, 0.00370016,\n",
       "       0.00412188, 0.00472785, 0.0043791 , 0.00499655, 0.00468544,\n",
       "       0.00401874, 0.00474629, 0.00437022, 0.00381194, 0.00346911,\n",
       "       0.00414833, 0.00378306, 0.00361564, 0.00387685, 0.00421719,\n",
       "       0.0047076 , 0.00428727, 0.00474751, 0.00473541, 0.00571016,\n",
       "       0.00700854, 0.00562146, 0.00582536, 0.00496222, 0.00500069,\n",
       "       0.00435529, 0.0049673 , 0.00482317, 0.00492191, 0.00487091,\n",
       "       0.00452983, 0.00442222, 0.00496314, 0.0051575 , 0.00439138,\n",
       "       0.00470193, 0.00522398, 0.00389382, 0.00471204, 0.00312395,\n",
       "       0.003523  , 0.00381261, 0.00258002, 0.00344382, 0.00421678,\n",
       "       0.00359451, 0.00282098, 0.00290807, 0.00401836, 0.00462921,\n",
       "       0.00355652, 0.00451924, 0.00446972, 0.00351415, 0.00523782,\n",
       "       0.00445371, 0.00281953, 0.00276488, 0.00401843, 0.00353456,\n",
       "       0.00270608, 0.0028361 , 0.00322959, 0.00344685, 0.00344549,\n",
       "       0.00456574, 0.00377649, 0.00528723, 0.0049751 , 0.00447891,\n",
       "       0.00466459, 0.0048527 , 0.00493525, 0.0052964 , 0.00526175,\n",
       "       0.00538028, 0.0047968 , 0.0049584 , 0.00564623, 0.00567535,\n",
       "       0.00493163, 0.00663572, 0.00553746, 0.00599357])"
      ]
     },
     "execution_count": 85,
     "metadata": {},
     "output_type": "execute_result"
    }
   ],
   "source": [
    "Qdiff2_rmsemean"
   ]
  },
  {
   "cell_type": "code",
   "execution_count": 81,
   "id": "2cec3822-f8ae-4d51-b063-28f2ed909326",
   "metadata": {},
   "outputs": [],
   "source": [
    "# Create a new NetCDF file\n",
    "filename = file_path[-31:]+\"_mwv20.nc\"\n",
    "file_path_out = os.path.join(out_folder, filename)\n",
    "        \n",
    "ncfile = nc.Dataset(file_path_out, \"w\", format=\"NETCDF4\")\n",
    "\n",
    "# Define the dimensions\n",
    "time_dim = ncfile.createDimension(\"time\", None)  # Unlimited dimension\n",
    "lat_dim = ncfile.createDimension(\"ncol\", ncol)\n",
    "lon_dim = ncfile.createDimension(\"nlev\", nlev)\n",
    "# Create variables\n",
    "time_var = ncfile.createVariable(\"time\", \"f8\", (\"time\",))\n",
    "lon_var = ncfile.createVariable(\"lon\", \"f4\", (\"ncol\",))\n",
    "lat_var = ncfile.createVariable(\"lat\", \"f4\", (\"ncol\",))\n",
    "data_var3 = ncfile.createVariable(\"T_tend_true2\", \"f8\", (\"nlev\",\"time\",\"ncol\"))\n",
    "data_var4 = ncfile.createVariable(\"T_pred_true2\", \"f8\", (\"nlev\",\"time\",\"ncol\"))\n",
    "data_var5 = ncfile.createVariable(\"Q_tend_true2\", \"f8\", (\"nlev\",\"time\",\"ncol\"))\n",
    "data_var6 = ncfile.createVariable(\"Q_pred_true2\", \"f8\", (\"nlev\",\"time\",\"ncol\"))\n",
    "\n",
    "data_var7 = ncfile.createVariable(\"Trmsemean\", \"f8\", (\"ncol\"))\n",
    "data_var8 = ncfile.createVariable(\"Qrmsemean\", \"f8\", (\"ncol\"))\n",
    "\n",
    "# Assign values to variables\n",
    "time_var[:] = [365]  # Example time values\n",
    "lon_var[:] = lon    # Example latitude values\n",
    "lat_var[:] = lat  # Example longitude values\n",
    "\n",
    "data_var3[:,:] = np.transpose(T_tend_true2)\n",
    "data_var4[:,:] = np.transpose(T_pred_true2)\n",
    "data_var5[:,:] = np.transpose(Q_tend_true2)\n",
    "data_var6[:,:] = np.transpose(Q_pred_true2)\n",
    "data_var7[:] = (Tdiff2_rmsemean)\n",
    "data_var8[:] = (Qdiff2_rmsemean)\n",
    "# Add global attributes\n",
    "ncfile.description = \"R2\"\n",
    "ncfile.history = \"Created by Liran\"\n",
    "\n",
    "# Close the NetCDF file\n",
    "ncfile.close()\n",
    "    "
   ]
  },
  {
   "cell_type": "code",
   "execution_count": 82,
   "id": "6a9c4d7f-8217-4844-b1ef-bc6237d5d0c5",
   "metadata": {},
   "outputs": [
    {
     "data": {
      "text/plain": [
       "'/pscratch/sd/h/heroplr/R2_analysis_all/tep2_lot-101_trial_0028.best.h5_mwv20.nc'"
      ]
     },
     "execution_count": 82,
     "metadata": {},
     "output_type": "execute_result"
    }
   ],
   "source": [
    "file_path_out"
   ]
  }
 ],
 "metadata": {
  "kernelspec": {
   "display_name": "NERSC Python",
   "language": "python",
   "name": "python3"
  },
  "language_info": {
   "codemirror_mode": {
    "name": "ipython",
    "version": 3
   },
   "file_extension": ".py",
   "mimetype": "text/x-python",
   "name": "python",
   "nbconvert_exporter": "python",
   "pygments_lexer": "ipython3",
   "version": "3.9.7"
  }
 },
 "nbformat": 4,
 "nbformat_minor": 5
}
