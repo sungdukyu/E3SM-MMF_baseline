{
 "cells": [
  {
   "cell_type": "code",
   "execution_count": 1,
   "id": "37e66dba-4406-4d1d-9eeb-0168db894e7f",
   "metadata": {},
   "outputs": [
    {
     "name": "stderr",
     "output_type": "stream",
     "text": [
      "2023-05-31 23:11:35.594761: I tensorflow/core/platform/cpu_feature_guard.cc:182] This TensorFlow binary is optimized to use available CPU instructions in performance-critical operations.\n",
      "To enable the following instructions: AVX2 FMA, in other operations, rebuild TensorFlow with the appropriate compiler flags.\n",
      "2023-05-31 23:11:38.071948: W tensorflow/compiler/tf2tensorrt/utils/py_utils.cc:38] TF-TRT Warning: Could not find TensorRT\n"
     ]
    }
   ],
   "source": [
    "import json\n",
    "import pickle\n",
    "import csv\n",
    "import xarray as xr\n",
    "import numpy as np\n",
    "import matplotlib.pyplot as plt\n",
    "import glob, os\n",
    "import random\n",
    "\n",
    "import tensorflow as tf\n",
    "from tensorflow import keras"
   ]
  },
  {
   "cell_type": "code",
   "execution_count": 2,
   "id": "55015665-2328-421c-bde3-4314cbd9459b",
   "metadata": {},
   "outputs": [],
   "source": [
    "ncol = 384\n",
    "nlev = 60\n",
    "tlen = 2543616"
   ]
  },
  {
   "cell_type": "code",
   "execution_count": 56,
   "id": "b72fde58-2365-469e-a87b-8b57189a78a7",
   "metadata": {},
   "outputs": [],
   "source": [
    "# Convert to pressure\n",
    "def convert_to_Pressure(hyai,hybi,PS,P0):\n",
    "    Dimension1=hyai.shape\n",
    "    Dimension2=PS.shape\n",
    "    Pressure = np.zeros([Dimension2[1],Dimension1[0]])\n",
    "    \n",
    "    for i in range(Dimension2[1]):\n",
    "        Pressure[i,:] = (P0*hyai[:] + PS[0,i]*hybi[:])\n",
    "    return Pressure"
   ]
  },
  {
   "cell_type": "code",
   "execution_count": 4,
   "id": "535c5464-e741-49cf-aa4b-79b262b61625",
   "metadata": {},
   "outputs": [],
   "source": [
    "ne4_grid_info = xr.open_dataset('./test_data/E3SM-MMF_ne4_grid-info.orig.nc')\n",
    "lon = ne4_grid_info.lon.values\n",
    "lat = ne4_grid_info.lat.values\n",
    "area = ne4_grid_info.area.values\n",
    "hyai = ne4_grid_info.hyai.values\n",
    "hybi = ne4_grid_info.hybi.values\n",
    "PS = ne4_grid_info.PS.values\n",
    "P0 = ne4_grid_info.P0.values"
   ]
  },
  {
   "cell_type": "code",
   "execution_count": 57,
   "id": "e80b0086-9cb7-44ba-85d0-503332ab4422",
   "metadata": {},
   "outputs": [],
   "source": [
    "Pre = convert_to_Pressure(hyai,hybi,PS,P0)"
   ]
  },
  {
   "cell_type": "code",
   "execution_count": 6,
   "id": "162a854d-3175-4812-b7fd-d1751f4acae8",
   "metadata": {},
   "outputs": [],
   "source": [
    "dPre = Pre[:,1:nlev+1] - Pre[:,0:nlev] "
   ]
  },
  {
   "cell_type": "code",
   "execution_count": 7,
   "id": "8ef70822-9a50-4392-8a68-2b69b46ebe95",
   "metadata": {},
   "outputs": [],
   "source": [
    "mli_mean = xr.open_dataset('./norm_factors/mli_mean.nc')\n",
    "mli_min = xr.open_dataset('./norm_factors/mli_min.nc')\n",
    "mli_max = xr.open_dataset('./norm_factors/mli_max.nc')\n",
    "mlo_scale = xr.open_dataset('./norm_factors/mlo_scale.nc')\n",
    "ne4_grid_info = xr.open_dataset('./test_data/E3SM-MMF_ne4_grid-info.orig.nc')\n",
    "\n",
    "def load_nc_dir_with_generator_test(filelist:list, latlim=[-999,999], lonlim=[-999,999]):\n",
    "    def gen():\n",
    "        for file in filelist:\n",
    "            \n",
    "            # read mli\n",
    "            ds = xr.open_dataset(file, engine='netcdf4')\n",
    "            ds = ds[vars_mli]\n",
    "            ds = ds.merge(ne4_grid_info[['lat','lon']])\n",
    "            ds = ds.where((ds['lat']>latlim[0])*(ds['lat']<latlim[1]),drop=True)\n",
    "            ds = ds.where((ds['lon']>lonlim[0])*(ds['lon']<lonlim[1]),drop=True)\n",
    "            \n",
    "            # read mlo\n",
    "            dso = xr.open_dataset(file.replace('.mli.','.mlo.'), engine='netcdf4')\n",
    "            dso = dso.merge(ne4_grid_info[['lat','lon']])\n",
    "            dso = dso.where((dso['lat']>latlim[0])*(dso['lat']<latlim[1]),drop=True)\n",
    "            dso = dso.where((dso['lon']>lonlim[0])*(dso['lon']<lonlim[1]),drop=True)\n",
    "            \n",
    "            # make mlo variales: ptend_t and ptend_q0001\n",
    "            dso['ptend_t'] = (dso['state_t'] - ds['state_t'])/1200 # T tendency [K/s]\n",
    "            dso['ptend_q0001'] = (dso['state_q0001'] - ds['state_q0001'])/1200 # Q tendency [kg/kg/s]\n",
    "            dso = dso[vars_mlo]\n",
    "            \n",
    "            # normalizatoin, scaling\n",
    "            ds = (ds-mli_mean)/(mli_max-mli_min)\n",
    "            dso = dso*mlo_scale\n",
    "\n",
    "            # stack\n",
    "            #ds = ds.stack({'batch':{'sample','ncol'}})\n",
    "            ds = ds.stack({'batch':{'ncol'}})\n",
    "            ds = ds.to_stacked_array(\"mlvar\", sample_dims=[\"batch\"], name='mli')\n",
    "            #dso = dso.stack({'batch':{'sample','ncol'}})\n",
    "            dso = dso.stack({'batch':{'ncol'}})\n",
    "            dso = dso.to_stacked_array(\"mlvar\", sample_dims=[\"batch\"], name='mlo')\n",
    "            \n",
    "            yield (ds.values, dso.values)\n",
    "\n",
    "    return tf.data.Dataset.from_generator(\n",
    "        gen,\n",
    "        output_types=(tf.float64, tf.float64),\n",
    "        output_shapes=((None,124),(None,128))\n",
    "    )"
   ]
  },
  {
   "cell_type": "code",
   "execution_count": 10,
   "id": "768b5d16-79a7-4c63-91e2-e30df1f9cddc",
   "metadata": {},
   "outputs": [],
   "source": [
    "# in/out variable lists\n",
    "vars_mli = ['state_t','state_q0001','state_ps','pbuf_SOLIN', 'pbuf_LHFLX', 'pbuf_SHFLX']\n",
    "vars_mlo = ['ptend_t','ptend_q0001','cam_out_NETSW','cam_out_FLWDS','cam_out_PRECSC','cam_out_PRECC','cam_out_SOLS','cam_out_SOLL','cam_out_SOLSD','cam_out_SOLLD']"
   ]
  },
  {
   "cell_type": "code",
   "execution_count": 11,
   "id": "5d10200d-ba57-4e89-9efd-924f0e7f19cb",
   "metadata": {},
   "outputs": [
    {
     "name": "stdout",
     "output_type": "stream",
     "text": [
      "#files: 2232\n"
     ]
    }
   ],
   "source": [
    "# validation dataset for HPO\n",
    "stride_sample = 5 \n",
    "#f_mli1 = glob.glob('/pscratch/sd/s/sungduk/hugging/E3SM-MMF_ne4/train/*/E3SM-MMF.mli.0008-0[23456789]-*-*.nc')\n",
    "#f_mli2 = glob.glob('/pscratch/sd/s/sungduk/hugging/E3SM-MMF_ne4/train/*/E3SM-MMF.mli.0008-1[012]-*-*.nc')\n",
    "f_mli3 = glob.glob('/pscratch/sd/s/sungduk/hugging/E3SM-MMF_ne4/train/*/E3SM-MMF.mli.0009-01-*-*.nc')\n",
    "#f_mli_val = sorted([*f_mli1, *f_mli2, *f_mli3])\n",
    "f_mli = f_mli3\n",
    "print(f'#files: {len(f_mli)}')"
   ]
  },
  {
   "cell_type": "code",
   "execution_count": 12,
   "id": "4deb0bff-5ff1-47b8-bbd9-fe662584d905",
   "metadata": {},
   "outputs": [
    {
     "name": "stderr",
     "output_type": "stream",
     "text": [
      "2023-05-31 23:14:06.950398: I tensorflow/core/common_runtime/executor.cc:1197] [/device:CPU:0] (DEBUG INFO) Executor start aborting (this does not indicate an error and you can ignore this message): INVALID_ARGUMENT: You must feed a value for placeholder tensor 'Placeholder/_0' with dtype int32\n",
      "\t [[{{node Placeholder/_0}}]]\n"
     ]
    }
   ],
   "source": [
    "tds_test = load_nc_dir_with_generator_test(f_mli)\n",
    "work = list(tds_test.as_numpy_iterator())\n",
    "x_true_n = np.concatenate([ work[k][0] for k in range(len(work)) ])\n",
    "y_true_n = np.concatenate([ work[k][1] for k in range(len(work)) ])"
   ]
  },
  {
   "cell_type": "code",
   "execution_count": 13,
   "id": "20c56a4d-9a2a-4aa2-a405-8df0fe66187f",
   "metadata": {},
   "outputs": [],
   "source": [
    "# This function turns 20 minute increments into daily averages\n",
    "# (384)*ndays*72 = Dim[0]\n",
    "# Output dim: (384)*ndays\n",
    "# Griffin's original version is based on regrided data\n",
    "# This version is based on ne4pg2 grid (384 columns)\n",
    "# This change allow me to use Sungduk's code directly\n",
    "# since he generaged the min/max/scale already\n",
    "def average_data_Griffin_LiranEdited(reconstructed_targets,reconstructed_features):\n",
    "    Dim = reconstructed_targets.shape\n",
    "    x = 384\n",
    "    tnum = 72\n",
    "    t = Dim[0]\n",
    "    z = Dim[1]\n",
    "    ndays = int(t/(tnum*x))\n",
    "    \n",
    "    target_days = np.zeros(shape=(x*ndays,tnum, z))\n",
    "    feat_days = np.zeros(shape=(x*ndays,tnum, z))\n",
    "    day_array_targ = np.zeros(shape=(x,tnum,ndays, z))\n",
    "    day_array_feat = np.zeros(shape=(x,tnum,ndays, z))\n",
    "    #print(day_array_feat.shape)\n",
    "    ncol_count = 0\n",
    "    tstep_count = 0\n",
    "    day_count = 0\n",
    "    \n",
    "    for i in range(t):\n",
    "        temp_targ = reconstructed_targets[i, :]\n",
    "        day_array_targ[ncol_count,tstep_count,day_count, :] = temp_targ\n",
    "        temp_feat = reconstructed_features[i, :]\n",
    "        day_array_feat[ncol_count,tstep_count,day_count,:] = temp_feat\n",
    "        \n",
    "        if (ncol_count == x-1):\n",
    "            ncol_count = 0\n",
    "            tstep_count = tstep_count+1\n",
    "        else:\n",
    "            ncol_count = ncol_count+1\n",
    "        \n",
    "        if (tstep_count == tnum):\n",
    "            tstep_count = 0\n",
    "            day_count = day_count+1   \n",
    "            \n",
    "            \n",
    "    day_array_targ_out = np.nanmean(day_array_targ, axis = 1)\n",
    "    day_array_feat_out = np.nanmean(day_array_feat, axis = 1)\n",
    "    \n",
    "    return day_array_targ_out,day_array_feat_out"
   ]
  },
  {
   "cell_type": "code",
   "execution_count": 14,
   "id": "9fe46fd3-6bd7-41cc-be7f-c0bdba429b55",
   "metadata": {},
   "outputs": [],
   "source": [
    "import os\n",
    "import netCDF4 as nc\n",
    "folder_path = \"/pscratch/sd/h/heroplr/step2_retrain/backup_phase-4_retrained_models\"  # Replace with the actual folder path\n",
    "out_folder = \"/pscratch/sd/h/heroplr/R2_analysis_all/\"\n",
    "Dim_true = x_true_n.shape\n",
    "# Loop through all files in the folder\n",
    "numday = int(Dim_true[0]/ncol/72)\n",
    "filename=\"step2_lot-101_trial_0028.best.h5\"\n",
    "file_path = os.path.join(folder_path, filename)"
   ]
  },
  {
   "cell_type": "code",
   "execution_count": 15,
   "id": "23946bf2-1d1a-49f8-a825-a1f6846dec9a",
   "metadata": {},
   "outputs": [],
   "source": [
    "model = keras.models.load_model(file_path,compile=False)\n",
    "y_pred = model(x_true_n)\n",
    "T_tend_true = y_true_n[:,:60]\n",
    "T_pred_true = y_pred[:,:60]\n",
    "Q_tend_true = y_true_n[:,60:120]\n",
    "Q_pred_true =y_pred[:,60:120]"
   ]
  },
  {
   "cell_type": "code",
   "execution_count": 68,
   "id": "9cb55fce-471f-4b18-8469-a6f1591084c1",
   "metadata": {},
   "outputs": [],
   "source": [
    "mweightpre    =  dPre/9.8  # dP/g"
   ]
  },
  {
   "cell_type": "code",
   "execution_count": 18,
   "id": "1830305e-55be-4b30-85b7-e0f996de7394",
   "metadata": {},
   "outputs": [],
   "source": [
    "T_tend_true2,T_pred_true2 = average_data_Griffin_LiranEdited(T_tend_true,T_pred_true)\n",
    "Q_tend_true2,Q_pred_true2 = average_data_Griffin_LiranEdited(Q_tend_true,Q_pred_true)"
   ]
  },
  {
   "cell_type": "code",
   "execution_count": 63,
   "id": "7fe43006-075f-43c7-8b56-d36baf131506",
   "metadata": {},
   "outputs": [
    {
     "data": {
      "text/plain": [
       "(384, 31, 60)"
      ]
     },
     "execution_count": 63,
     "metadata": {},
     "output_type": "execute_result"
    }
   ],
   "source": [
    "T_tend_true2.shape"
   ]
  },
  {
   "cell_type": "code",
   "execution_count": 64,
   "id": "3819083d-07e7-45e6-b801-c282df623081",
   "metadata": {},
   "outputs": [],
   "source": [
    "T_tend_true_daymean = np.mean(T_tend_true2,axis=1)\n",
    "T_pred_true_daymean = np.mean(T_pred_true2,axis=1)\n",
    "Q_tend_true_daymean = np.mean(Q_tend_true2,axis=1)\n",
    "Q_pred_true_daymean = np.mean(Q_pred_true2,axis=1)"
   ]
  },
  {
   "cell_type": "code",
   "execution_count": 69,
   "id": "da3b9b8d-b483-4052-bd39-826ec0653d2c",
   "metadata": {},
   "outputs": [],
   "source": [
    "cp_dry_o   = 1006\n",
    "latent_heat_vaporization = 2.501e6 \n",
    "T_tend_true_mweight    = T_tend_true_daymean*mweightpre*cp_dry_o\n",
    "T_pred_true_mweight    = T_pred_true_daymean*mweightpre*cp_dry_o\n",
    "Q_tend_true_mweight    = Q_tend_true_daymean*mweightpre*latent_heat_vaporization\n",
    "Q_pred_true_mweight    = Q_pred_true_daymean*mweightpre*latent_heat_vaporization"
   ]
  },
  {
   "cell_type": "code",
   "execution_count": 70,
   "id": "2cec3822-f8ae-4d51-b063-28f2ed909326",
   "metadata": {},
   "outputs": [],
   "source": [
    "# Create a new NetCDF file\n",
    "filename = file_path[-31:]+\"_mwv9.nc\"\n",
    "file_path_out = os.path.join(out_folder, filename)\n",
    "        \n",
    "ncfile = nc.Dataset(file_path_out, \"w\", format=\"NETCDF4\")\n",
    "\n",
    "# Define the dimensions\n",
    "time_dim = ncfile.createDimension(\"time\", None)  # Unlimited dimension\n",
    "lat_dim = ncfile.createDimension(\"ncol\", ncol)\n",
    "lon_dim = ncfile.createDimension(\"nlev\", nlev)\n",
    "# Create variables\n",
    "time_var = ncfile.createVariable(\"time\", \"f8\", (\"time\",))\n",
    "lon_var = ncfile.createVariable(\"lon\", \"f4\", (\"ncol\",))\n",
    "lat_var = ncfile.createVariable(\"lat\", \"f4\", (\"ncol\",))\n",
    "data_var3 = ncfile.createVariable(\"mwT_tend\", \"f8\", (\"nlev\",\"ncol\"))\n",
    "data_var4 = ncfile.createVariable(\"mwT_pred\", \"f8\", (\"nlev\",\"ncol\"))\n",
    "data_var5 = ncfile.createVariable(\"mwQ_tend\", \"f8\", (\"nlev\",\"ncol\"))\n",
    "data_var6 = ncfile.createVariable(\"mwQ_pred\", \"f8\", (\"nlev\",\"ncol\"))\n",
    "\n",
    "# Assign values to variables\n",
    "time_var[:] = [1]  # Example time values\n",
    "lon_var[:] = lon    # Example latitude values\n",
    "lat_var[:] = lat  # Example longitude values\n",
    "\n",
    "data_var3[:,:] = np.transpose(T_tend_true_mweight)\n",
    "data_var4[:,:] = np.transpose(T_pred_true_mweight)\n",
    "data_var5[:,:] = np.transpose(Q_tend_true_mweight)\n",
    "data_var6[:,:] = np.transpose(Q_pred_true_mweight)\n",
    "# Add global attributes\n",
    "ncfile.description = \"R2\"\n",
    "ncfile.history = \"Created by Liran\"\n",
    "\n",
    "# Close the NetCDF file\n",
    "ncfile.close()\n",
    "    "
   ]
  },
  {
   "cell_type": "code",
   "execution_count": 71,
   "id": "6a9c4d7f-8217-4844-b1ef-bc6237d5d0c5",
   "metadata": {},
   "outputs": [
    {
     "data": {
      "text/plain": [
       "array([ 6.10942800e-07,  8.18767238e-06,  5.64713680e-07, -1.02400747e-04,\n",
       "        1.64642161e-06, -7.93141568e-08,  2.89449495e-05, -8.76644755e-08,\n",
       "        5.66618703e-07, -4.81629807e-06,  2.96376775e-06, -1.76648857e-07,\n",
       "        4.54410113e-06, -1.92427276e-05, -2.81681329e-07,  7.89377296e-06,\n",
       "       -3.10016791e-05,  6.31907780e-06, -8.92952857e-06, -9.71249335e-05,\n",
       "        1.22069544e-04, -3.22580278e-04, -4.85072855e-05,  2.59634970e-04,\n",
       "       -2.32376288e-04, -1.25164825e-04, -5.97484314e-04, -2.20339302e-03,\n",
       "       -2.05172243e-03, -3.83600999e-04,  7.75983625e-04,  1.01691550e-03,\n",
       "        1.00773819e-03, -2.14840769e-04, -1.84841889e-03, -1.03585992e-04,\n",
       "        3.31007305e-03,  8.03046947e-03,  5.24557703e-03,  4.54257330e-03,\n",
       "        2.78044845e-03,  1.04446673e-03,  5.37678384e-03,  5.08641572e-03,\n",
       "        5.16825489e-03, -3.20751930e-03, -1.67627475e-03,  1.11209705e-03,\n",
       "       -2.81822137e-03,  1.64776450e-03, -3.93438148e-03, -4.41322629e-03,\n",
       "       -1.62150669e-03, -5.17026047e-03, -2.67730616e-03,  5.61127317e-05,\n",
       "        1.13500899e-03,  1.16325875e-02,  4.82586481e-02, -5.01195273e-02])"
      ]
     },
     "execution_count": 71,
     "metadata": {},
     "output_type": "execute_result"
    }
   ],
   "source": [
    "Q_pred_true_daymean[40,:]"
   ]
  },
  {
   "cell_type": "code",
   "execution_count": 72,
   "id": "e376abda-09b4-41b2-b708-2f3461090645",
   "metadata": {},
   "outputs": [
    {
     "data": {
      "text/plain": [
       "array([ 0.00000000e+00,  0.00000000e+00,  0.00000000e+00,  0.00000000e+00,\n",
       "        0.00000000e+00,  0.00000000e+00,  0.00000000e+00,  0.00000000e+00,\n",
       "        0.00000000e+00,  0.00000000e+00,  0.00000000e+00,  0.00000000e+00,\n",
       "        9.46714821e-10,  2.55652626e-09, -2.28443622e-08, -4.69418046e-07,\n",
       "        4.60578867e-07,  1.38002524e-06,  6.56194788e-07,  3.80375574e-07,\n",
       "       -6.82573169e-06, -4.40816635e-07,  2.24007211e-05, -2.80675797e-05,\n",
       "       -4.49974514e-04, -9.41926319e-04, -1.13992738e-03, -1.70298687e-03,\n",
       "       -2.49279744e-03, -1.76471924e-03, -1.05997026e-03, -1.03575038e-04,\n",
       "        1.27006437e-03,  2.04081967e-03,  1.99418642e-03,  6.76904743e-04,\n",
       "        2.09315280e-04,  1.01291297e-03,  1.76391738e-03,  2.57989935e-03,\n",
       "        3.28014197e-03, -1.23524340e-03, -4.73093302e-04, -1.43850475e-03,\n",
       "       -3.34069199e-04, -7.61933672e-05,  2.19315823e-04,  1.92231055e-04,\n",
       "        4.94740505e-04,  3.41795856e-04,  6.03989943e-04,  1.18938714e-03,\n",
       "        1.95040788e-03,  2.43712646e-03,  1.04738714e-03, -2.83175103e-03,\n",
       "        8.70828028e-04,  8.36773255e-03,  4.79005387e-02, -5.70635631e-02])"
      ]
     },
     "execution_count": 72,
     "metadata": {},
     "output_type": "execute_result"
    }
   ],
   "source": [
    "Q_tend_true_daymean[40,:]"
   ]
  },
  {
   "cell_type": "code",
   "execution_count": 73,
   "id": "68865dca-798a-484c-a35a-6a2cb3dc310d",
   "metadata": {},
   "outputs": [
    {
     "data": {
      "text/plain": [
       "array([  0.45850491,   0.82232176,   1.45961657,   2.5470638 ,\n",
       "         4.33243674,   7.11673875,  11.19798629,  16.79495649,\n",
       "        24.00922601,  32.87683103,  43.47492677,  55.96055633,\n",
       "        70.44699656,  86.76827172, 104.31814462, 122.15229792,\n",
       "       139.37007078, 155.53664753, 170.7987482 , 185.55189543,\n",
       "       199.88749742, 213.24544761, 224.24655082, 227.60972153,\n",
       "       232.55147614, 235.11448309, 236.81416986, 239.2171681 ,\n",
       "       243.31632578, 249.29376316, 256.71290265, 264.91998042,\n",
       "       273.36410152, 281.65435346, 289.36833477, 295.795698  ,\n",
       "       299.85382964, 300.31913073, 296.3183605 , 287.8254305 ,\n",
       "       275.84172516, 262.08337395, 248.29607   , 235.56668456,\n",
       "       224.01265156, 212.9960277 , 201.70041515, 189.72433001,\n",
       "       177.37508258, 165.54838505, 155.31754361, 147.49007978,\n",
       "       142.35485593, 139.69149761, 138.96352974, 139.55455148,\n",
       "       140.93875175, 142.75027788, 144.7745171 , 146.90497813])"
      ]
     },
     "execution_count": 73,
     "metadata": {},
     "output_type": "execute_result"
    }
   ],
   "source": [
    "mweightpre[40,:]"
   ]
  },
  {
   "cell_type": "code",
   "execution_count": 74,
   "id": "7550c13e-eadf-4269-8ef8-6cf50ff66a69",
   "metadata": {},
   "outputs": [
    {
     "data": {
      "text/plain": [
       "array([5.58810705e+00, 1.00814552e+01, 1.81402085e+01, 3.24444509e+01,\n",
       "       5.74056761e+01, 9.98635562e+01, 1.69607596e+02, 2.79347861e+02,\n",
       "       4.43938435e+02, 6.79228850e+02, 1.00142179e+03, 1.42747608e+03,\n",
       "       1.97588953e+03, 2.66627009e+03, 3.51659916e+03, 4.53891697e+03,\n",
       "       5.73600949e+03, 7.10183619e+03, 8.62609533e+03, 1.02999231e+04,\n",
       "       1.21183316e+04, 1.40772291e+04, 1.61670345e+04, 1.83646507e+04,\n",
       "       2.05952260e+04, 2.28742304e+04, 2.51783524e+04, 2.74991312e+04,\n",
       "       2.98434595e+04, 3.22279595e+04, 3.46710384e+04, 3.71868248e+04,\n",
       "       3.97830406e+04, 4.24620088e+04, 4.52222215e+04, 4.80580311e+04,\n",
       "       5.09568290e+04, 5.38953965e+04, 5.68385240e+04, 5.97424439e+04,\n",
       "       6.25631332e+04, 6.52663821e+04, 6.78347991e+04, 7.02681006e+04,\n",
       "       7.25766541e+04, 7.47719781e+04, 7.68593392e+04, 7.88360032e+04,\n",
       "       8.06953017e+04, 8.24335775e+04, 8.40559517e+04, 8.55780636e+04,\n",
       "       8.70234664e+04, 8.84185440e+04, 8.97875206e+04, 9.11493632e+04,\n",
       "       9.25169978e+04, 9.38981976e+04, 9.52971503e+04, 9.67159406e+04,\n",
       "       9.81556094e+04])"
      ]
     },
     "execution_count": 74,
     "metadata": {},
     "output_type": "execute_result"
    }
   ],
   "source": [
    "Pre[40,:]"
   ]
  },
  {
   "cell_type": "code",
   "execution_count": 75,
   "id": "a509c89c-8c81-4ecb-acf1-14f14b339682",
   "metadata": {},
   "outputs": [
    {
     "data": {
      "text/plain": [
       "array([   4.49334817,    8.05875326,   14.30424243,   24.96122521,\n",
       "         42.45788005,   69.74403971,  109.74026562,  164.59057361,\n",
       "        235.29041485,  322.19294405,  426.05428239,  548.41345205,\n",
       "        690.3805663 ,  850.32906287, 1022.31781732, 1197.09251962,\n",
       "       1365.82669363, 1524.25914584, 1673.82773233, 1818.40857522,\n",
       "       1958.89747468, 2089.80538655, 2197.61619805, 2230.57527096,\n",
       "       2279.00446613, 2304.12193427, 2320.77886458, 2344.32824742,\n",
       "       2384.49999267, 2443.07887894, 2515.78644598, 2596.21580808,\n",
       "       2678.96819489, 2760.21266389, 2835.80968071, 2898.79784042,\n",
       "       2938.56753046, 2943.12748119, 2903.91993285, 2820.68921891,\n",
       "       2703.24890659, 2568.41706473, 2433.30148599, 2308.55350874,\n",
       "       2195.32398533, 2087.36107146, 1976.6640685 , 1859.29843412,\n",
       "       1738.27580931, 1622.37417351, 1522.11192742, 1445.40278183,\n",
       "       1395.07758815, 1368.97667654, 1361.84259141, 1367.63460452,\n",
       "       1381.19976716, 1398.95272319, 1418.79026761, 1439.66878568])"
      ]
     },
     "execution_count": 75,
     "metadata": {},
     "output_type": "execute_result"
    }
   ],
   "source": [
    "dPre[40,:]"
   ]
  },
  {
   "cell_type": "code",
   "execution_count": 76,
   "id": "527b7d27-ab03-4c67-b3e6-81c1994648ee",
   "metadata": {},
   "outputs": [
    {
     "data": {
      "text/plain": [
       "array([ 0.00000000e+00,  0.00000000e+00,  0.00000000e+00,  0.00000000e+00,\n",
       "        0.00000000e+00,  0.00000000e+00,  0.00000000e+00,  0.00000000e+00,\n",
       "        0.00000000e+00,  0.00000000e+00,  0.00000000e+00,  0.00000000e+00,\n",
       "        6.66932157e-08,  2.21825366e-07, -2.38308148e-06, -5.73404930e-05,\n",
       "        6.41909093e-05,  2.14644499e-04,  1.12077248e-04,  7.05794087e-05,\n",
       "       -1.36437843e-03, -9.40021407e-05,  5.02328445e-03, -6.38845400e-03,\n",
       "       -1.04642237e-01, -2.21460520e-01, -2.69950957e-01, -4.07383697e-01,\n",
       "       -6.06538315e-01, -4.39933500e-01, -2.72108041e-01, -2.74390969e-02,\n",
       "        3.47190007e-01,  5.74805745e-01,  5.77054404e-01,  2.00225511e-01,\n",
       "        6.27639884e-02,  3.04197142e-01,  5.22681106e-01,  7.42560641e-01,\n",
       "        9.04800020e-01, -3.23736757e-01, -1.17467208e-01, -3.38863796e-01,\n",
       "       -7.48357270e-02, -1.62288846e-02,  4.42360926e-02,  3.64709081e-02,\n",
       "        8.77546379e-02,  5.65837520e-02,  9.38102343e-02,  1.75422804e-01,\n",
       "        2.77650032e-01,  3.40445845e-01,  1.45548614e-01, -3.95183744e-01,\n",
       "        1.22733415e-01,  1.19449615e+00,  6.93477736e+00, -8.38292149e+00])"
      ]
     },
     "execution_count": 76,
     "metadata": {},
     "output_type": "execute_result"
    }
   ],
   "source": [
    "Q_tend_true_daymean[40,:]*mweightpre[40,:]"
   ]
  },
  {
   "cell_type": "code",
   "execution_count": null,
   "id": "8963eede-da37-44a5-b668-9c2620782662",
   "metadata": {},
   "outputs": [],
   "source": []
  }
 ],
 "metadata": {
  "kernelspec": {
   "display_name": "NERSC Python",
   "language": "python",
   "name": "python3"
  },
  "language_info": {
   "codemirror_mode": {
    "name": "ipython",
    "version": 3
   },
   "file_extension": ".py",
   "mimetype": "text/x-python",
   "name": "python",
   "nbconvert_exporter": "python",
   "pygments_lexer": "ipython3",
   "version": "3.9.7"
  }
 },
 "nbformat": 4,
 "nbformat_minor": 5
}
