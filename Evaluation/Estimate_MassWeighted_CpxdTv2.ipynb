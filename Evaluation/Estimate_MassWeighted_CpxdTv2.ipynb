{
 "cells": [
  {
   "cell_type": "code",
   "execution_count": 1,
   "id": "37e66dba-4406-4d1d-9eeb-0168db894e7f",
   "metadata": {},
   "outputs": [
    {
     "name": "stderr",
     "output_type": "stream",
     "text": [
      "2023-05-31 23:11:35.594761: I tensorflow/core/platform/cpu_feature_guard.cc:182] This TensorFlow binary is optimized to use available CPU instructions in performance-critical operations.\n",
      "To enable the following instructions: AVX2 FMA, in other operations, rebuild TensorFlow with the appropriate compiler flags.\n",
      "2023-05-31 23:11:38.071948: W tensorflow/compiler/tf2tensorrt/utils/py_utils.cc:38] TF-TRT Warning: Could not find TensorRT\n"
     ]
    }
   ],
   "source": [
    "import json\n",
    "import pickle\n",
    "import csv\n",
    "import xarray as xr\n",
    "import numpy as np\n",
    "import matplotlib.pyplot as plt\n",
    "import glob, os\n",
    "import random\n",
    "\n",
    "import tensorflow as tf\n",
    "from tensorflow import keras"
   ]
  },
  {
   "cell_type": "code",
   "execution_count": 2,
   "id": "55015665-2328-421c-bde3-4314cbd9459b",
   "metadata": {},
   "outputs": [],
   "source": [
    "ncol = 384\n",
    "nlev = 60\n",
    "tlen = 2543616"
   ]
  },
  {
   "cell_type": "code",
   "execution_count": 3,
   "id": "b72fde58-2365-469e-a87b-8b57189a78a7",
   "metadata": {},
   "outputs": [],
   "source": [
    "# Convert to pressure\n",
    "def convert_to_Pressure(hyai,hybi,PS,P0):\n",
    "    Dimension1=hyai.shape\n",
    "    Dimension2=PS.shape\n",
    "    Pressure = np.zeros([Dimension2[1],Dimension1[0]])\n",
    "    \n",
    "    for i in range(Dimension2[1]):\n",
    "        Pressure[i,:] = (P0*hyai[:] + PS[0,i]*hybi[:])\n",
    "    return Pressure"
   ]
  },
  {
   "cell_type": "code",
   "execution_count": 4,
   "id": "535c5464-e741-49cf-aa4b-79b262b61625",
   "metadata": {},
   "outputs": [],
   "source": [
    "ne4_grid_info = xr.open_dataset('./test_data/E3SM-MMF_ne4_grid-info.orig.nc')\n",
    "lon = ne4_grid_info.lon.values\n",
    "lat = ne4_grid_info.lat.values\n",
    "area = ne4_grid_info.area.values\n",
    "hyai = ne4_grid_info.hyai.values\n",
    "hybi = ne4_grid_info.hybi.values\n",
    "PS = ne4_grid_info.PS.values\n",
    "P0 = ne4_grid_info.P0.values"
   ]
  },
  {
   "cell_type": "code",
   "execution_count": 5,
   "id": "e80b0086-9cb7-44ba-85d0-503332ab4422",
   "metadata": {},
   "outputs": [],
   "source": [
    "Pre = convert_to_Pressure(hyai,hybi,PS,P0)"
   ]
  },
  {
   "cell_type": "code",
   "execution_count": 6,
   "id": "162a854d-3175-4812-b7fd-d1751f4acae8",
   "metadata": {},
   "outputs": [],
   "source": [
    "dPre = Pre[:,1:nlev+1] - Pre[:,0:nlev] "
   ]
  },
  {
   "cell_type": "code",
   "execution_count": 7,
   "id": "8ef70822-9a50-4392-8a68-2b69b46ebe95",
   "metadata": {},
   "outputs": [],
   "source": [
    "mli_mean = xr.open_dataset('./norm_factors/mli_mean.nc')\n",
    "mli_min = xr.open_dataset('./norm_factors/mli_min.nc')\n",
    "mli_max = xr.open_dataset('./norm_factors/mli_max.nc')\n",
    "mlo_scale = xr.open_dataset('./norm_factors/mlo_scale.nc')\n",
    "ne4_grid_info = xr.open_dataset('./test_data/E3SM-MMF_ne4_grid-info.orig.nc')\n",
    "\n",
    "def load_nc_dir_with_generator_test(filelist:list, latlim=[-999,999], lonlim=[-999,999]):\n",
    "    def gen():\n",
    "        for file in filelist:\n",
    "            \n",
    "            # read mli\n",
    "            ds = xr.open_dataset(file, engine='netcdf4')\n",
    "            ds = ds[vars_mli]\n",
    "            ds = ds.merge(ne4_grid_info[['lat','lon']])\n",
    "            ds = ds.where((ds['lat']>latlim[0])*(ds['lat']<latlim[1]),drop=True)\n",
    "            ds = ds.where((ds['lon']>lonlim[0])*(ds['lon']<lonlim[1]),drop=True)\n",
    "            \n",
    "            # read mlo\n",
    "            dso = xr.open_dataset(file.replace('.mli.','.mlo.'), engine='netcdf4')\n",
    "            dso = dso.merge(ne4_grid_info[['lat','lon']])\n",
    "            dso = dso.where((dso['lat']>latlim[0])*(dso['lat']<latlim[1]),drop=True)\n",
    "            dso = dso.where((dso['lon']>lonlim[0])*(dso['lon']<lonlim[1]),drop=True)\n",
    "            \n",
    "            # make mlo variales: ptend_t and ptend_q0001\n",
    "            dso['ptend_t'] = (dso['state_t'] - ds['state_t'])/1200 # T tendency [K/s]\n",
    "            dso['ptend_q0001'] = (dso['state_q0001'] - ds['state_q0001'])/1200 # Q tendency [kg/kg/s]\n",
    "            dso = dso[vars_mlo]\n",
    "            \n",
    "            # normalizatoin, scaling\n",
    "            ds = (ds-mli_mean)/(mli_max-mli_min)\n",
    "            dso = dso*mlo_scale\n",
    "\n",
    "            # stack\n",
    "            #ds = ds.stack({'batch':{'sample','ncol'}})\n",
    "            ds = ds.stack({'batch':{'ncol'}})\n",
    "            ds = ds.to_stacked_array(\"mlvar\", sample_dims=[\"batch\"], name='mli')\n",
    "            #dso = dso.stack({'batch':{'sample','ncol'}})\n",
    "            dso = dso.stack({'batch':{'ncol'}})\n",
    "            dso = dso.to_stacked_array(\"mlvar\", sample_dims=[\"batch\"], name='mlo')\n",
    "            \n",
    "            yield (ds.values, dso.values)\n",
    "\n",
    "    return tf.data.Dataset.from_generator(\n",
    "        gen,\n",
    "        output_types=(tf.float64, tf.float64),\n",
    "        output_shapes=((None,124),(None,128))\n",
    "    )"
   ]
  },
  {
   "cell_type": "code",
   "execution_count": 10,
   "id": "768b5d16-79a7-4c63-91e2-e30df1f9cddc",
   "metadata": {},
   "outputs": [],
   "source": [
    "# in/out variable lists\n",
    "vars_mli = ['state_t','state_q0001','state_ps','pbuf_SOLIN', 'pbuf_LHFLX', 'pbuf_SHFLX']\n",
    "vars_mlo = ['ptend_t','ptend_q0001','cam_out_NETSW','cam_out_FLWDS','cam_out_PRECSC','cam_out_PRECC','cam_out_SOLS','cam_out_SOLL','cam_out_SOLSD','cam_out_SOLLD']"
   ]
  },
  {
   "cell_type": "code",
   "execution_count": 11,
   "id": "5d10200d-ba57-4e89-9efd-924f0e7f19cb",
   "metadata": {},
   "outputs": [
    {
     "name": "stdout",
     "output_type": "stream",
     "text": [
      "#files: 2232\n"
     ]
    }
   ],
   "source": [
    "# validation dataset for HPO\n",
    "stride_sample = 5 \n",
    "#f_mli1 = glob.glob('/pscratch/sd/s/sungduk/hugging/E3SM-MMF_ne4/train/*/E3SM-MMF.mli.0008-0[23456789]-*-*.nc')\n",
    "#f_mli2 = glob.glob('/pscratch/sd/s/sungduk/hugging/E3SM-MMF_ne4/train/*/E3SM-MMF.mli.0008-1[012]-*-*.nc')\n",
    "f_mli3 = glob.glob('/pscratch/sd/s/sungduk/hugging/E3SM-MMF_ne4/train/*/E3SM-MMF.mli.0009-01-*-*.nc')\n",
    "#f_mli_val = sorted([*f_mli1, *f_mli2, *f_mli3])\n",
    "f_mli = f_mli3\n",
    "print(f'#files: {len(f_mli)}')"
   ]
  },
  {
   "cell_type": "code",
   "execution_count": 12,
   "id": "4deb0bff-5ff1-47b8-bbd9-fe662584d905",
   "metadata": {},
   "outputs": [
    {
     "name": "stderr",
     "output_type": "stream",
     "text": [
      "2023-05-31 23:14:06.950398: I tensorflow/core/common_runtime/executor.cc:1197] [/device:CPU:0] (DEBUG INFO) Executor start aborting (this does not indicate an error and you can ignore this message): INVALID_ARGUMENT: You must feed a value for placeholder tensor 'Placeholder/_0' with dtype int32\n",
      "\t [[{{node Placeholder/_0}}]]\n"
     ]
    }
   ],
   "source": [
    "tds_test = load_nc_dir_with_generator_test(f_mli)\n",
    "work = list(tds_test.as_numpy_iterator())\n",
    "x_true_n = np.concatenate([ work[k][0] for k in range(len(work)) ])\n",
    "y_true_n = np.concatenate([ work[k][1] for k in range(len(work)) ])"
   ]
  },
  {
   "cell_type": "code",
   "execution_count": 13,
   "id": "20c56a4d-9a2a-4aa2-a405-8df0fe66187f",
   "metadata": {},
   "outputs": [],
   "source": [
    "# This function turns 20 minute increments into daily averages\n",
    "# (384)*ndays*72 = Dim[0]\n",
    "# Output dim: (384)*ndays\n",
    "# Griffin's original version is based on regrided data\n",
    "# This version is based on ne4pg2 grid (384 columns)\n",
    "# This change allow me to use Sungduk's code directly\n",
    "# since he generaged the min/max/scale already\n",
    "def average_data_Griffin_LiranEdited(reconstructed_targets,reconstructed_features):\n",
    "    Dim = reconstructed_targets.shape\n",
    "    x = 384\n",
    "    tnum = 72\n",
    "    t = Dim[0]\n",
    "    z = Dim[1]\n",
    "    ndays = int(t/(tnum*x))\n",
    "    \n",
    "    target_days = np.zeros(shape=(x*ndays,tnum, z))\n",
    "    feat_days = np.zeros(shape=(x*ndays,tnum, z))\n",
    "    day_array_targ = np.zeros(shape=(x,tnum,ndays, z))\n",
    "    day_array_feat = np.zeros(shape=(x,tnum,ndays, z))\n",
    "    #print(day_array_feat.shape)\n",
    "    ncol_count = 0\n",
    "    tstep_count = 0\n",
    "    day_count = 0\n",
    "    \n",
    "    for i in range(t):\n",
    "        temp_targ = reconstructed_targets[i, :]\n",
    "        day_array_targ[ncol_count,tstep_count,day_count, :] = temp_targ\n",
    "        temp_feat = reconstructed_features[i, :]\n",
    "        day_array_feat[ncol_count,tstep_count,day_count,:] = temp_feat\n",
    "        \n",
    "        if (ncol_count == x-1):\n",
    "            ncol_count = 0\n",
    "            tstep_count = tstep_count+1\n",
    "        else:\n",
    "            ncol_count = ncol_count+1\n",
    "        \n",
    "        if (tstep_count == tnum):\n",
    "            tstep_count = 0\n",
    "            day_count = day_count+1   \n",
    "            \n",
    "            \n",
    "    day_array_targ_out = np.nanmean(day_array_targ, axis = 1)\n",
    "    day_array_feat_out = np.nanmean(day_array_feat, axis = 1)\n",
    "    \n",
    "    return day_array_targ_out,day_array_feat_out"
   ]
  },
  {
   "cell_type": "code",
   "execution_count": 14,
   "id": "9fe46fd3-6bd7-41cc-be7f-c0bdba429b55",
   "metadata": {},
   "outputs": [],
   "source": [
    "import os\n",
    "import netCDF4 as nc\n",
    "folder_path = \"/pscratch/sd/h/heroplr/step2_retrain/backup_phase-4_retrained_models\"  # Replace with the actual folder path\n",
    "out_folder = \"/pscratch/sd/h/heroplr/R2_analysis_all/\"\n",
    "Dim_true = x_true_n.shape\n",
    "# Loop through all files in the folder\n",
    "numday = int(Dim_true[0]/ncol/72)\n",
    "filename=\"step2_lot-101_trial_0028.best.h5\"\n",
    "file_path = os.path.join(folder_path, filename)"
   ]
  },
  {
   "cell_type": "code",
   "execution_count": 15,
   "id": "23946bf2-1d1a-49f8-a825-a1f6846dec9a",
   "metadata": {},
   "outputs": [],
   "source": [
    "model = keras.models.load_model(file_path,compile=False)\n",
    "y_pred = model(x_true_n)\n",
    "T_tend_true = y_true_n[:,:60]\n",
    "T_pred_true = y_pred[:,:60]\n",
    "Q_tend_true = y_true_n[:,60:120]\n",
    "Q_pred_true =y_pred[:,60:120]"
   ]
  },
  {
   "cell_type": "code",
   "execution_count": 17,
   "id": "9cb55fce-471f-4b18-8469-a6f1591084c1",
   "metadata": {},
   "outputs": [],
   "source": [
    "mweightpre = np.zeros([ncol,nlev])\n",
    "for k in range(nlev):\n",
    "    mweightpre[:,k]    =  dPre[:,k]/9.8  # dP/g"
   ]
  },
  {
   "cell_type": "code",
   "execution_count": 18,
   "id": "1830305e-55be-4b30-85b7-e0f996de7394",
   "metadata": {},
   "outputs": [],
   "source": [
    "T_tend_true2,T_pred_true2 = average_data_Griffin_LiranEdited(T_tend_true,T_pred_true)\n",
    "Q_tend_true2,Q_pred_true2 = average_data_Griffin_LiranEdited(Q_tend_true,Q_pred_true)"
   ]
  },
  {
   "cell_type": "code",
   "execution_count": 19,
   "id": "3819083d-07e7-45e6-b801-c282df623081",
   "metadata": {},
   "outputs": [],
   "source": [
    "T_tend_true_daymean = np.mean(T_tend_true2,axis=1)\n",
    "T_pred_true_daymean = np.mean(T_pred_true2,axis=1)\n",
    "Q_tend_true_daymean = np.mean(Q_tend_true2,axis=1)\n",
    "Q_pred_true_daymean = np.mean(Q_pred_true2,axis=1)"
   ]
  },
  {
   "cell_type": "code",
   "execution_count": 20,
   "id": "da3b9b8d-b483-4052-bd39-826ec0653d2c",
   "metadata": {},
   "outputs": [],
   "source": [
    "cp_dry_o   = 1006\n",
    "latent_heat_vaporization = 2.501e6 \n",
    "T_tend_true_mweight    = T_tend_true_daymean*mweightpre*cp_dry_o\n",
    "T_pred_true_mweight    = T_pred_true_daymean*mweightpre*cp_dry_o\n",
    "Q_tend_true_mweight    = Q_tend_true_daymean*mweightpre*latent_heat_vaporization\n",
    "Q_pred_true_mweight    = Q_pred_true_daymean*mweightpre*latent_heat_vaporization "
   ]
  },
  {
   "cell_type": "code",
   "execution_count": 21,
   "id": "2cec3822-f8ae-4d51-b063-28f2ed909326",
   "metadata": {},
   "outputs": [],
   "source": [
    "# Create a new NetCDF file\n",
    "filename = file_path[-31:]+\"_mwv7.nc\"\n",
    "file_path_out = os.path.join(out_folder, filename)\n",
    "        \n",
    "ncfile = nc.Dataset(file_path_out, \"w\", format=\"NETCDF4\")\n",
    "\n",
    "# Define the dimensions\n",
    "time_dim = ncfile.createDimension(\"time\", None)  # Unlimited dimension\n",
    "lat_dim = ncfile.createDimension(\"ncol\", ncol)\n",
    "lon_dim = ncfile.createDimension(\"nlev\", nlev)\n",
    "day_dim = ncfile.createDimension(\"nday\", numday)\n",
    "# Create variables\n",
    "time_var = ncfile.createVariable(\"time\", \"f8\", (\"time\",))\n",
    "lon_var = ncfile.createVariable(\"lon\", \"f4\", (\"ncol\",))\n",
    "lat_var = ncfile.createVariable(\"lat\", \"f4\", (\"ncol\",))\n",
    "data_var3 = ncfile.createVariable(\"mwT_tend\", \"f8\", (\"nlev\",\"ncol\"))\n",
    "data_var4 = ncfile.createVariable(\"mwT_pred\", \"f8\", (\"nlev\",\"ncol\"))\n",
    "data_var5 = ncfile.createVariable(\"mwQ_tend\", \"f8\", (\"nlev\",\"ncol\"))\n",
    "data_var6 = ncfile.createVariable(\"mwQ_pred\", \"f8\", (\"nlev\",\"ncol\"))\n",
    "\n",
    "# Assign values to variables\n",
    "time_var[:] = [1]  # Example time values\n",
    "lon_var[:] = lon    # Example latitude values\n",
    "lat_var[:] = lat  # Example longitude values\n",
    "\n",
    "data_var3[:,:] = np.transpose(T_tend_true_mweight)\n",
    "data_var4[:,:] = np.transpose(T_pred_true_mweight)\n",
    "data_var5[:,:] = np.transpose(Q_tend_true_mweight)\n",
    "data_var6[:,:] = np.transpose(Q_pred_true_mweight)\n",
    "# Add global attributes\n",
    "ncfile.description = \"R2\"\n",
    "ncfile.history = \"Created by Liran\"\n",
    "\n",
    "# Close the NetCDF file\n",
    "ncfile.close()\n",
    "    "
   ]
  },
  {
   "cell_type": "code",
   "execution_count": 37,
   "id": "6a9c4d7f-8217-4844-b1ef-bc6237d5d0c5",
   "metadata": {},
   "outputs": [
    {
     "data": {
      "text/plain": [
       "array([[ 7.91704547e-01,  1.97721543e+01,  9.14825877e-03, ...,\n",
       "        -2.11405090e+07, -1.90902322e+07, -1.53731224e+07],\n",
       "       [ 7.98493601e-01,  2.04567410e+01,  4.82251249e-01, ...,\n",
       "        -2.46353390e+07, -2.63060303e+07, -2.22593401e+07],\n",
       "       [ 8.41622522e-01,  2.29387579e+01,  1.36609745e-01, ...,\n",
       "        -3.32867803e+07, -2.94096615e+07, -2.39751447e+07],\n",
       "       ...,\n",
       "       [ 2.69922849e-01,  1.02774629e+01,  9.42671631e-01, ...,\n",
       "        -1.70180005e+06,  3.44317063e+06,  1.43468133e+07],\n",
       "       [ 5.70988483e-01,  1.70196957e+01, -4.37779091e-02, ...,\n",
       "         1.69786125e+07,  2.64174654e+07,  2.96745203e+07],\n",
       "       [ 5.91387573e-01,  1.57626410e+01,  4.15191256e-01, ...,\n",
       "         8.47490755e+06,  1.56238896e+07,  1.68826972e+07]])"
      ]
     },
     "execution_count": 37,
     "metadata": {},
     "output_type": "execute_result"
    }
   ],
   "source": [
    "Q_pred_true_daymean*mweightpre*latent_heat_vaporization"
   ]
  },
  {
   "cell_type": "code",
   "execution_count": 39,
   "id": "e376abda-09b4-41b2-b708-2f3461090645",
   "metadata": {},
   "outputs": [
    {
     "data": {
      "text/plain": [
       "array([[  0.        ,   0.        ,   0.        , ...,  -9.29880766,\n",
       "         -7.8545083 ,  -7.57065786],\n",
       "       [  0.        ,   0.        ,   0.        , ..., -10.6481393 ,\n",
       "        -11.45301205, -10.43584406],\n",
       "       [  0.        ,   0.        ,   0.        , ..., -11.11197566,\n",
       "        -10.35175524,  -9.53319232],\n",
       "       ...,\n",
       "       [  0.        ,   0.        ,   0.        , ...,  -1.53546201,\n",
       "          0.73138866,   5.0305411 ],\n",
       "       [  0.        ,   0.        ,   0.        , ...,   7.18744831,\n",
       "          9.08036054,  10.00338113],\n",
       "       [  0.        ,   0.        ,   0.        , ...,   2.63099588,\n",
       "          4.84712823,   5.87937678]])"
      ]
     },
     "execution_count": 39,
     "metadata": {},
     "output_type": "execute_result"
    }
   ],
   "source": [
    "Q_tend_true_daymean*mweightpre"
   ]
  },
  {
   "cell_type": "code",
   "execution_count": 35,
   "id": "68865dca-798a-484c-a35a-6a2cb3dc310d",
   "metadata": {},
   "outputs": [
    {
     "data": {
      "text/plain": [
       "array([[ 6.26984715e+00,  4.27084536e+00,  3.08678181e+01, ...,\n",
       "        -8.71830039e+01, -1.17413186e+03, -4.52326301e+03],\n",
       "       [ 7.00858172e+00,  2.94994946e+00,  3.15487315e+01, ...,\n",
       "         8.09643166e+02, -2.54908567e+02, -4.12383654e+03],\n",
       "       [ 4.25685480e+00,  3.51064717e-01,  1.83241209e+01, ...,\n",
       "         6.14965720e+02, -1.97795536e+03, -1.00127329e+04],\n",
       "       ...,\n",
       "       [-1.01284031e+00, -2.12884899e+01, -3.04141918e+01, ...,\n",
       "        -2.13660916e+03, -4.96020327e+03, -9.70513408e+03],\n",
       "       [-1.56064617e+00, -2.53805508e+01, -3.58115412e+01, ...,\n",
       "        -6.30918793e+03, -1.22065922e+04, -2.23815776e+04],\n",
       "       [-1.54803969e+00, -2.89294434e+01, -3.42962165e+01, ...,\n",
       "        -5.19248918e+03, -1.05121594e+04, -1.99591239e+04]])"
      ]
     },
     "execution_count": 35,
     "metadata": {},
     "output_type": "execute_result"
    }
   ],
   "source": [
    "T_tend_true_daymean*mweightpre*cp_dry_o"
   ]
  },
  {
   "cell_type": "code",
   "execution_count": 36,
   "id": "7550c13e-eadf-4269-8ef8-6cf50ff66a69",
   "metadata": {},
   "outputs": [
    {
     "data": {
      "text/plain": [
       "array([[ 6.01962860e+00,  7.38933522e+00,  3.76484774e+01, ...,\n",
       "        -4.02879291e+02, -1.57335896e+03, -5.28923856e+03],\n",
       "       [ 7.18102170e+00,  4.15699208e+00,  3.68084969e+01, ...,\n",
       "         4.50867126e+02, -5.98607804e+02, -4.74713790e+03],\n",
       "       [ 3.31197719e+00,  3.46639950e+00,  2.46805505e+01, ...,\n",
       "         5.88821959e+02, -2.54821723e+03, -1.07308687e+04],\n",
       "       ...,\n",
       "       [ 4.72626600e-01, -2.14670692e+01, -2.81643660e+01, ...,\n",
       "        -2.33192802e+03, -5.16943392e+03, -1.01330786e+04],\n",
       "       [-2.25709572e+00, -2.73062648e+01, -3.07144266e+01, ...,\n",
       "        -6.36864550e+03, -1.24304647e+04, -2.20538137e+04],\n",
       "       [-2.61002373e+00, -2.93857447e+01, -2.91604102e+01, ...,\n",
       "        -5.65467515e+03, -1.09535505e+04, -2.03086027e+04]])"
      ]
     },
     "execution_count": 36,
     "metadata": {},
     "output_type": "execute_result"
    }
   ],
   "source": [
    "T_pred_true_daymean*mweightpre*cp_dry_o"
   ]
  },
  {
   "cell_type": "code",
   "execution_count": 42,
   "id": "723cc162-206a-4baf-a8ce-584f2e5ba103",
   "metadata": {},
   "outputs": [
    {
     "data": {
      "text/plain": [
       "array([5.58810705e+00, 1.00814552e+01, 1.81402085e+01, 3.24444509e+01,\n",
       "       5.74056761e+01, 9.98635562e+01, 1.69607596e+02, 2.79347861e+02,\n",
       "       4.43938435e+02, 6.79228850e+02, 1.00142179e+03, 1.42747608e+03,\n",
       "       1.97588953e+03, 2.66627009e+03, 3.51659916e+03, 4.53891697e+03,\n",
       "       5.73600949e+03, 7.10183619e+03, 8.62609533e+03, 1.02999231e+04,\n",
       "       1.21183316e+04, 1.40772291e+04, 1.61670345e+04, 1.83692322e+04,\n",
       "       2.06759858e+04, 2.30328226e+04, 2.54156347e+04, 2.78156725e+04,\n",
       "       3.02400640e+04, 3.27059992e+04, 3.52325139e+04, 3.78342192e+04,\n",
       "       4.05191007e+04, 4.32895607e+04, 4.61440398e+04, 4.90766978e+04,\n",
       "       5.20744951e+04, 5.51134202e+04, 5.81570611e+04, 6.11601554e+04,\n",
       "       6.40771765e+04, 6.68727465e+04, 6.95288798e+04, 7.20452832e+04,\n",
       "       7.44326781e+04, 7.67029766e+04, 7.88616250e+04, 8.09057959e+04,\n",
       "       8.28285929e+04, 8.46262341e+04, 8.63040154e+04, 8.78781103e+04,\n",
       "       8.93728764e+04, 9.08155985e+04, 9.22313283e+04, 9.36396804e+04,\n",
       "       9.50540223e+04, 9.64823927e+04, 9.79291223e+04, 9.93963669e+04,\n",
       "       1.00885203e+05])"
      ]
     },
     "execution_count": 42,
     "metadata": {},
     "output_type": "execute_result"
    }
   ],
   "source": [
    "Pre[3,:]"
   ]
  },
  {
   "cell_type": "code",
   "execution_count": null,
   "id": "a509c89c-8c81-4ecb-acf1-14f14b339682",
   "metadata": {},
   "outputs": [],
   "source": []
  },
  {
   "cell_type": "code",
   "execution_count": null,
   "id": "527b7d27-ab03-4c67-b3e6-81c1994648ee",
   "metadata": {},
   "outputs": [],
   "source": []
  }
 ],
 "metadata": {
  "kernelspec": {
   "display_name": "NERSC Python",
   "language": "python",
   "name": "python3"
  },
  "language_info": {
   "codemirror_mode": {
    "name": "ipython",
    "version": 3
   },
   "file_extension": ".py",
   "mimetype": "text/x-python",
   "name": "python",
   "nbconvert_exporter": "python",
   "pygments_lexer": "ipython3",
   "version": "3.9.7"
  }
 },
 "nbformat": 4,
 "nbformat_minor": 5
}
