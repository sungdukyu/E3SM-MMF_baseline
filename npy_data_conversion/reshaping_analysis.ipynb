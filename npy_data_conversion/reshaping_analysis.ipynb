{
 "cells": [
  {
   "cell_type": "code",
   "execution_count": 1,
   "id": "5fbf8625-98ea-44ee-95bd-3a1095c392cc",
   "metadata": {},
   "outputs": [
    {
     "name": "stderr",
     "output_type": "stream",
     "text": [
      "2023-05-30 20:58:23.908200: I tensorflow/core/platform/cpu_feature_guard.cc:193] This TensorFlow binary is optimized with oneAPI Deep Neural Network Library (oneDNN) to use the following CPU instructions in performance-critical operations:  AVX2 FMA\n",
      "To enable them in other operations, rebuild TensorFlow with the appropriate compiler flags.\n",
      "2023-05-30 20:58:33.411032: E tensorflow/stream_executor/cuda/cuda_blas.cc:2981] Unable to register cuBLAS factory: Attempting to register factory for plugin cuBLAS when one has already been registered\n",
      "2023-05-30 20:58:55.468718: W tensorflow/stream_executor/platform/default/dso_loader.cc:64] Could not load dynamic library 'libnvinfer.so.7'; dlerror: libnvinfer.so.7: cannot open shared object file: No such file or directory; LD_LIBRARY_PATH: :/jet/home/jlin96/.conda/envs/tf2/lib/\n",
      "2023-05-30 20:58:55.469214: W tensorflow/stream_executor/platform/default/dso_loader.cc:64] Could not load dynamic library 'libnvinfer_plugin.so.7'; dlerror: libnvinfer_plugin.so.7: cannot open shared object file: No such file or directory; LD_LIBRARY_PATH: :/jet/home/jlin96/.conda/envs/tf2/lib/\n",
      "2023-05-30 20:58:55.469225: W tensorflow/compiler/tf2tensorrt/utils/py_utils.cc:38] TF-TRT Warning: Cannot dlopen some TensorRT libraries. If you would like to use Nvidia GPU with TensorRT, please make sure the missing libraries mentioned above are installed properly.\n"
     ]
    }
   ],
   "source": [
    "import pandas as pd\n",
    "from scipy import stats\n",
    "from matplotlib import cm, colors\n",
    "from mpl_toolkits.axes_grid1 import ImageGrid\n",
    "import json\n",
    "import pickle\n",
    "import csv\n",
    "import xarray as xr\n",
    "import numpy as np\n",
    "import matplotlib.pyplot as plt\n",
    "import glob, os\n",
    "import random\n",
    "import pickle\n",
    "import re\n",
    "\n",
    "import tensorflow as tf\n",
    "from tensorflow import keras"
   ]
  },
  {
   "cell_type": "code",
   "execution_count": 2,
   "id": "71d9b9ed-458c-4235-b3de-90a2a2a96895",
   "metadata": {},
   "outputs": [],
   "source": [
    "# in/out variable lists\n",
    "vars_mli = ['state_t','state_q0001','state_ps','pbuf_SOLIN', 'pbuf_LHFLX', 'pbuf_SHFLX']\n",
    "vars_mlo = ['ptend_t','ptend_q0001','cam_out_NETSW','cam_out_FLWDS','cam_out_PRECSC','cam_out_PRECC','cam_out_SOLS','cam_out_SOLL','cam_out_SOLSD','cam_out_SOLLD']"
   ]
  },
  {
   "cell_type": "code",
   "execution_count": 3,
   "id": "4aced78a",
   "metadata": {},
   "outputs": [
    {
     "name": "stdout",
     "output_type": "stream",
     "text": [
      "/ocean/projects/atm200007p/jlin96/neurips_proj/e3sm_train_npy\n"
     ]
    }
   ],
   "source": [
    "!pwd"
   ]
  },
  {
   "cell_type": "code",
   "execution_count": 4,
   "id": "77aca7f9",
   "metadata": {},
   "outputs": [],
   "source": [
    "# change these for your HPC and repo path\n",
    "data_path = '/ocean/projects/atm200007p/walrus/for_jerry/train/'\n",
    "norm_path = '/ocean/projects/atm200007p/jlin96/neurips_proj/mooers_metrics/norm_factors/'\n",
    "grid_path = '/ocean/projects/atm200007p/jlin96/neurips_proj/mooers_metrics/test_data/E3SM-MMF_ne4_grid-info.orig.nc'\n",
    "save_path = '/ocean/projects/atm200007p/jlin96/neurips_proj/e3sm_train_npy/'"
   ]
  },
  {
   "cell_type": "code",
   "execution_count": 5,
   "id": "4418fb23-4499-4d45-bbd2-8b63b21d91c3",
   "metadata": {},
   "outputs": [],
   "source": [
    "# new dataset generator function\n",
    "# that has new options (latlim, lonlim)\n",
    "\n",
    "mli_mean = xr.open_dataset(norm_path + 'mli_mean.nc')\n",
    "mli_min = xr.open_dataset(norm_path + 'mli_min.nc')\n",
    "mli_max = xr.open_dataset(norm_path + 'mli_max.nc')\n",
    "mlo_scale = xr.open_dataset(norm_path + 'mlo_scale.nc')\n",
    "ne4_grid_info = xr.open_dataset(grid_path)"
   ]
  },
  {
   "cell_type": "code",
   "execution_count": 6,
   "id": "9632043e-81c6-4b4d-93fa-20c608d3a758",
   "metadata": {},
   "outputs": [],
   "source": [
    "def ls(data_path = \"\"):\n",
    "    return os.popen(\" \".join([\"ls\", data_path])).read().splitlines()\n",
    "\n",
    "def concatenate_arrays(xrdata, vars):\n",
    "    return np.concatenate([np.atleast_1d(xrdata[var].values) for var in vars])"
   ]
  },
  {
   "cell_type": "code",
   "execution_count": 7,
   "id": "eee00472-b862-4551-949f-8b1a99a89e9e",
   "metadata": {},
   "outputs": [],
   "source": [
    "mli_mean_npy = concatenate_arrays(mli_mean, vars_mli)\n",
    "mli_min_npy = concatenate_arrays(mli_min, vars_mli)\n",
    "mli_max_npy = concatenate_arrays(mli_max, vars_mli)\n",
    "mlo_scale_npy = concatenate_arrays(mlo_scale, vars_mlo)"
   ]
  },
  {
   "attachments": {},
   "cell_type": "markdown",
   "id": "ea9de59a-0d4a-4774-a2cb-bcf26791fba6",
   "metadata": {},
   "source": [
    "# Debugging"
   ]
  },
  {
   "cell_type": "code",
   "execution_count": 97,
   "id": "fc89429e-01cb-42cb-a3ca-31e32a8353ed",
   "metadata": {},
   "outputs": [],
   "source": [
    "latlim=[-999,999]\n",
    "lonlim=[-999,999]\n",
    "\n",
    "def showme_i(file):\n",
    "    '''\n",
    "    This function reads in a file and returns an xarray dataset with the input variables for the emulator.\n",
    "    '''\n",
    "    ds = xr.open_dataset(file, engine = 'netcdf4')\n",
    "    ds = ds[vars_mli]\n",
    "    ds = ds.merge(ne4_grid_info[['lat','lon']])\n",
    "    ds = ds.where((ds['lat']>latlim[0])*(ds['lat']<latlim[1]),drop=True)\n",
    "    ds = ds.where((ds['lon']>lonlim[0])*(ds['lon']<lonlim[1]),drop=True)\n",
    "    return(ds)\n",
    "\n",
    "def showme_o(file):\n",
    "    '''\n",
    "    This function reads in a file and returns an xarray dataset with the output variables for the emulator.\n",
    "    '''\n",
    "    # read mli\n",
    "    ds = xr.open_dataset(file, engine='netcdf4')\n",
    "    ds = ds[vars_mli]\n",
    "    ds = ds.merge(ne4_grid_info[['lat','lon']])\n",
    "    ds = ds.where((ds['lat']>latlim[0])*(ds['lat']<latlim[1]),drop=True)\n",
    "    ds = ds.where((ds['lon']>lonlim[0])*(ds['lon']<lonlim[1]),drop=True)\n",
    "\n",
    "    # read mlo\n",
    "    dso = xr.open_dataset(file.replace('.mli.','.mlo.'), engine='netcdf4')\n",
    "    dso = dso.merge(ne4_grid_info[['lat','lon']])\n",
    "    dso = dso.where((dso['lat']>latlim[0])*(dso['lat']<latlim[1]),drop=True)\n",
    "    dso = dso.where((dso['lon']>lonlim[0])*(dso['lon']<lonlim[1]),drop=True)\n",
    "\n",
    "    # make mlo variales: ptend_t and ptend_q0001\n",
    "    dso['ptend_t'] = (dso['state_t'] - ds['state_t'])/1200 # T tendency [K/s]\n",
    "    dso['ptend_q0001'] = (dso['state_q0001'] - ds['state_q0001'])/1200 # Q tendency [kg/kg/s]\n",
    "    dso = dso[vars_mlo]\n",
    "\n",
    "    # normalization, scaling\n",
    "    # dso = dso*mlo_scale\n",
    "\n",
    "    # stack\n",
    "    #dso = dso.stack({'batch':{'sample','ncol'}})\n",
    "    # dso = dso.stack({'batch':{'ncol'}})\n",
    "    # dso = dso.to_stacked_array(\"mlvar\", sample_dims=[\"batch\"], name='mlo')\n",
    "    return dso\n",
    "\n",
    "def load_nc_dir_with_generator_test(filelist:list, latlim=[-999,999], lonlim=[-999,999]):\n",
    "    '''\n",
    "    This function works as a dataloader when training the emulator with raw netCDF files.\n",
    "    '''\n",
    "    def gen():\n",
    "        for file in filelist:\n",
    "            \n",
    "            # read mli\n",
    "            ds = xr.open_dataset(file, engine='netcdf4')\n",
    "            ds = ds[vars_mli]\n",
    "            ds = ds.merge(ne4_grid_info[['lat','lon']])\n",
    "            ds = ds.where((ds['lat']>latlim[0])*(ds['lat']<latlim[1]),drop=True)\n",
    "            ds = ds.where((ds['lon']>lonlim[0])*(ds['lon']<lonlim[1]),drop=True)\n",
    "            \n",
    "            # read mlo\n",
    "            dso = xr.open_dataset(file.replace('.mli.','.mlo.'), engine='netcdf4')\n",
    "            dso = dso.merge(ne4_grid_info[['lat','lon']])\n",
    "            dso = dso.where((dso['lat']>latlim[0])*(dso['lat']<latlim[1]),drop=True)\n",
    "            dso = dso.where((dso['lon']>lonlim[0])*(dso['lon']<lonlim[1]),drop=True)\n",
    "            \n",
    "            # make mlo variales: ptend_t and ptend_q0001\n",
    "            dso['ptend_t'] = (dso['state_t'] - ds['state_t'])/1200 # T tendency [K/s]\n",
    "            dso['ptend_q0001'] = (dso['state_q0001'] - ds['state_q0001'])/1200 # Q tendency [kg/kg/s]\n",
    "            dso = dso[vars_mlo]\n",
    "            \n",
    "            # normalization, scaling\n",
    "            ds = (ds-mli_mean)/(mli_max-mli_min)\n",
    "            dso = dso*mlo_scale\n",
    "\n",
    "            # stack\n",
    "            #ds = ds.stack({'batch':{'sample','ncol'}})\n",
    "            ds = ds.stack({'batch':{'ncol'}})\n",
    "            ds = ds.to_stacked_array(\"mlvar\", sample_dims=[\"batch\"], name='mli')\n",
    "            #dso = dso.stack({'batch':{'sample','ncol'}})\n",
    "            dso = dso.stack({'batch':{'ncol'}})\n",
    "            dso = dso.to_stacked_array(\"mlvar\", sample_dims=[\"batch\"], name='mlo')\n",
    "            \n",
    "            yield (ds.values, dso.values)\n",
    "\n",
    "    return tf.data.Dataset.from_generator(\n",
    "        gen,\n",
    "        output_types=(tf.float64, tf.float64),\n",
    "        output_shapes=((None,124),(None,128))\n",
    "    )\n",
    "\n",
    "def reshape_npy(var_arr, var_arr_dim):\n",
    "    '''\n",
    "    This function reshapes the saved numpy datasets such that time gets its own axis.\n",
    "    Shape of output would be (timestep, lat lon combo, var_arr_dim)\n",
    "    '''\n",
    "    var_arr = var_arr.reshape((int(var_arr.shape[0]/384), 384, var_arr_dim))\n",
    "    return(var_arr)\n",
    "\n",
    "def unscale_ps(ps):\n",
    "    '''\n",
    "    This function unscales the pressure variable so that it can be used to create a pressure grid.\n",
    "    '''\n",
    "    return ps * (mli_max[\"state_ps\"].values - mli_min[\"state_ps\"].values) + mli_mean[\"state_ps\"].values\n",
    "\n",
    "def getdates(*args, stride_sample):\n",
    "    '''\n",
    "    This function takes in a list of file endings and returns a list of dates corresponding to the files.\n",
    "    '''\n",
    "    f_mli_data = []\n",
    "    for arg in args:\n",
    "        f_mli_data = f_mli_data + glob.glob(data_path + arg)\n",
    "    f_mli_data = sorted(f_mli_data)[::stride_sample]\n",
    "    dates = [re.sub(\"^.*mli\\.\", \"\", x) for x in f_mli_data]\n",
    "    dates = [re.sub(\"\\.nc$\", \"\", x) for x in dates]\n",
    "    repeat_dates = []\n",
    "    for date in dates:\n",
    "        for i in range(384):\n",
    "            repeat_dates.append(date)\n",
    "    return repeat_dates\n",
    "\n",
    "# with open(save_path + 'indextolatlons.pkl', 'wb') as f:\n",
    "#     pickle.dump(latlons, f)"
   ]
  },
  {
   "cell_type": "code",
   "execution_count": 12,
   "id": "1e595fab-cab1-44c8-9035-19d0f854401f",
   "metadata": {},
   "outputs": [],
   "source": [
    "# with open(save_path + 'train_input.npy', 'rb') as f:\n",
    "#     train_input = np.load(f)\n",
    "\n",
    "# with open(save_path + 'train_target.npy', 'rb') as f:\n",
    "#     train_target = np.load(f)\n",
    "    \n",
    "with open(save_path + 'val_input_stride6.npy', 'rb') as f:\n",
    "    val_input = np.load(f)"
   ]
  },
  {
   "cell_type": "code",
   "execution_count": 66,
   "id": "f635573b-2e38-4206-937f-2397deaa57aa",
   "metadata": {},
   "outputs": [],
   "source": [
    "val_ps = val_input[:,120]\n",
    "unscaled_val_ps = unscale_ps(val_ps)[:, np.newaxis]\n",
    "num_samples = unscaled_val_ps.shape[0]\n",
    "hyam_component = np.repeat(ne4_grid_info[\"hyam\"].values[np.newaxis, :], num_samples, axis=0)*1e5\n",
    "hybm_component = np.repeat(ne4_grid_info[\"hybm\"].values[np.newaxis, :], num_samples, axis=0)*unscaled_val_ps\n",
    "pressure_grid_val = hyam_component + hybm_component\n",
    "\n",
    "with open(save_path + \"pressures_val_stride6.npy\", 'wb') as f:\n",
    "    np.save(f, np.float32(pressure_grid_val))"
   ]
  },
  {
   "cell_type": "code",
   "execution_count": 98,
   "id": "4c0705fb-9b86-469a-9509-c08c49bfc77b",
   "metadata": {},
   "outputs": [],
   "source": [
    "val_dates = getdates('*/E3SM-MMF.mli.0008-0[23456789]-*-*.nc', '*/E3SM-MMF.mli.0008-1[012]-*-*.nc', '*/E3SM-MMF.mli.0009-01-*-*.nc', stride_sample = 6)"
   ]
  },
  {
   "cell_type": "code",
   "execution_count": 99,
   "id": "1621fed3-01f7-4904-a1c5-e2d559bedf42",
   "metadata": {},
   "outputs": [
    {
     "data": {
      "text/plain": [
       "1681920"
      ]
     },
     "execution_count": 99,
     "metadata": {},
     "output_type": "execute_result"
    }
   ],
   "source": [
    "len(val_dates)"
   ]
  },
  {
   "cell_type": "code",
   "execution_count": 89,
   "id": "9da33472-ab4a-4f56-99a7-def27b9d4f1d",
   "metadata": {},
   "outputs": [
    {
     "data": {
      "text/plain": [
       "(1681920, 124)"
      ]
     },
     "execution_count": 89,
     "metadata": {},
     "output_type": "execute_result"
    }
   ],
   "source": [
    "val_input.shape"
   ]
  },
  {
   "cell_type": "code",
   "execution_count": 121,
   "id": "778f2d96-9622-402e-8f4a-87712d18f261",
   "metadata": {},
   "outputs": [],
   "source": [
    "latlontime = {i: [(ne4_grid_info[\"lat\"].values[i%384], ne4_grid_info[\"lon\"].values[i%384]), val_dates[i]] for i in range(val_input.shape[0])}"
   ]
  },
  {
   "cell_type": "code",
   "execution_count": 122,
   "id": "1cfaf1ce-5949-4405-829b-c39e2a86fb32",
   "metadata": {},
   "outputs": [],
   "source": [
    "with open(save_path + 'indextolatlontime.pkl', 'wb') as f:\n",
    "    pickle.dump(latlontime, f)"
   ]
  },
  {
   "cell_type": "code",
   "execution_count": 123,
   "id": "d2db8e0c-9a76-4e65-bd52-9b91160468a9",
   "metadata": {},
   "outputs": [
    {
     "name": "stdout",
     "output_type": "stream",
     "text": [
      "finished\n"
     ]
    }
   ],
   "source": [
    "print('finished')"
   ]
  }
 ],
 "metadata": {
  "kernelspec": {
   "display_name": "Python 3 (ipykernel)",
   "language": "python",
   "name": "python3"
  },
  "language_info": {
   "codemirror_mode": {
    "name": "ipython",
    "version": 3
   },
   "file_extension": ".py",
   "mimetype": "text/x-python",
   "name": "python",
   "nbconvert_exporter": "python",
   "pygments_lexer": "ipython3",
   "version": "3.8.5"
  }
 },
 "nbformat": 4,
 "nbformat_minor": 5
}
